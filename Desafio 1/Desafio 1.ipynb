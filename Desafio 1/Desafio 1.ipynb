{
 "cells": [
  {
   "cell_type": "code",
   "execution_count": 64,
   "metadata": {},
   "outputs": [],
   "source": [
    "import pandas as pd\n",
    "import matplotlib.pyplot as plt\n",
    "import seaborn as sns\n",
    "import sklearn\n",
    "import numpy as np\n",
    "%matplotlib inline"
   ]
  },
  {
   "cell_type": "code",
   "execution_count": 2,
   "metadata": {},
   "outputs": [],
   "source": [
    "df1 = pd.read_csv('ACCOUNTS.csv')\n",
    "df2 = pd.read_csv('DEMOGRAPHICS.csv')\n",
    "df3 = pd.read_csv('LOANS.csv')"
   ]
  },
  {
   "cell_type": "code",
   "execution_count": 3,
   "metadata": {},
   "outputs": [
    {
     "data": {
      "text/html": [
       "<div>\n",
       "<style scoped>\n",
       "    .dataframe tbody tr th:only-of-type {\n",
       "        vertical-align: middle;\n",
       "    }\n",
       "\n",
       "    .dataframe tbody tr th {\n",
       "        vertical-align: top;\n",
       "    }\n",
       "\n",
       "    .dataframe thead th {\n",
       "        text-align: right;\n",
       "    }\n",
       "</style>\n",
       "<table border=\"1\" class=\"dataframe\">\n",
       "  <thead>\n",
       "    <tr style=\"text-align: right;\">\n",
       "      <th></th>\n",
       "      <th>ID</th>\n",
       "      <th>CHECKING_BALANCE</th>\n",
       "      <th>CREDIT_HISTORY</th>\n",
       "      <th>EXISTING_SAVINGS</th>\n",
       "      <th>EXISTING_CREDITS_COUNT</th>\n",
       "    </tr>\n",
       "  </thead>\n",
       "  <tbody>\n",
       "    <tr>\n",
       "      <th>0</th>\n",
       "      <td>291655</td>\n",
       "      <td>-566.53</td>\n",
       "      <td>ALL_CREDITS_PAID_BACK</td>\n",
       "      <td>36.42</td>\n",
       "      <td>1.0</td>\n",
       "    </tr>\n",
       "    <tr>\n",
       "      <th>1</th>\n",
       "      <td>657079</td>\n",
       "      <td>-1673.16</td>\n",
       "      <td>CREDITS_PAID_TO_DATE</td>\n",
       "      <td>22.9</td>\n",
       "      <td>1.0</td>\n",
       "    </tr>\n",
       "    <tr>\n",
       "      <th>2</th>\n",
       "      <td>256050</td>\n",
       "      <td>NO_CHECKING</td>\n",
       "      <td>CREDITS_PAID_TO_DATE</td>\n",
       "      <td>450.35</td>\n",
       "      <td>2.0</td>\n",
       "    </tr>\n",
       "    <tr>\n",
       "      <th>3</th>\n",
       "      <td>1039151</td>\n",
       "      <td>-1471.03</td>\n",
       "      <td>PRIOR_PAYMENTS_DELAYED</td>\n",
       "      <td>805.71</td>\n",
       "      <td>2.0</td>\n",
       "    </tr>\n",
       "    <tr>\n",
       "      <th>4</th>\n",
       "      <td>1002660</td>\n",
       "      <td>NO_CHECKING</td>\n",
       "      <td>CREDITS_PAID_TO_DATE</td>\n",
       "      <td>295.03</td>\n",
       "      <td>1.0</td>\n",
       "    </tr>\n",
       "    <tr>\n",
       "      <th>...</th>\n",
       "      <td>...</td>\n",
       "      <td>...</td>\n",
       "      <td>...</td>\n",
       "      <td>...</td>\n",
       "      <td>...</td>\n",
       "    </tr>\n",
       "    <tr>\n",
       "      <th>2472</th>\n",
       "      <td>636739</td>\n",
       "      <td>163.82</td>\n",
       "      <td>CREDITS_PAID_TO_DATE</td>\n",
       "      <td>472.11</td>\n",
       "      <td>1.0</td>\n",
       "    </tr>\n",
       "    <tr>\n",
       "      <th>2473</th>\n",
       "      <td>919733</td>\n",
       "      <td>14324.23</td>\n",
       "      <td>PRIOR_PAYMENTS_DELAYED</td>\n",
       "      <td>18652.44</td>\n",
       "      <td>1.0</td>\n",
       "    </tr>\n",
       "    <tr>\n",
       "      <th>2474</th>\n",
       "      <td>115839</td>\n",
       "      <td>130.13</td>\n",
       "      <td>PRIOR_PAYMENTS_DELAYED</td>\n",
       "      <td>726.78</td>\n",
       "      <td>2.0</td>\n",
       "    </tr>\n",
       "    <tr>\n",
       "      <th>2475</th>\n",
       "      <td>1128684</td>\n",
       "      <td>NO_CHECKING</td>\n",
       "      <td>PRIOR_PAYMENTS_DELAYED</td>\n",
       "      <td>UNKNOWN</td>\n",
       "      <td>1.0</td>\n",
       "    </tr>\n",
       "    <tr>\n",
       "      <th>2476</th>\n",
       "      <td>5547</td>\n",
       "      <td>NO_CHECKING</td>\n",
       "      <td>PRIOR_PAYMENTS_DELAYED</td>\n",
       "      <td>UNKNOWN</td>\n",
       "      <td>2.0</td>\n",
       "    </tr>\n",
       "  </tbody>\n",
       "</table>\n",
       "<p>2477 rows × 5 columns</p>\n",
       "</div>"
      ],
      "text/plain": [
       "           ID CHECKING_BALANCE          CREDIT_HISTORY EXISTING_SAVINGS  \\\n",
       "0      291655          -566.53   ALL_CREDITS_PAID_BACK            36.42   \n",
       "1      657079         -1673.16    CREDITS_PAID_TO_DATE             22.9   \n",
       "2      256050      NO_CHECKING    CREDITS_PAID_TO_DATE           450.35   \n",
       "3     1039151         -1471.03  PRIOR_PAYMENTS_DELAYED           805.71   \n",
       "4     1002660      NO_CHECKING    CREDITS_PAID_TO_DATE           295.03   \n",
       "...       ...              ...                     ...              ...   \n",
       "2472   636739           163.82    CREDITS_PAID_TO_DATE           472.11   \n",
       "2473   919733         14324.23  PRIOR_PAYMENTS_DELAYED         18652.44   \n",
       "2474   115839           130.13  PRIOR_PAYMENTS_DELAYED           726.78   \n",
       "2475  1128684      NO_CHECKING  PRIOR_PAYMENTS_DELAYED          UNKNOWN   \n",
       "2476     5547      NO_CHECKING  PRIOR_PAYMENTS_DELAYED          UNKNOWN   \n",
       "\n",
       "      EXISTING_CREDITS_COUNT  \n",
       "0                        1.0  \n",
       "1                        1.0  \n",
       "2                        2.0  \n",
       "3                        2.0  \n",
       "4                        1.0  \n",
       "...                      ...  \n",
       "2472                     1.0  \n",
       "2473                     1.0  \n",
       "2474                     2.0  \n",
       "2475                     1.0  \n",
       "2476                     2.0  \n",
       "\n",
       "[2477 rows x 5 columns]"
      ]
     },
     "execution_count": 3,
     "metadata": {},
     "output_type": "execute_result"
    }
   ],
   "source": [
    "df1"
   ]
  },
  {
   "cell_type": "code",
   "execution_count": 4,
   "metadata": {},
   "outputs": [
    {
     "data": {
      "text/html": [
       "<div>\n",
       "<style scoped>\n",
       "    .dataframe tbody tr th:only-of-type {\n",
       "        vertical-align: middle;\n",
       "    }\n",
       "\n",
       "    .dataframe tbody tr th {\n",
       "        vertical-align: top;\n",
       "    }\n",
       "\n",
       "    .dataframe thead th {\n",
       "        text-align: right;\n",
       "    }\n",
       "</style>\n",
       "<table border=\"1\" class=\"dataframe\">\n",
       "  <thead>\n",
       "    <tr style=\"text-align: right;\">\n",
       "      <th></th>\n",
       "      <th>ID</th>\n",
       "      <th>SEX</th>\n",
       "      <th>AGE</th>\n",
       "      <th>JOB_TYPE</th>\n",
       "      <th>DEPENDENTS</th>\n",
       "      <th>TELEPHONE</th>\n",
       "      <th>FOREIGN_WORKER</th>\n",
       "      <th>EMPLOYMENT_DURATION</th>\n",
       "      <th>PROPERTY</th>\n",
       "      <th>HOUSING</th>\n",
       "      <th>CURRENT_RESIDENCE_DURATION</th>\n",
       "    </tr>\n",
       "  </thead>\n",
       "  <tbody>\n",
       "    <tr>\n",
       "      <th>0</th>\n",
       "      <td>24252</td>\n",
       "      <td>M</td>\n",
       "      <td>47.0</td>\n",
       "      <td>3.0</td>\n",
       "      <td>1.0</td>\n",
       "      <td>0.0</td>\n",
       "      <td>1.0</td>\n",
       "      <td>14.0</td>\n",
       "      <td>SAVINGS_INSURANCE</td>\n",
       "      <td>OWN</td>\n",
       "      <td>3.0</td>\n",
       "    </tr>\n",
       "    <tr>\n",
       "      <th>1</th>\n",
       "      <td>1002018</td>\n",
       "      <td>M</td>\n",
       "      <td>19.0</td>\n",
       "      <td>3.0</td>\n",
       "      <td>1.0</td>\n",
       "      <td>0.0</td>\n",
       "      <td>1.0</td>\n",
       "      <td>0.0</td>\n",
       "      <td>SAVINGS_INSURANCE</td>\n",
       "      <td>RENT</td>\n",
       "      <td>2.0</td>\n",
       "    </tr>\n",
       "    <tr>\n",
       "      <th>2</th>\n",
       "      <td>1240455</td>\n",
       "      <td>F</td>\n",
       "      <td>50.0</td>\n",
       "      <td>2.0</td>\n",
       "      <td>1.0</td>\n",
       "      <td>1.0</td>\n",
       "      <td>1.0</td>\n",
       "      <td>7.0</td>\n",
       "      <td>UNKNOWN</td>\n",
       "      <td>OWN</td>\n",
       "      <td>3.0</td>\n",
       "    </tr>\n",
       "    <tr>\n",
       "      <th>3</th>\n",
       "      <td>107799</td>\n",
       "      <td>M</td>\n",
       "      <td>35.0</td>\n",
       "      <td>3.0</td>\n",
       "      <td>1.0</td>\n",
       "      <td>0.0</td>\n",
       "      <td>1.0</td>\n",
       "      <td>0.0</td>\n",
       "      <td>REAL_ESTATE</td>\n",
       "      <td>OWN</td>\n",
       "      <td>2.0</td>\n",
       "    </tr>\n",
       "    <tr>\n",
       "      <th>4</th>\n",
       "      <td>184883</td>\n",
       "      <td>M</td>\n",
       "      <td>40.0</td>\n",
       "      <td>1.0</td>\n",
       "      <td>1.0</td>\n",
       "      <td>0.0</td>\n",
       "      <td>1.0</td>\n",
       "      <td>9.0</td>\n",
       "      <td>CAR_OTHER</td>\n",
       "      <td>OWN</td>\n",
       "      <td>4.0</td>\n",
       "    </tr>\n",
       "    <tr>\n",
       "      <th>...</th>\n",
       "      <td>...</td>\n",
       "      <td>...</td>\n",
       "      <td>...</td>\n",
       "      <td>...</td>\n",
       "      <td>...</td>\n",
       "      <td>...</td>\n",
       "      <td>...</td>\n",
       "      <td>...</td>\n",
       "      <td>...</td>\n",
       "      <td>...</td>\n",
       "      <td>...</td>\n",
       "    </tr>\n",
       "    <tr>\n",
       "      <th>3931</th>\n",
       "      <td>636739</td>\n",
       "      <td>F</td>\n",
       "      <td>41.0</td>\n",
       "      <td>0.0</td>\n",
       "      <td>1.0</td>\n",
       "      <td>0.0</td>\n",
       "      <td>1.0</td>\n",
       "      <td>7.0</td>\n",
       "      <td>CAR_OTHER</td>\n",
       "      <td>OWN</td>\n",
       "      <td>3.0</td>\n",
       "    </tr>\n",
       "    <tr>\n",
       "      <th>3932</th>\n",
       "      <td>919733</td>\n",
       "      <td>M</td>\n",
       "      <td>46.0</td>\n",
       "      <td>3.0</td>\n",
       "      <td>1.0</td>\n",
       "      <td>1.0</td>\n",
       "      <td>1.0</td>\n",
       "      <td>11.0</td>\n",
       "      <td>SAVINGS_INSURANCE</td>\n",
       "      <td>OWN</td>\n",
       "      <td>3.0</td>\n",
       "    </tr>\n",
       "    <tr>\n",
       "      <th>3933</th>\n",
       "      <td>115839</td>\n",
       "      <td>M</td>\n",
       "      <td>28.0</td>\n",
       "      <td>3.0</td>\n",
       "      <td>1.0</td>\n",
       "      <td>1.0</td>\n",
       "      <td>1.0</td>\n",
       "      <td>7.0</td>\n",
       "      <td>CAR_OTHER</td>\n",
       "      <td>RENT</td>\n",
       "      <td>1.0</td>\n",
       "    </tr>\n",
       "    <tr>\n",
       "      <th>3934</th>\n",
       "      <td>1128684</td>\n",
       "      <td>M</td>\n",
       "      <td>46.0</td>\n",
       "      <td>0.0</td>\n",
       "      <td>1.0</td>\n",
       "      <td>0.0</td>\n",
       "      <td>1.0</td>\n",
       "      <td>7.0</td>\n",
       "      <td>CAR_OTHER</td>\n",
       "      <td>RENT</td>\n",
       "      <td>3.0</td>\n",
       "    </tr>\n",
       "    <tr>\n",
       "      <th>3935</th>\n",
       "      <td>5547</td>\n",
       "      <td>M</td>\n",
       "      <td>40.0</td>\n",
       "      <td>3.0</td>\n",
       "      <td>1.0</td>\n",
       "      <td>0.0</td>\n",
       "      <td>1.0</td>\n",
       "      <td>3.0</td>\n",
       "      <td>CAR_OTHER</td>\n",
       "      <td>OWN</td>\n",
       "      <td>5.0</td>\n",
       "    </tr>\n",
       "  </tbody>\n",
       "</table>\n",
       "<p>3936 rows × 11 columns</p>\n",
       "</div>"
      ],
      "text/plain": [
       "           ID SEX   AGE  JOB_TYPE  DEPENDENTS  TELEPHONE  FOREIGN_WORKER  \\\n",
       "0       24252   M  47.0       3.0         1.0        0.0             1.0   \n",
       "1     1002018   M  19.0       3.0         1.0        0.0             1.0   \n",
       "2     1240455   F  50.0       2.0         1.0        1.0             1.0   \n",
       "3      107799   M  35.0       3.0         1.0        0.0             1.0   \n",
       "4      184883   M  40.0       1.0         1.0        0.0             1.0   \n",
       "...       ...  ..   ...       ...         ...        ...             ...   \n",
       "3931   636739   F  41.0       0.0         1.0        0.0             1.0   \n",
       "3932   919733   M  46.0       3.0         1.0        1.0             1.0   \n",
       "3933   115839   M  28.0       3.0         1.0        1.0             1.0   \n",
       "3934  1128684   M  46.0       0.0         1.0        0.0             1.0   \n",
       "3935     5547   M  40.0       3.0         1.0        0.0             1.0   \n",
       "\n",
       "      EMPLOYMENT_DURATION           PROPERTY HOUSING  \\\n",
       "0                    14.0  SAVINGS_INSURANCE     OWN   \n",
       "1                     0.0  SAVINGS_INSURANCE    RENT   \n",
       "2                     7.0            UNKNOWN     OWN   \n",
       "3                     0.0        REAL_ESTATE     OWN   \n",
       "4                     9.0          CAR_OTHER     OWN   \n",
       "...                   ...                ...     ...   \n",
       "3931                  7.0          CAR_OTHER     OWN   \n",
       "3932                 11.0  SAVINGS_INSURANCE     OWN   \n",
       "3933                  7.0          CAR_OTHER    RENT   \n",
       "3934                  7.0          CAR_OTHER    RENT   \n",
       "3935                  3.0          CAR_OTHER     OWN   \n",
       "\n",
       "      CURRENT_RESIDENCE_DURATION  \n",
       "0                            3.0  \n",
       "1                            2.0  \n",
       "2                            3.0  \n",
       "3                            2.0  \n",
       "4                            4.0  \n",
       "...                          ...  \n",
       "3931                         3.0  \n",
       "3932                         3.0  \n",
       "3933                         1.0  \n",
       "3934                         3.0  \n",
       "3935                         5.0  \n",
       "\n",
       "[3936 rows x 11 columns]"
      ]
     },
     "execution_count": 4,
     "metadata": {},
     "output_type": "execute_result"
    }
   ],
   "source": [
    "df2"
   ]
  },
  {
   "cell_type": "code",
   "execution_count": 5,
   "metadata": {},
   "outputs": [
    {
     "data": {
      "text/html": [
       "<div>\n",
       "<style scoped>\n",
       "    .dataframe tbody tr th:only-of-type {\n",
       "        vertical-align: middle;\n",
       "    }\n",
       "\n",
       "    .dataframe tbody tr th {\n",
       "        vertical-align: top;\n",
       "    }\n",
       "\n",
       "    .dataframe thead th {\n",
       "        text-align: right;\n",
       "    }\n",
       "</style>\n",
       "<table border=\"1\" class=\"dataframe\">\n",
       "  <thead>\n",
       "    <tr style=\"text-align: right;\">\n",
       "      <th></th>\n",
       "      <th>ID</th>\n",
       "      <th>PAYMENT_TERM</th>\n",
       "      <th>INSTALLMENT_PLANS</th>\n",
       "      <th>INSTALLMENT_PERCENT</th>\n",
       "      <th>LOAN_PURPOSE</th>\n",
       "      <th>LOAN_AMOUNT</th>\n",
       "      <th>OTHERS_ON_LOAN</th>\n",
       "      <th>ALLOW</th>\n",
       "    </tr>\n",
       "  </thead>\n",
       "  <tbody>\n",
       "    <tr>\n",
       "      <th>0</th>\n",
       "      <td>610339</td>\n",
       "      <td>713.0</td>\n",
       "      <td>STORES</td>\n",
       "      <td>3.0</td>\n",
       "      <td>CAR_USED</td>\n",
       "      <td>3103.0</td>\n",
       "      <td>NONE</td>\n",
       "      <td>1</td>\n",
       "    </tr>\n",
       "    <tr>\n",
       "      <th>1</th>\n",
       "      <td>109167</td>\n",
       "      <td>341.0</td>\n",
       "      <td>STORES</td>\n",
       "      <td>1.0</td>\n",
       "      <td>CAR_NEW</td>\n",
       "      <td>716.0</td>\n",
       "      <td>NONE</td>\n",
       "      <td>1</td>\n",
       "    </tr>\n",
       "    <tr>\n",
       "      <th>2</th>\n",
       "      <td>823322</td>\n",
       "      <td>868.0</td>\n",
       "      <td>NONE</td>\n",
       "      <td>4.0</td>\n",
       "      <td>APPLIANCES</td>\n",
       "      <td>4333.0</td>\n",
       "      <td>NONE</td>\n",
       "      <td>1</td>\n",
       "    </tr>\n",
       "    <tr>\n",
       "      <th>3</th>\n",
       "      <td>322224</td>\n",
       "      <td>310.0</td>\n",
       "      <td>STORES</td>\n",
       "      <td>2.0</td>\n",
       "      <td>FURNITURE</td>\n",
       "      <td>250.0</td>\n",
       "      <td>NONE</td>\n",
       "      <td>1</td>\n",
       "    </tr>\n",
       "    <tr>\n",
       "      <th>4</th>\n",
       "      <td>912693</td>\n",
       "      <td>620.0</td>\n",
       "      <td>NONE</td>\n",
       "      <td>2.0</td>\n",
       "      <td>CAR_USED</td>\n",
       "      <td>2454.0</td>\n",
       "      <td>NONE</td>\n",
       "      <td>0</td>\n",
       "    </tr>\n",
       "    <tr>\n",
       "      <th>...</th>\n",
       "      <td>...</td>\n",
       "      <td>...</td>\n",
       "      <td>...</td>\n",
       "      <td>...</td>\n",
       "      <td>...</td>\n",
       "      <td>...</td>\n",
       "      <td>...</td>\n",
       "      <td>...</td>\n",
       "    </tr>\n",
       "    <tr>\n",
       "      <th>3994</th>\n",
       "      <td>636739</td>\n",
       "      <td>450.0</td>\n",
       "      <td>BANK</td>\n",
       "      <td>3.0</td>\n",
       "      <td>CAR_NEW</td>\n",
       "      <td>3007.0</td>\n",
       "      <td>CO-APPLICANT</td>\n",
       "      <td>0</td>\n",
       "    </tr>\n",
       "    <tr>\n",
       "      <th>3995</th>\n",
       "      <td>919733</td>\n",
       "      <td>510.0</td>\n",
       "      <td>NONE</td>\n",
       "      <td>4.0</td>\n",
       "      <td>VACATION</td>\n",
       "      <td>4191.0</td>\n",
       "      <td>GUARANTOR</td>\n",
       "      <td>1</td>\n",
       "    </tr>\n",
       "    <tr>\n",
       "      <th>3996</th>\n",
       "      <td>115839</td>\n",
       "      <td>124.0</td>\n",
       "      <td>STORES</td>\n",
       "      <td>1.0</td>\n",
       "      <td>FURNITURE</td>\n",
       "      <td>250.0</td>\n",
       "      <td>NONE</td>\n",
       "      <td>1</td>\n",
       "    </tr>\n",
       "    <tr>\n",
       "      <th>3997</th>\n",
       "      <td>1128684</td>\n",
       "      <td>961.0</td>\n",
       "      <td>BANK</td>\n",
       "      <td>3.0</td>\n",
       "      <td>BUSINESS</td>\n",
       "      <td>5172.0</td>\n",
       "      <td>NONE</td>\n",
       "      <td>1</td>\n",
       "    </tr>\n",
       "    <tr>\n",
       "      <th>3998</th>\n",
       "      <td>5547</td>\n",
       "      <td>1020.0</td>\n",
       "      <td>NONE</td>\n",
       "      <td>4.0</td>\n",
       "      <td>FURNITURE</td>\n",
       "      <td>6063.0</td>\n",
       "      <td>NONE</td>\n",
       "      <td>1</td>\n",
       "    </tr>\n",
       "  </tbody>\n",
       "</table>\n",
       "<p>3999 rows × 8 columns</p>\n",
       "</div>"
      ],
      "text/plain": [
       "           ID  PAYMENT_TERM INSTALLMENT_PLANS  INSTALLMENT_PERCENT  \\\n",
       "0      610339         713.0            STORES                  3.0   \n",
       "1      109167         341.0            STORES                  1.0   \n",
       "2      823322         868.0              NONE                  4.0   \n",
       "3      322224         310.0            STORES                  2.0   \n",
       "4      912693         620.0              NONE                  2.0   \n",
       "...       ...           ...               ...                  ...   \n",
       "3994   636739         450.0              BANK                  3.0   \n",
       "3995   919733         510.0              NONE                  4.0   \n",
       "3996   115839         124.0            STORES                  1.0   \n",
       "3997  1128684         961.0              BANK                  3.0   \n",
       "3998     5547        1020.0              NONE                  4.0   \n",
       "\n",
       "     LOAN_PURPOSE  LOAN_AMOUNT OTHERS_ON_LOAN  ALLOW  \n",
       "0        CAR_USED       3103.0           NONE      1  \n",
       "1         CAR_NEW        716.0           NONE      1  \n",
       "2      APPLIANCES       4333.0           NONE      1  \n",
       "3       FURNITURE        250.0           NONE      1  \n",
       "4        CAR_USED       2454.0           NONE      0  \n",
       "...           ...          ...            ...    ...  \n",
       "3994      CAR_NEW       3007.0   CO-APPLICANT      0  \n",
       "3995     VACATION       4191.0      GUARANTOR      1  \n",
       "3996    FURNITURE        250.0           NONE      1  \n",
       "3997     BUSINESS       5172.0           NONE      1  \n",
       "3998    FURNITURE       6063.0           NONE      1  \n",
       "\n",
       "[3999 rows x 8 columns]"
      ]
     },
     "execution_count": 5,
     "metadata": {},
     "output_type": "execute_result"
    }
   ],
   "source": [
    "df3"
   ]
  },
  {
   "cell_type": "markdown",
   "metadata": {},
   "source": [
    "## Visão Geral\n",
    "\n",
    "Compreender cada informação coletada é essencial para um possível modelo que será gerado. Nesse sentido, gera-se uma análise inicial de cada variável (ou coluna) foi coletada e justifica-se o porque dessa variável não será considerada no modelo ou até mesmo, qual tratamento de dados será utilizado nela."
   ]
  },
  {
   "cell_type": "code",
   "execution_count": 6,
   "metadata": {},
   "outputs": [
    {
     "name": "stdout",
     "output_type": "stream",
     "text": [
      "<class 'pandas.core.frame.DataFrame'>\n",
      "RangeIndex: 2477 entries, 0 to 2476\n",
      "Data columns (total 5 columns):\n",
      " #   Column                  Non-Null Count  Dtype  \n",
      "---  ------                  --------------  -----  \n",
      " 0   ID                      2477 non-null   int64  \n",
      " 1   CHECKING_BALANCE        2467 non-null   object \n",
      " 2   CREDIT_HISTORY          2462 non-null   object \n",
      " 3   EXISTING_SAVINGS        2467 non-null   object \n",
      " 4   EXISTING_CREDITS_COUNT  2463 non-null   float64\n",
      "dtypes: float64(1), int64(1), object(3)\n",
      "memory usage: 96.9+ KB\n"
     ]
    }
   ],
   "source": [
    "df1.info()"
   ]
  },
  {
   "cell_type": "markdown",
   "metadata": {},
   "source": [
    "A função <strong>info()</strong> já mostra um resumo geral do comportamento dos dados, apesar de superficial é possível observar que os dados estão desbalanceados, ou seja, será necessário realizar uma análise exploratória individual de cada variável e posteriormente realizar um tratamento e limpeza de informações que não terão impacto no modelo de classificação que se almeja construir."
   ]
  },
  {
   "cell_type": "markdown",
   "metadata": {},
   "source": [
    "## Análise Inicial de Dados 1 - 'accounts.csv'\n"
   ]
  },
  {
   "cell_type": "code",
   "execution_count": 7,
   "metadata": {},
   "outputs": [
    {
     "data": {
      "text/html": [
       "<div>\n",
       "<style scoped>\n",
       "    .dataframe tbody tr th:only-of-type {\n",
       "        vertical-align: middle;\n",
       "    }\n",
       "\n",
       "    .dataframe tbody tr th {\n",
       "        vertical-align: top;\n",
       "    }\n",
       "\n",
       "    .dataframe thead th {\n",
       "        text-align: right;\n",
       "    }\n",
       "</style>\n",
       "<table border=\"1\" class=\"dataframe\">\n",
       "  <thead>\n",
       "    <tr style=\"text-align: right;\">\n",
       "      <th></th>\n",
       "      <th>ID</th>\n",
       "      <th>EXISTING_CREDITS_COUNT</th>\n",
       "    </tr>\n",
       "  </thead>\n",
       "  <tbody>\n",
       "    <tr>\n",
       "      <th>ID</th>\n",
       "      <td>1.000000</td>\n",
       "      <td>-0.003681</td>\n",
       "    </tr>\n",
       "    <tr>\n",
       "      <th>EXISTING_CREDITS_COUNT</th>\n",
       "      <td>-0.003681</td>\n",
       "      <td>1.000000</td>\n",
       "    </tr>\n",
       "  </tbody>\n",
       "</table>\n",
       "</div>"
      ],
      "text/plain": [
       "                              ID  EXISTING_CREDITS_COUNT\n",
       "ID                      1.000000               -0.003681\n",
       "EXISTING_CREDITS_COUNT -0.003681                1.000000"
      ]
     },
     "execution_count": 7,
     "metadata": {},
     "output_type": "execute_result"
    }
   ],
   "source": [
    "df1.corr() "
   ]
  },
  {
   "cell_type": "code",
   "execution_count": 8,
   "metadata": {},
   "outputs": [
    {
     "data": {
      "text/html": [
       "<div>\n",
       "<style scoped>\n",
       "    .dataframe tbody tr th:only-of-type {\n",
       "        vertical-align: middle;\n",
       "    }\n",
       "\n",
       "    .dataframe tbody tr th {\n",
       "        vertical-align: top;\n",
       "    }\n",
       "\n",
       "    .dataframe thead th {\n",
       "        text-align: right;\n",
       "    }\n",
       "</style>\n",
       "<table border=\"1\" class=\"dataframe\">\n",
       "  <thead>\n",
       "    <tr style=\"text-align: right;\">\n",
       "      <th></th>\n",
       "      <th>ID</th>\n",
       "      <th>CHECKING_BALANCE</th>\n",
       "      <th>CREDIT_HISTORY</th>\n",
       "      <th>EXISTING_SAVINGS</th>\n",
       "      <th>EXISTING_CREDITS_COUNT</th>\n",
       "    </tr>\n",
       "  </thead>\n",
       "  <tbody>\n",
       "    <tr>\n",
       "      <th>2</th>\n",
       "      <td>256050</td>\n",
       "      <td>NO_CHECKING</td>\n",
       "      <td>CREDITS_PAID_TO_DATE</td>\n",
       "      <td>450.35</td>\n",
       "      <td>2.0</td>\n",
       "    </tr>\n",
       "    <tr>\n",
       "      <th>4</th>\n",
       "      <td>1002660</td>\n",
       "      <td>NO_CHECKING</td>\n",
       "      <td>CREDITS_PAID_TO_DATE</td>\n",
       "      <td>295.03</td>\n",
       "      <td>1.0</td>\n",
       "    </tr>\n",
       "    <tr>\n",
       "      <th>6</th>\n",
       "      <td>1096578</td>\n",
       "      <td>NO_CHECKING</td>\n",
       "      <td>PRIOR_PAYMENTS_DELAYED</td>\n",
       "      <td>421.96</td>\n",
       "      <td>1.0</td>\n",
       "    </tr>\n",
       "    <tr>\n",
       "      <th>10</th>\n",
       "      <td>1136574</td>\n",
       "      <td>NO_CHECKING</td>\n",
       "      <td>PRIOR_PAYMENTS_DELAYED</td>\n",
       "      <td>383.57</td>\n",
       "      <td>1.0</td>\n",
       "    </tr>\n",
       "    <tr>\n",
       "      <th>12</th>\n",
       "      <td>1268579</td>\n",
       "      <td>NO_CHECKING</td>\n",
       "      <td>OUTSTANDING_CREDIT</td>\n",
       "      <td>572.37</td>\n",
       "      <td>2.0</td>\n",
       "    </tr>\n",
       "    <tr>\n",
       "      <th>...</th>\n",
       "      <td>...</td>\n",
       "      <td>...</td>\n",
       "      <td>...</td>\n",
       "      <td>...</td>\n",
       "      <td>...</td>\n",
       "    </tr>\n",
       "    <tr>\n",
       "      <th>2468</th>\n",
       "      <td>827553</td>\n",
       "      <td>NO_CHECKING</td>\n",
       "      <td>PRIOR_PAYMENTS_DELAYED</td>\n",
       "      <td>615.54</td>\n",
       "      <td>2.0</td>\n",
       "    </tr>\n",
       "    <tr>\n",
       "      <th>2469</th>\n",
       "      <td>145488</td>\n",
       "      <td>NO_CHECKING</td>\n",
       "      <td>OUTSTANDING_CREDIT</td>\n",
       "      <td>33154.86</td>\n",
       "      <td>2.0</td>\n",
       "    </tr>\n",
       "    <tr>\n",
       "      <th>2470</th>\n",
       "      <td>178072</td>\n",
       "      <td>NO_CHECKING</td>\n",
       "      <td>PRIOR_PAYMENTS_DELAYED</td>\n",
       "      <td>726.26</td>\n",
       "      <td>2.0</td>\n",
       "    </tr>\n",
       "    <tr>\n",
       "      <th>2475</th>\n",
       "      <td>1128684</td>\n",
       "      <td>NO_CHECKING</td>\n",
       "      <td>PRIOR_PAYMENTS_DELAYED</td>\n",
       "      <td>UNKNOWN</td>\n",
       "      <td>1.0</td>\n",
       "    </tr>\n",
       "    <tr>\n",
       "      <th>2476</th>\n",
       "      <td>5547</td>\n",
       "      <td>NO_CHECKING</td>\n",
       "      <td>PRIOR_PAYMENTS_DELAYED</td>\n",
       "      <td>UNKNOWN</td>\n",
       "      <td>2.0</td>\n",
       "    </tr>\n",
       "  </tbody>\n",
       "</table>\n",
       "<p>988 rows × 5 columns</p>\n",
       "</div>"
      ],
      "text/plain": [
       "           ID CHECKING_BALANCE          CREDIT_HISTORY EXISTING_SAVINGS  \\\n",
       "2      256050      NO_CHECKING    CREDITS_PAID_TO_DATE           450.35   \n",
       "4     1002660      NO_CHECKING    CREDITS_PAID_TO_DATE           295.03   \n",
       "6     1096578      NO_CHECKING  PRIOR_PAYMENTS_DELAYED           421.96   \n",
       "10    1136574      NO_CHECKING  PRIOR_PAYMENTS_DELAYED           383.57   \n",
       "12    1268579      NO_CHECKING      OUTSTANDING_CREDIT           572.37   \n",
       "...       ...              ...                     ...              ...   \n",
       "2468   827553      NO_CHECKING  PRIOR_PAYMENTS_DELAYED           615.54   \n",
       "2469   145488      NO_CHECKING      OUTSTANDING_CREDIT         33154.86   \n",
       "2470   178072      NO_CHECKING  PRIOR_PAYMENTS_DELAYED           726.26   \n",
       "2475  1128684      NO_CHECKING  PRIOR_PAYMENTS_DELAYED          UNKNOWN   \n",
       "2476     5547      NO_CHECKING  PRIOR_PAYMENTS_DELAYED          UNKNOWN   \n",
       "\n",
       "      EXISTING_CREDITS_COUNT  \n",
       "2                        2.0  \n",
       "4                        1.0  \n",
       "6                        1.0  \n",
       "10                       1.0  \n",
       "12                       2.0  \n",
       "...                      ...  \n",
       "2468                     2.0  \n",
       "2469                     2.0  \n",
       "2470                     2.0  \n",
       "2475                     1.0  \n",
       "2476                     2.0  \n",
       "\n",
       "[988 rows x 5 columns]"
      ]
     },
     "execution_count": 8,
     "metadata": {},
     "output_type": "execute_result"
    }
   ],
   "source": [
    "df1[df1['CHECKING_BALANCE']=='NO_CHECKING']"
   ]
  },
  {
   "cell_type": "code",
   "execution_count": 9,
   "metadata": {},
   "outputs": [
    {
     "data": {
      "text/html": [
       "<div>\n",
       "<style scoped>\n",
       "    .dataframe tbody tr th:only-of-type {\n",
       "        vertical-align: middle;\n",
       "    }\n",
       "\n",
       "    .dataframe tbody tr th {\n",
       "        vertical-align: top;\n",
       "    }\n",
       "\n",
       "    .dataframe thead th {\n",
       "        text-align: right;\n",
       "    }\n",
       "</style>\n",
       "<table border=\"1\" class=\"dataframe\">\n",
       "  <thead>\n",
       "    <tr style=\"text-align: right;\">\n",
       "      <th></th>\n",
       "      <th>ID</th>\n",
       "      <th>CHECKING_BALANCE</th>\n",
       "      <th>CREDIT_HISTORY</th>\n",
       "      <th>EXISTING_SAVINGS</th>\n",
       "      <th>EXISTING_CREDITS_COUNT</th>\n",
       "    </tr>\n",
       "  </thead>\n",
       "  <tbody>\n",
       "    <tr>\n",
       "      <th>23</th>\n",
       "      <td>1049084</td>\n",
       "      <td>NO_CHECKING</td>\n",
       "      <td>OUTSTANDING_CREDIT</td>\n",
       "      <td>UNKNOWN</td>\n",
       "      <td>2.0</td>\n",
       "    </tr>\n",
       "    <tr>\n",
       "      <th>26</th>\n",
       "      <td>1177670</td>\n",
       "      <td>NO_CHECKING</td>\n",
       "      <td>OUTSTANDING_CREDIT</td>\n",
       "      <td>UNKNOWN</td>\n",
       "      <td>2.0</td>\n",
       "    </tr>\n",
       "    <tr>\n",
       "      <th>31</th>\n",
       "      <td>584707</td>\n",
       "      <td>NO_CHECKING</td>\n",
       "      <td>OUTSTANDING_CREDIT</td>\n",
       "      <td>UNKNOWN</td>\n",
       "      <td>2.0</td>\n",
       "    </tr>\n",
       "    <tr>\n",
       "      <th>32</th>\n",
       "      <td>100984</td>\n",
       "      <td>NO_CHECKING</td>\n",
       "      <td>PRIOR_PAYMENTS_DELAYED</td>\n",
       "      <td>UNKNOWN</td>\n",
       "      <td>3.0</td>\n",
       "    </tr>\n",
       "    <tr>\n",
       "      <th>36</th>\n",
       "      <td>29700</td>\n",
       "      <td>NO_CHECKING</td>\n",
       "      <td>OUTSTANDING_CREDIT</td>\n",
       "      <td>UNKNOWN</td>\n",
       "      <td>2.0</td>\n",
       "    </tr>\n",
       "    <tr>\n",
       "      <th>...</th>\n",
       "      <td>...</td>\n",
       "      <td>...</td>\n",
       "      <td>...</td>\n",
       "      <td>...</td>\n",
       "      <td>...</td>\n",
       "    </tr>\n",
       "    <tr>\n",
       "      <th>2380</th>\n",
       "      <td>514189</td>\n",
       "      <td>NO_CHECKING</td>\n",
       "      <td>PRIOR_PAYMENTS_DELAYED</td>\n",
       "      <td>UNKNOWN</td>\n",
       "      <td>2.0</td>\n",
       "    </tr>\n",
       "    <tr>\n",
       "      <th>2429</th>\n",
       "      <td>816269</td>\n",
       "      <td>NO_CHECKING</td>\n",
       "      <td>OUTSTANDING_CREDIT</td>\n",
       "      <td>UNKNOWN</td>\n",
       "      <td>2.0</td>\n",
       "    </tr>\n",
       "    <tr>\n",
       "      <th>2438</th>\n",
       "      <td>1152672</td>\n",
       "      <td>97.91</td>\n",
       "      <td>OUTSTANDING_CREDIT</td>\n",
       "      <td>UNKNOWN</td>\n",
       "      <td>2.0</td>\n",
       "    </tr>\n",
       "    <tr>\n",
       "      <th>2475</th>\n",
       "      <td>1128684</td>\n",
       "      <td>NO_CHECKING</td>\n",
       "      <td>PRIOR_PAYMENTS_DELAYED</td>\n",
       "      <td>UNKNOWN</td>\n",
       "      <td>1.0</td>\n",
       "    </tr>\n",
       "    <tr>\n",
       "      <th>2476</th>\n",
       "      <td>5547</td>\n",
       "      <td>NO_CHECKING</td>\n",
       "      <td>PRIOR_PAYMENTS_DELAYED</td>\n",
       "      <td>UNKNOWN</td>\n",
       "      <td>2.0</td>\n",
       "    </tr>\n",
       "  </tbody>\n",
       "</table>\n",
       "<p>176 rows × 5 columns</p>\n",
       "</div>"
      ],
      "text/plain": [
       "           ID CHECKING_BALANCE          CREDIT_HISTORY EXISTING_SAVINGS  \\\n",
       "23    1049084      NO_CHECKING      OUTSTANDING_CREDIT          UNKNOWN   \n",
       "26    1177670      NO_CHECKING      OUTSTANDING_CREDIT          UNKNOWN   \n",
       "31     584707      NO_CHECKING      OUTSTANDING_CREDIT          UNKNOWN   \n",
       "32     100984      NO_CHECKING  PRIOR_PAYMENTS_DELAYED          UNKNOWN   \n",
       "36      29700      NO_CHECKING      OUTSTANDING_CREDIT          UNKNOWN   \n",
       "...       ...              ...                     ...              ...   \n",
       "2380   514189      NO_CHECKING  PRIOR_PAYMENTS_DELAYED          UNKNOWN   \n",
       "2429   816269      NO_CHECKING      OUTSTANDING_CREDIT          UNKNOWN   \n",
       "2438  1152672            97.91      OUTSTANDING_CREDIT          UNKNOWN   \n",
       "2475  1128684      NO_CHECKING  PRIOR_PAYMENTS_DELAYED          UNKNOWN   \n",
       "2476     5547      NO_CHECKING  PRIOR_PAYMENTS_DELAYED          UNKNOWN   \n",
       "\n",
       "      EXISTING_CREDITS_COUNT  \n",
       "23                       2.0  \n",
       "26                       2.0  \n",
       "31                       2.0  \n",
       "32                       3.0  \n",
       "36                       2.0  \n",
       "...                      ...  \n",
       "2380                     2.0  \n",
       "2429                     2.0  \n",
       "2438                     2.0  \n",
       "2475                     1.0  \n",
       "2476                     2.0  \n",
       "\n",
       "[176 rows x 5 columns]"
      ]
     },
     "execution_count": 9,
     "metadata": {},
     "output_type": "execute_result"
    }
   ],
   "source": [
    "df1[df1['EXISTING_SAVINGS']=='UNKNOWN']"
   ]
  },
  {
   "cell_type": "markdown",
   "metadata": {},
   "source": [
    "### 1) Com relação aos saldo da conta de cada cliente, qual a relação entre verificados e não verificados? "
   ]
  },
  {
   "cell_type": "code",
   "execution_count": 10,
   "metadata": {},
   "outputs": [],
   "source": [
    "# Dividi-se o dataset em 2, onde a variável check é compreendida pelas informações numéricas.\n",
    "no_check = len(df1[df1[u'CHECKING_BALANCE'] == 'NO_CHECKING'])\n",
    "check = len(df1[df1[u'CHECKING_BALANCE'] != 'NO_CHECKING'])\n",
    "\n",
    "new_df = {'NO_CHECKING': [no_check], 'CHECKING': [check]}\n",
    "\n",
    "checking_balance = pd.DataFrame(data=new_df)"
   ]
  },
  {
   "cell_type": "code",
   "execution_count": 11,
   "metadata": {},
   "outputs": [
    {
     "data": {
      "image/png": "[encoded data removed]",
      "text/plain": [
       "<Figure size 432x288 with 1 Axes>"
      ]
     },
     "metadata": {},
     "output_type": "display_data"
    }
   ],
   "source": [
    "sns.set(style=\"darkgrid\")\n",
    "\n",
    "fig = sns.barplot(x=list(checking_balance) ,y=[checking_balance['CHECKING'].iloc[0],checking_balance['NO_CHECKING'].iloc[0]],hue=list(checking_balance))\n",
    "plt.title(\"Relação entre saldos verificados e não verificados\")\n",
    "plt.show(fig)"
   ]
  },
  {
   "cell_type": "markdown",
   "metadata": {},
   "source": [
    "## 2) Quais características estão presentes na coluna 'Histórico de Crédito'?"
   ]
  },
  {
   "cell_type": "code",
   "execution_count": 12,
   "metadata": {},
   "outputs": [
    {
     "data": {
      "text/plain": [
       "array(['ALL_CREDITS_PAID_BACK', 'CREDITS_PAID_TO_DATE',\n",
       "       'PRIOR_PAYMENTS_DELAYED', 'OUTSTANDING_CREDIT', 'NO_CREDITS', nan],\n",
       "      dtype=object)"
      ]
     },
     "execution_count": 12,
     "metadata": {},
     "output_type": "execute_result"
    }
   ],
   "source": [
    "df1['CREDIT_HISTORY'].unique()"
   ]
  },
  {
   "cell_type": "markdown",
   "metadata": {},
   "source": [
    "## 3) Qual a relação entre economias conhecidas e desconhecidas dos clientes com o banco?"
   ]
  },
  {
   "cell_type": "code",
   "execution_count": 13,
   "metadata": {},
   "outputs": [],
   "source": [
    "# Dividi-se o dataset em 2, onde a variável check é compreendida pelas informações numéricas.\n",
    "exis = len(df1[df1[u'EXISTING_SAVINGS'] != 'UNKNOWN'])\n",
    "no_exis = len(df1[df1[u'EXISTING_SAVINGS'] == 'UNKNOWN'])\n",
    "\n",
    "new_df2 = {'EXISTING_SAVINGS': [exis], 'NO_EXISTING_SAVINGS': [no_exis]}\n",
    "\n",
    "check_savings = pd.DataFrame(data=new_df2)"
   ]
  },
  {
   "cell_type": "code",
   "execution_count": 14,
   "metadata": {},
   "outputs": [
    {
     "data": {
      "text/html": [
       "<div>\n",
       "<style scoped>\n",
       "    .dataframe tbody tr th:only-of-type {\n",
       "        vertical-align: middle;\n",
       "    }\n",
       "\n",
       "    .dataframe tbody tr th {\n",
       "        vertical-align: top;\n",
       "    }\n",
       "\n",
       "    .dataframe thead th {\n",
       "        text-align: right;\n",
       "    }\n",
       "</style>\n",
       "<table border=\"1\" class=\"dataframe\">\n",
       "  <thead>\n",
       "    <tr style=\"text-align: right;\">\n",
       "      <th></th>\n",
       "      <th>EXISTING_SAVINGS</th>\n",
       "      <th>NO_EXISTING_SAVINGS</th>\n",
       "    </tr>\n",
       "  </thead>\n",
       "  <tbody>\n",
       "    <tr>\n",
       "      <th>0</th>\n",
       "      <td>2301</td>\n",
       "      <td>176</td>\n",
       "    </tr>\n",
       "  </tbody>\n",
       "</table>\n",
       "</div>"
      ],
      "text/plain": [
       "   EXISTING_SAVINGS  NO_EXISTING_SAVINGS\n",
       "0              2301                  176"
      ]
     },
     "execution_count": 14,
     "metadata": {},
     "output_type": "execute_result"
    }
   ],
   "source": [
    "check_savings"
   ]
  },
  {
   "cell_type": "code",
   "execution_count": 15,
   "metadata": {},
   "outputs": [
    {
     "data": {
      "image/png": "[encoded data removed]",
      "text/plain": [
       "<Figure size 432x288 with 1 Axes>"
      ]
     },
     "metadata": {},
     "output_type": "display_data"
    }
   ],
   "source": [
    "sns.set(style=\"darkgrid\")\n",
    "\n",
    "fig = sns.barplot(x=list(check_savings) ,y=[check_savings['EXISTING_SAVINGS'].iloc[0],\n",
    "                                            check_savings['NO_EXISTING_SAVINGS'].iloc[0]],\n",
    "                                            hue=list(check_savings))\n",
    "plt.title(\"Relação entre saldos verificados e não verificados\")\n",
    "plt.show(fig)"
   ]
  },
  {
   "cell_type": "code",
   "execution_count": 16,
   "metadata": {},
   "outputs": [
    {
     "data": {
      "text/html": [
       "<div>\n",
       "<style scoped>\n",
       "    .dataframe tbody tr th:only-of-type {\n",
       "        vertical-align: middle;\n",
       "    }\n",
       "\n",
       "    .dataframe tbody tr th {\n",
       "        vertical-align: top;\n",
       "    }\n",
       "\n",
       "    .dataframe thead th {\n",
       "        text-align: right;\n",
       "    }\n",
       "</style>\n",
       "<table border=\"1\" class=\"dataframe\">\n",
       "  <thead>\n",
       "    <tr style=\"text-align: right;\">\n",
       "      <th></th>\n",
       "      <th>ID</th>\n",
       "      <th>CHECKING_BALANCE</th>\n",
       "      <th>CREDIT_HISTORY</th>\n",
       "      <th>EXISTING_SAVINGS</th>\n",
       "      <th>EXISTING_CREDITS_COUNT</th>\n",
       "    </tr>\n",
       "  </thead>\n",
       "  <tbody>\n",
       "    <tr>\n",
       "      <th>34</th>\n",
       "      <td>1205053</td>\n",
       "      <td>NO_CHECKING</td>\n",
       "      <td>PRIOR_PAYMENTS_DELAYED</td>\n",
       "      <td>600.14</td>\n",
       "      <td>NaN</td>\n",
       "    </tr>\n",
       "    <tr>\n",
       "      <th>38</th>\n",
       "      <td>245917</td>\n",
       "      <td>NO_CHECKING</td>\n",
       "      <td>PRIOR_PAYMENTS_DELAYED</td>\n",
       "      <td>1788.77</td>\n",
       "      <td>NaN</td>\n",
       "    </tr>\n",
       "    <tr>\n",
       "      <th>193</th>\n",
       "      <td>205835</td>\n",
       "      <td>-665.67</td>\n",
       "      <td>ALL_CREDITS_PAID_BACK</td>\n",
       "      <td>441.07</td>\n",
       "      <td>NaN</td>\n",
       "    </tr>\n",
       "    <tr>\n",
       "      <th>295</th>\n",
       "      <td>501397</td>\n",
       "      <td>-99.73</td>\n",
       "      <td>ALL_CREDITS_PAID_BACK</td>\n",
       "      <td>24.02</td>\n",
       "      <td>NaN</td>\n",
       "    </tr>\n",
       "    <tr>\n",
       "      <th>461</th>\n",
       "      <td>676771</td>\n",
       "      <td>NO_CHECKING</td>\n",
       "      <td>PRIOR_PAYMENTS_DELAYED</td>\n",
       "      <td>UNKNOWN</td>\n",
       "      <td>NaN</td>\n",
       "    </tr>\n",
       "    <tr>\n",
       "      <th>770</th>\n",
       "      <td>463004</td>\n",
       "      <td>590.68</td>\n",
       "      <td>CREDITS_PAID_TO_DATE</td>\n",
       "      <td>15.83</td>\n",
       "      <td>NaN</td>\n",
       "    </tr>\n",
       "    <tr>\n",
       "      <th>1127</th>\n",
       "      <td>839628</td>\n",
       "      <td>NO_CHECKING</td>\n",
       "      <td>PRIOR_PAYMENTS_DELAYED</td>\n",
       "      <td>813.85</td>\n",
       "      <td>NaN</td>\n",
       "    </tr>\n",
       "    <tr>\n",
       "      <th>1232</th>\n",
       "      <td>1135727</td>\n",
       "      <td>0.5</td>\n",
       "      <td>ALL_CREDITS_PAID_BACK</td>\n",
       "      <td>78.54</td>\n",
       "      <td>NaN</td>\n",
       "    </tr>\n",
       "    <tr>\n",
       "      <th>1428</th>\n",
       "      <td>794570</td>\n",
       "      <td>NO_CHECKING</td>\n",
       "      <td>PRIOR_PAYMENTS_DELAYED</td>\n",
       "      <td>UNKNOWN</td>\n",
       "      <td>NaN</td>\n",
       "    </tr>\n",
       "    <tr>\n",
       "      <th>1498</th>\n",
       "      <td>773770</td>\n",
       "      <td>NO_CHECKING</td>\n",
       "      <td>PRIOR_PAYMENTS_DELAYED</td>\n",
       "      <td>151.43</td>\n",
       "      <td>NaN</td>\n",
       "    </tr>\n",
       "    <tr>\n",
       "      <th>1762</th>\n",
       "      <td>574588</td>\n",
       "      <td>-184.27</td>\n",
       "      <td>NO_CREDITS</td>\n",
       "      <td>2.53</td>\n",
       "      <td>NaN</td>\n",
       "    </tr>\n",
       "    <tr>\n",
       "      <th>1973</th>\n",
       "      <td>881519</td>\n",
       "      <td>6608.44</td>\n",
       "      <td>CREDITS_PAID_TO_DATE</td>\n",
       "      <td>96.98</td>\n",
       "      <td>NaN</td>\n",
       "    </tr>\n",
       "    <tr>\n",
       "      <th>1983</th>\n",
       "      <td>90485</td>\n",
       "      <td>98.32</td>\n",
       "      <td>OUTSTANDING_CREDIT</td>\n",
       "      <td>909.43</td>\n",
       "      <td>NaN</td>\n",
       "    </tr>\n",
       "    <tr>\n",
       "      <th>2047</th>\n",
       "      <td>1110119</td>\n",
       "      <td>NO_CHECKING</td>\n",
       "      <td>CREDITS_PAID_TO_DATE</td>\n",
       "      <td>466.06</td>\n",
       "      <td>NaN</td>\n",
       "    </tr>\n",
       "  </tbody>\n",
       "</table>\n",
       "</div>"
      ],
      "text/plain": [
       "           ID CHECKING_BALANCE          CREDIT_HISTORY EXISTING_SAVINGS  \\\n",
       "34    1205053      NO_CHECKING  PRIOR_PAYMENTS_DELAYED           600.14   \n",
       "38     245917      NO_CHECKING  PRIOR_PAYMENTS_DELAYED          1788.77   \n",
       "193    205835          -665.67   ALL_CREDITS_PAID_BACK           441.07   \n",
       "295    501397           -99.73   ALL_CREDITS_PAID_BACK            24.02   \n",
       "461    676771      NO_CHECKING  PRIOR_PAYMENTS_DELAYED          UNKNOWN   \n",
       "770    463004           590.68    CREDITS_PAID_TO_DATE            15.83   \n",
       "1127   839628      NO_CHECKING  PRIOR_PAYMENTS_DELAYED           813.85   \n",
       "1232  1135727              0.5   ALL_CREDITS_PAID_BACK            78.54   \n",
       "1428   794570      NO_CHECKING  PRIOR_PAYMENTS_DELAYED          UNKNOWN   \n",
       "1498   773770      NO_CHECKING  PRIOR_PAYMENTS_DELAYED           151.43   \n",
       "1762   574588          -184.27              NO_CREDITS             2.53   \n",
       "1973   881519          6608.44    CREDITS_PAID_TO_DATE            96.98   \n",
       "1983    90485            98.32      OUTSTANDING_CREDIT           909.43   \n",
       "2047  1110119      NO_CHECKING    CREDITS_PAID_TO_DATE           466.06   \n",
       "\n",
       "      EXISTING_CREDITS_COUNT  \n",
       "34                       NaN  \n",
       "38                       NaN  \n",
       "193                      NaN  \n",
       "295                      NaN  \n",
       "461                      NaN  \n",
       "770                      NaN  \n",
       "1127                     NaN  \n",
       "1232                     NaN  \n",
       "1428                     NaN  \n",
       "1498                     NaN  \n",
       "1762                     NaN  \n",
       "1973                     NaN  \n",
       "1983                     NaN  \n",
       "2047                     NaN  "
      ]
     },
     "execution_count": 16,
     "metadata": {},
     "output_type": "execute_result"
    }
   ],
   "source": [
    "df1[df1['EXISTING_CREDITS_COUNT'].isnull()]"
   ]
  },
  {
   "cell_type": "markdown",
   "metadata": {},
   "source": [
    "## Análise Inicial de Dados 2 - 'demographics.csv'"
   ]
  },
  {
   "cell_type": "code",
   "execution_count": 17,
   "metadata": {},
   "outputs": [
    {
     "name": "stdout",
     "output_type": "stream",
     "text": [
      "<class 'pandas.core.frame.DataFrame'>\n",
      "RangeIndex: 3936 entries, 0 to 3935\n",
      "Data columns (total 11 columns):\n",
      " #   Column                      Non-Null Count  Dtype  \n",
      "---  ------                      --------------  -----  \n",
      " 0   ID                          3936 non-null   int64  \n",
      " 1   SEX                         3920 non-null   object \n",
      " 2   AGE                         3918 non-null   float64\n",
      " 3   JOB_TYPE                    3910 non-null   float64\n",
      " 4   DEPENDENTS                  3915 non-null   float64\n",
      " 5   TELEPHONE                   3915 non-null   float64\n",
      " 6   FOREIGN_WORKER              3909 non-null   float64\n",
      " 7   EMPLOYMENT_DURATION         3923 non-null   float64\n",
      " 8   PROPERTY                    3918 non-null   object \n",
      " 9   HOUSING                     3912 non-null   object \n",
      " 10  CURRENT_RESIDENCE_DURATION  3917 non-null   float64\n",
      "dtypes: float64(7), int64(1), object(3)\n",
      "memory usage: 338.4+ KB\n"
     ]
    }
   ],
   "source": [
    "df2.info()"
   ]
  },
  {
   "cell_type": "markdown",
   "metadata": {},
   "source": [
    "## Qual o sexo dos clientes?"
   ]
  },
  {
   "cell_type": "code",
   "execution_count": 33,
   "metadata": {},
   "outputs": [
    {
     "data": {
      "text/plain": [
       "M    2419\n",
       "F    1501\n",
       "Name: SEX, dtype: int64"
      ]
     },
     "execution_count": 33,
     "metadata": {},
     "output_type": "execute_result"
    }
   ],
   "source": [
    "df2['SEX'].value_counts()"
   ]
  },
  {
   "cell_type": "code",
   "execution_count": 34,
   "metadata": {},
   "outputs": [],
   "source": [
    "df2['SEX'].fillna(\"NR\", inplace = True)"
   ]
  },
  {
   "cell_type": "code",
   "execution_count": 52,
   "metadata": {},
   "outputs": [],
   "source": [
    "# Dividi-se o dataset em 2, onde a variável check é compreendida pelas informações numéricas.\n",
    "sex_M = len(df2[df2[u'SEX'] == 'M'])\n",
    "sex_F = len(df2[df2[u'SEX'] == 'F'])\n",
    "sex_NR = len(df2[df2[u'SEX'] == 'NR']) # não respondido (NaN)\n",
    "\n",
    "new_df2 = {'M': [sex_M], 'F': [sex_F]}\n",
    "\n",
    "check_sex = pd.DataFrame(data=new_df2)"
   ]
  },
  {
   "cell_type": "code",
   "execution_count": 87,
   "metadata": {},
   "outputs": [
    {
     "data": {
      "image/png": "[encoded data removed]",
      "text/plain": [
       "<Figure size 432x288 with 1 Axes>"
      ]
     },
     "metadata": {},
     "output_type": "display_data"
    }
   ],
   "source": [
    "sns.set(style=\"darkgrid\")\n",
    "\n",
    "fig = sns.barplot(x=list(check_sex),\n",
    "                  y=[check_sex['M'].iloc[0],\n",
    "                     check_sex['F'].iloc[0]],\n",
    "                     hue=list(check_sex))\n",
    "plt.grid(None)\n",
    "plt.title(\"Relação entre gênero\")\n",
    "plt.rcParams[\"figure.figsize\"] = (4,6)\n",
    "plt.show(fig)"
   ]
  },
  {
   "cell_type": "markdown",
   "metadata": {},
   "source": [
    "Nesse caso, baseado nos dados optamos por apenas apresentar a relação entre o sexo Masculino e Feminino para dados bancários. Vale ressaltar que o índice percentual de pessoas que ou não responderam, ou que por alguma instabilidade do sistema não foi salva é de 0.4% no total (16 registros sem resposta). Mas isso não é tudo, é importante entender também qual amostra está a nossa disposição, no caso, essa amostra tem exatos 3936 dados."
   ]
  },
  {
   "cell_type": "markdown",
   "metadata": {},
   "source": [
    "## Qual a distribuição a cerca da idade dos nossos clientes?\n",
    "\n",
    "Para auxiliar nessa tarefa, criamos alguns filtros para compreender melhor a qual faixa etária os clientes da BanTotal pertencem. "
   ]
  },
  {
   "cell_type": "code",
   "execution_count": 80,
   "metadata": {},
   "outputs": [],
   "source": [
    "#df2['AGE'].value_counts()"
   ]
  },
  {
   "cell_type": "code",
   "execution_count": 102,
   "metadata": {},
   "outputs": [
    {
     "name": "stderr",
     "output_type": "stream",
     "text": [
      "C:\\Users\\danil\\anaconda3\\lib\\site-packages\\seaborn\\distributions.py:2551: FutureWarning: `distplot` is a deprecated function and will be removed in a future version. Please adapt your code to use either `displot` (a figure-level function with similar flexibility) or `histplot` (an axes-level function for histograms).\n",
      "  warnings.warn(msg, FutureWarning)\n"
     ]
    },
    {
     "data": {
      "image/png": "[encoded data removed]",
      "text/plain": [
       "<Figure size 864x576 with 1 Axes>"
      ]
     },
     "metadata": {},
     "output_type": "display_data"
    }
   ],
   "source": [
    "ax = sns.distplot(df2.AGE, kde = False, \n",
    "                  bins = [i*5 for(i) in range (15)])\n",
    "ax.set_xlabel(\"Idade das pessoas\", \n",
    "              fontsize = 20, \n",
    "              position=(0.5,0))\n",
    "\n",
    "ax.set_ylabel(\"Quantidade de pessoas\", \n",
    "              fontsize = 20, \n",
    "              position=(0.5,0.5))\n",
    "\n",
    "ax.grid(None)\n",
    "\n",
    "ax.set_title('Distribuição do número de pessoas', \n",
    "             fontsize = 20)\n",
    "\n",
    "ax.figure.set_size_inches(12,8)"
   ]
  },
  {
   "cell_type": "markdown",
   "metadata": {},
   "source": [
    "## Qual a distribuição que indica quantos dependentes nossos clientes têm?\n",
    "\n"
   ]
  },
  {
   "cell_type": "code",
   "execution_count": 90,
   "metadata": {},
   "outputs": [
    {
     "data": {
      "text/plain": [
       "1.0    3284\n",
       "2.0     631\n",
       "Name: DEPENDENTS, dtype: int64"
      ]
     },
     "execution_count": 90,
     "metadata": {},
     "output_type": "execute_result"
    }
   ],
   "source": [
    "df2['DEPENDENTS'].value_counts()"
   ]
  },
  {
   "cell_type": "code",
   "execution_count": 100,
   "metadata": {},
   "outputs": [
    {
     "data": {
      "text/html": [
       "<div>\n",
       "<style scoped>\n",
       "    .dataframe tbody tr th:only-of-type {\n",
       "        vertical-align: middle;\n",
       "    }\n",
       "\n",
       "    .dataframe tbody tr th {\n",
       "        vertical-align: top;\n",
       "    }\n",
       "\n",
       "    .dataframe thead th {\n",
       "        text-align: right;\n",
       "    }\n",
       "</style>\n",
       "<table border=\"1\" class=\"dataframe\">\n",
       "  <thead>\n",
       "    <tr style=\"text-align: right;\">\n",
       "      <th></th>\n",
       "      <th>1.0</th>\n",
       "      <th>2.0</th>\n",
       "    </tr>\n",
       "  </thead>\n",
       "  <tbody>\n",
       "    <tr>\n",
       "      <th>0</th>\n",
       "      <td>3284</td>\n",
       "      <td>631</td>\n",
       "    </tr>\n",
       "  </tbody>\n",
       "</table>\n",
       "</div>"
      ],
      "text/plain": [
       "    1.0  2.0\n",
       "0  3284  631"
      ]
     },
     "execution_count": 100,
     "metadata": {},
     "output_type": "execute_result"
    }
   ],
   "source": [
    "dep1 = len(df2[df2[u'DEPENDENTS'] == 1.0])\n",
    "dep2 = len(df2[df2[u'DEPENDENTS'] == 2.0])\n",
    "\n",
    "new_df3 = {'1.0': [dep1], '2.0': [dep2]}\n",
    "\n",
    "check_dependence = pd.DataFrame(data=new_df3)\n",
    "check_dependence"
   ]
  },
  {
   "cell_type": "code",
   "execution_count": 104,
   "metadata": {},
   "outputs": [
    {
     "data": {
      "image/png": "[encoded data removed]",
      "text/plain": [
       "<Figure size 288x432 with 1 Axes>"
      ]
     },
     "metadata": {},
     "output_type": "display_data"
    }
   ],
   "source": [
    "sns.set(style=\"darkgrid\")\n",
    "\n",
    "fig = sns.barplot(x=list(check_dependence),\n",
    "                  y=[check_dependence['1.0'].iloc[0],\n",
    "                     check_dependence['2.0'].iloc[0]],\n",
    "                     hue=list(check_dependence))\n",
    "plt.grid(None)\n",
    "plt.title(\"Relação entre dependentes\")\n",
    "plt.rcParams[\"figure.figsize\"] = (4,6)\n",
    "plt.show(fig)"
   ]
  },
  {
   "cell_type": "markdown",
   "metadata": {},
   "source": [
    "## O cliente tem telefone registrado no sistema?\n",
    "\n",
    "0 - não\n",
    "\n",
    "1 - sim\n"
   ]
  },
  {
   "cell_type": "code",
   "execution_count": 106,
   "metadata": {},
   "outputs": [
    {
     "data": {
      "text/plain": [
       "0.0    2302\n",
       "1.0    1613\n",
       "Name: TELEPHONE, dtype: int64"
      ]
     },
     "execution_count": 106,
     "metadata": {},
     "output_type": "execute_result"
    }
   ],
   "source": [
    "df2['TELEPHONE'].value_counts()"
   ]
  },
  {
   "cell_type": "code",
   "execution_count": 124,
   "metadata": {},
   "outputs": [],
   "source": [
    "phone1 = len(df2[df2[u'TELEPHONE'] == 0.0])\n",
    "phone2 = len(df2[df2[u'TELEPHONE'] == 1.0])\n",
    "\n",
    "new_df4 = {'Sim': [phone1], 'Não': [phone2]}\n",
    "\n",
    "check_phone = pd.DataFrame(data=new_df4)"
   ]
  },
  {
   "cell_type": "code",
   "execution_count": 125,
   "metadata": {},
   "outputs": [
    {
     "data": {
      "image/png": "[encoded data removed]",
      "text/plain": [
       "<Figure size 432x576 with 1 Axes>"
      ]
     },
     "metadata": {},
     "output_type": "display_data"
    }
   ],
   "source": [
    "sns.set(style=\"darkgrid\")\n",
    "\n",
    "fig = sns.barplot(x=list(check_phone),\n",
    "                  y=[check_phone['Sim'].iloc[0],\n",
    "                     check_phone['Não'].iloc[0]],\n",
    "                     hue=list(check_phone))\n",
    "plt.grid(None)\n",
    "plt.title(\"O cliente tem telefone registrado no sistema?\")\n",
    "plt.rcParams[\"figure.figsize\"] = (6,8)\n",
    "plt.show(fig)"
   ]
  },
  {
   "cell_type": "markdown",
   "metadata": {},
   "source": [
    "## O cliente é um trabalhador estrangeiro?\n",
    "\n"
   ]
  },
  {
   "cell_type": "code",
   "execution_count": 126,
   "metadata": {},
   "outputs": [
    {
     "data": {
      "text/plain": [
       "1.0    3814\n",
       "0.0      95\n",
       "Name: FOREIGN_WORKER, dtype: int64"
      ]
     },
     "execution_count": 126,
     "metadata": {},
     "output_type": "execute_result"
    }
   ],
   "source": [
    "df2['FOREIGN_WORKER'].value_counts()"
   ]
  },
  {
   "cell_type": "code",
   "execution_count": 127,
   "metadata": {},
   "outputs": [],
   "source": [
    "w1 = len(df2[df2[u'FOREIGN_WORKER'] == 0.0])\n",
    "w2 = len(df2[df2[u'FOREIGN_WORKER'] == 1.0])\n",
    "\n",
    "new_df4 = {'Sim': [w2], 'Não': [w1]}\n",
    "\n",
    "check_worker = pd.DataFrame(data=new_df4)"
   ]
  },
  {
   "cell_type": "code",
   "execution_count": 129,
   "metadata": {},
   "outputs": [
    {
     "data": {
      "image/png": "[encoded data removed]",
      "text/plain": [
       "<Figure size 432x576 with 1 Axes>"
      ]
     },
     "metadata": {},
     "output_type": "display_data"
    }
   ],
   "source": [
    "sns.set(style=\"darkgrid\")\n",
    "\n",
    "fig = sns.barplot(x=list(check_worker),\n",
    "                  y=[check_worker['Sim'].iloc[0],\n",
    "                     check_worker['Não'].iloc[0]],\n",
    "                     hue=list(check_worker))\n",
    "plt.grid(None)\n",
    "plt.title(\"O cliente tem telefone registrado no sistema?\")\n",
    "plt.rcParams[\"figure.figsize\"] = (6,8)\n",
    "plt.show(fig)"
   ]
  },
  {
   "cell_type": "markdown",
   "metadata": {},
   "source": [
    "# Duração do Trabalho"
   ]
  },
  {
   "cell_type": "code",
   "execution_count": 132,
   "metadata": {},
   "outputs": [
    {
     "data": {
      "text/plain": [
       "0.0     929\n",
       "5.0     390\n",
       "7.0     372\n",
       "6.0     351\n",
       "1.0     314\n",
       "3.0     290\n",
       "2.0     275\n",
       "4.0     275\n",
       "8.0     192\n",
       "9.0     180\n",
       "10.0    143\n",
       "11.0     90\n",
       "12.0     73\n",
       "13.0     24\n",
       "14.0     11\n",
       "15.0     10\n",
       "16.0      2\n",
       "18.0      1\n",
       "17.0      1\n",
       "Name: EMPLOYMENT_DURATION, dtype: int64"
      ]
     },
     "execution_count": 132,
     "metadata": {},
     "output_type": "execute_result"
    }
   ],
   "source": [
    "df2['EMPLOYMENT_DURATION'].value_counts()"
   ]
  },
  {
   "cell_type": "code",
   "execution_count": 138,
   "metadata": {},
   "outputs": [
    {
     "data": {
      "image/png": "[encoded data removed]",
      "text/plain": [
       "<Figure size 864x576 with 1 Axes>"
      ]
     },
     "metadata": {},
     "output_type": "display_data"
    }
   ],
   "source": [
    "ax = sns.distplot(df2.EMPLOYMENT_DURATION, kde = False, \n",
    "                  bins = [i for(i) in range (17)])\n",
    "\n",
    "ax.set_xlabel(\"Duração de Trabalho\", \n",
    "              fontsize = 20, \n",
    "              position=(0.5,0))\n",
    "\n",
    "ax.set_ylabel(\"Quantidade de pessoas\", \n",
    "              fontsize = 20, \n",
    "              position=(0.5,0.5))\n",
    "\n",
    "ax.grid(None)\n",
    "\n",
    "ax.set_title('Distribuição da duração de trabalho', \n",
    "             fontsize = 20)\n",
    "\n",
    "ax.figure.set_size_inches(12,8)"
   ]
  },
  {
   "cell_type": "markdown",
   "metadata": {},
   "source": [
    "## Propriedade"
   ]
  },
  {
   "cell_type": "code",
   "execution_count": 140,
   "metadata": {},
   "outputs": [
    {
     "data": {
      "text/plain": [
       "array(['SAVINGS_INSURANCE', 'UNKNOWN', 'REAL_ESTATE', 'CAR_OTHER', nan],\n",
       "      dtype=object)"
      ]
     },
     "execution_count": 140,
     "metadata": {},
     "output_type": "execute_result"
    }
   ],
   "source": [
    "df2['PROPERTY'].unique()"
   ]
  },
  {
   "cell_type": "markdown",
   "metadata": {},
   "source": [
    "## Habitação"
   ]
  },
  {
   "cell_type": "code",
   "execution_count": 141,
   "metadata": {},
   "outputs": [
    {
     "data": {
      "text/plain": [
       "array(['OWN', 'RENT', 'FREE', nan], dtype=object)"
      ]
     },
     "execution_count": 141,
     "metadata": {},
     "output_type": "execute_result"
    }
   ],
   "source": [
    "df2['HOUSING'].unique()"
   ]
  },
  {
   "cell_type": "markdown",
   "metadata": {},
   "source": [
    "## Duração de Residência Atual"
   ]
  },
  {
   "cell_type": "code",
   "execution_count": 144,
   "metadata": {},
   "outputs": [
    {
     "data": {
      "text/plain": [
       "3.0    1304\n",
       "2.0     986\n",
       "4.0     854\n",
       "1.0     486\n",
       "5.0     284\n",
       "6.0       3\n",
       "Name: CURRENT_RESIDENCE_DURATION, dtype: int64"
      ]
     },
     "execution_count": 144,
     "metadata": {},
     "output_type": "execute_result"
    }
   ],
   "source": [
    "df2['CURRENT_RESIDENCE_DURATION'].value_counts()"
   ]
  },
  {
   "cell_type": "code",
   "execution_count": 145,
   "metadata": {},
   "outputs": [],
   "source": [
    "crd1 = len(df2[df2[u'FOREIGN_WORKER'] == 1.0])\n",
    "crd2 = len(df2[df2[u'CURRENT_RESIDENCE_DURATION'] == 2.0])\n",
    "crd3 = len(df2[df2[u'CURRENT_RESIDENCE_DURATION'] == 3.0])\n",
    "crd4 = len(df2[df2[u'CURRENT_RESIDENCE_DURATION'] == 4.0])\n",
    "crd5 = len(df2[df2[u'CURRENT_RESIDENCE_DURATION'] == 5.0])\n",
    "crd6 = len(df2[df2[u'CURRENT_RESIDENCE_DURATION'] == 6.0])\n",
    "\n",
    "new_df5 = {'1': [crd1], '2': [crd2], '3': [crd3], '4': [crd4], '5': [crd5], '6': [crd6]}\n",
    "\n",
    "check_crd = pd.DataFrame(data=new_df5)"
   ]
  },
  {
   "cell_type": "code",
   "execution_count": 150,
   "metadata": {},
   "outputs": [
    {
     "data": {
      "image/png": "[encoded data removed]",
      "text/plain": [
       "<Figure size 864x864 with 1 Axes>"
      ]
     },
     "metadata": {},
     "output_type": "display_data"
    }
   ],
   "source": [
    "sns.set(style=\"darkgrid\")\n",
    "\n",
    "fig = sns.barplot(x=list(check_crd),\n",
    "                  y=[check_crd['1'].iloc[0],\n",
    "                     check_crd['2'].iloc[0],\n",
    "                     check_crd['3'].iloc[0],\n",
    "                     check_crd['4'].iloc[0],\n",
    "                     check_crd['5'].iloc[0],\n",
    "                     check_crd['6'].iloc[0]],\n",
    "                     hue=list(check_crd))\n",
    "plt.grid(None)\n",
    "plt.title(\"O cliente tem telefone registrado no sistema?\")\n",
    "plt.rcParams[\"figure.figsize\"] = (12,12)\n",
    "plt.show(fig)"
   ]
  },
  {
   "cell_type": "markdown",
   "metadata": {},
   "source": [
    "#### Questão x: De acordo com os insights obtidos nas questões anteriores, quais serão as decisões de tratamento a serem adotadas nos dados?\n",
    "\n"
   ]
  },
  {
   "cell_type": "markdown",
   "metadata": {},
   "source": [
    "# Tratamento de Dados\n",
    "\n",
    "O tratamento de dados pode ser construídos de 2 formas, a primeira trataria variáveis categóricas associadas a um id como 0 ou 1, seguindo a lógica de um \"One Hot Encoder\". Outra maneira, seria determinar índices associados a uma determinada variável categórica como, por exemplo: 0 - não informado, 1 - ruim, 2 - médio, 3 - bom."
   ]
  },
  {
   "cell_type": "markdown",
   "metadata": {},
   "source": [
    "## Tratamento de Dados 1 - Preparando a variável categórica 'histórico de crédito' para o modelo de classificação"
   ]
  },
  {
   "cell_type": "code",
   "execution_count": 22,
   "metadata": {},
   "outputs": [],
   "source": [
    "from sklearn.ensemble import RandomForestRegressor"
   ]
  },
  {
   "cell_type": "code",
   "execution_count": 23,
   "metadata": {},
   "outputs": [],
   "source": [
    "# Caso seja necessário descomente e execute o comando abaixo. \n",
    "# Feito isso, será necessário reiniciar o notebook e executá-lo novamente\n",
    "#pip install --upgrade category_encoders"
   ]
  },
  {
   "cell_type": "code",
   "execution_count": 24,
   "metadata": {},
   "outputs": [],
   "source": [
    "from category_encoders.one_hot import OneHotEncoder"
   ]
  },
  {
   "cell_type": "code",
   "execution_count": 25,
   "metadata": {},
   "outputs": [
    {
     "data": {
      "text/plain": [
       "OneHotEncoder(cols=['CREDIT_HISTORY'], use_cat_names=True)"
      ]
     },
     "execution_count": 25,
     "metadata": {},
     "output_type": "execute_result"
    }
   ],
   "source": [
    "enc = OneHotEncoder(cols=['CREDIT_HISTORY'], use_cat_names=True)\n",
    "enc.fit(df1)"
   ]
  },
  {
   "cell_type": "code",
   "execution_count": 26,
   "metadata": {},
   "outputs": [
    {
     "data": {
      "text/plain": [
       "5"
      ]
     },
     "execution_count": 26,
     "metadata": {},
     "output_type": "execute_result"
    }
   ],
   "source": [
    "df1['CREDIT_HISTORY'].nunique()"
   ]
  },
  {
   "cell_type": "code",
   "execution_count": 27,
   "metadata": {
    "scrolled": true
   },
   "outputs": [
    {
     "data": {
      "text/html": [
       "<div>\n",
       "<style scoped>\n",
       "    .dataframe tbody tr th:only-of-type {\n",
       "        vertical-align: middle;\n",
       "    }\n",
       "\n",
       "    .dataframe tbody tr th {\n",
       "        vertical-align: top;\n",
       "    }\n",
       "\n",
       "    .dataframe thead th {\n",
       "        text-align: right;\n",
       "    }\n",
       "</style>\n",
       "<table border=\"1\" class=\"dataframe\">\n",
       "  <thead>\n",
       "    <tr style=\"text-align: right;\">\n",
       "      <th></th>\n",
       "      <th>ID</th>\n",
       "      <th>CHECKING_BALANCE</th>\n",
       "      <th>CREDIT_HISTORY_ALL_CREDITS_PAID_BACK</th>\n",
       "      <th>CREDIT_HISTORY_CREDITS_PAID_TO_DATE</th>\n",
       "      <th>CREDIT_HISTORY_PRIOR_PAYMENTS_DELAYED</th>\n",
       "      <th>CREDIT_HISTORY_OUTSTANDING_CREDIT</th>\n",
       "      <th>CREDIT_HISTORY_NO_CREDITS</th>\n",
       "      <th>CREDIT_HISTORY_nan</th>\n",
       "      <th>EXISTING_SAVINGS</th>\n",
       "      <th>EXISTING_CREDITS_COUNT</th>\n",
       "    </tr>\n",
       "  </thead>\n",
       "  <tbody>\n",
       "    <tr>\n",
       "      <th>0</th>\n",
       "      <td>291655</td>\n",
       "      <td>-566.53</td>\n",
       "      <td>1</td>\n",
       "      <td>0</td>\n",
       "      <td>0</td>\n",
       "      <td>0</td>\n",
       "      <td>0</td>\n",
       "      <td>0</td>\n",
       "      <td>36.42</td>\n",
       "      <td>1.0</td>\n",
       "    </tr>\n",
       "    <tr>\n",
       "      <th>1</th>\n",
       "      <td>657079</td>\n",
       "      <td>-1673.16</td>\n",
       "      <td>0</td>\n",
       "      <td>1</td>\n",
       "      <td>0</td>\n",
       "      <td>0</td>\n",
       "      <td>0</td>\n",
       "      <td>0</td>\n",
       "      <td>22.9</td>\n",
       "      <td>1.0</td>\n",
       "    </tr>\n",
       "    <tr>\n",
       "      <th>2</th>\n",
       "      <td>256050</td>\n",
       "      <td>NO_CHECKING</td>\n",
       "      <td>0</td>\n",
       "      <td>1</td>\n",
       "      <td>0</td>\n",
       "      <td>0</td>\n",
       "      <td>0</td>\n",
       "      <td>0</td>\n",
       "      <td>450.35</td>\n",
       "      <td>2.0</td>\n",
       "    </tr>\n",
       "    <tr>\n",
       "      <th>3</th>\n",
       "      <td>1039151</td>\n",
       "      <td>-1471.03</td>\n",
       "      <td>0</td>\n",
       "      <td>0</td>\n",
       "      <td>1</td>\n",
       "      <td>0</td>\n",
       "      <td>0</td>\n",
       "      <td>0</td>\n",
       "      <td>805.71</td>\n",
       "      <td>2.0</td>\n",
       "    </tr>\n",
       "    <tr>\n",
       "      <th>4</th>\n",
       "      <td>1002660</td>\n",
       "      <td>NO_CHECKING</td>\n",
       "      <td>0</td>\n",
       "      <td>1</td>\n",
       "      <td>0</td>\n",
       "      <td>0</td>\n",
       "      <td>0</td>\n",
       "      <td>0</td>\n",
       "      <td>295.03</td>\n",
       "      <td>1.0</td>\n",
       "    </tr>\n",
       "    <tr>\n",
       "      <th>...</th>\n",
       "      <td>...</td>\n",
       "      <td>...</td>\n",
       "      <td>...</td>\n",
       "      <td>...</td>\n",
       "      <td>...</td>\n",
       "      <td>...</td>\n",
       "      <td>...</td>\n",
       "      <td>...</td>\n",
       "      <td>...</td>\n",
       "      <td>...</td>\n",
       "    </tr>\n",
       "    <tr>\n",
       "      <th>2472</th>\n",
       "      <td>636739</td>\n",
       "      <td>163.82</td>\n",
       "      <td>0</td>\n",
       "      <td>1</td>\n",
       "      <td>0</td>\n",
       "      <td>0</td>\n",
       "      <td>0</td>\n",
       "      <td>0</td>\n",
       "      <td>472.11</td>\n",
       "      <td>1.0</td>\n",
       "    </tr>\n",
       "    <tr>\n",
       "      <th>2473</th>\n",
       "      <td>919733</td>\n",
       "      <td>14324.23</td>\n",
       "      <td>0</td>\n",
       "      <td>0</td>\n",
       "      <td>1</td>\n",
       "      <td>0</td>\n",
       "      <td>0</td>\n",
       "      <td>0</td>\n",
       "      <td>18652.44</td>\n",
       "      <td>1.0</td>\n",
       "    </tr>\n",
       "    <tr>\n",
       "      <th>2474</th>\n",
       "      <td>115839</td>\n",
       "      <td>130.13</td>\n",
       "      <td>0</td>\n",
       "      <td>0</td>\n",
       "      <td>1</td>\n",
       "      <td>0</td>\n",
       "      <td>0</td>\n",
       "      <td>0</td>\n",
       "      <td>726.78</td>\n",
       "      <td>2.0</td>\n",
       "    </tr>\n",
       "    <tr>\n",
       "      <th>2475</th>\n",
       "      <td>1128684</td>\n",
       "      <td>NO_CHECKING</td>\n",
       "      <td>0</td>\n",
       "      <td>0</td>\n",
       "      <td>1</td>\n",
       "      <td>0</td>\n",
       "      <td>0</td>\n",
       "      <td>0</td>\n",
       "      <td>UNKNOWN</td>\n",
       "      <td>1.0</td>\n",
       "    </tr>\n",
       "    <tr>\n",
       "      <th>2476</th>\n",
       "      <td>5547</td>\n",
       "      <td>NO_CHECKING</td>\n",
       "      <td>0</td>\n",
       "      <td>0</td>\n",
       "      <td>1</td>\n",
       "      <td>0</td>\n",
       "      <td>0</td>\n",
       "      <td>0</td>\n",
       "      <td>UNKNOWN</td>\n",
       "      <td>2.0</td>\n",
       "    </tr>\n",
       "  </tbody>\n",
       "</table>\n",
       "<p>2477 rows × 10 columns</p>\n",
       "</div>"
      ],
      "text/plain": [
       "           ID CHECKING_BALANCE  CREDIT_HISTORY_ALL_CREDITS_PAID_BACK  \\\n",
       "0      291655          -566.53                                     1   \n",
       "1      657079         -1673.16                                     0   \n",
       "2      256050      NO_CHECKING                                     0   \n",
       "3     1039151         -1471.03                                     0   \n",
       "4     1002660      NO_CHECKING                                     0   \n",
       "...       ...              ...                                   ...   \n",
       "2472   636739           163.82                                     0   \n",
       "2473   919733         14324.23                                     0   \n",
       "2474   115839           130.13                                     0   \n",
       "2475  1128684      NO_CHECKING                                     0   \n",
       "2476     5547      NO_CHECKING                                     0   \n",
       "\n",
       "      CREDIT_HISTORY_CREDITS_PAID_TO_DATE  \\\n",
       "0                                       0   \n",
       "1                                       1   \n",
       "2                                       1   \n",
       "3                                       0   \n",
       "4                                       1   \n",
       "...                                   ...   \n",
       "2472                                    1   \n",
       "2473                                    0   \n",
       "2474                                    0   \n",
       "2475                                    0   \n",
       "2476                                    0   \n",
       "\n",
       "      CREDIT_HISTORY_PRIOR_PAYMENTS_DELAYED  \\\n",
       "0                                         0   \n",
       "1                                         0   \n",
       "2                                         0   \n",
       "3                                         1   \n",
       "4                                         0   \n",
       "...                                     ...   \n",
       "2472                                      0   \n",
       "2473                                      1   \n",
       "2474                                      1   \n",
       "2475                                      1   \n",
       "2476                                      1   \n",
       "\n",
       "      CREDIT_HISTORY_OUTSTANDING_CREDIT  CREDIT_HISTORY_NO_CREDITS  \\\n",
       "0                                     0                          0   \n",
       "1                                     0                          0   \n",
       "2                                     0                          0   \n",
       "3                                     0                          0   \n",
       "4                                     0                          0   \n",
       "...                                 ...                        ...   \n",
       "2472                                  0                          0   \n",
       "2473                                  0                          0   \n",
       "2474                                  0                          0   \n",
       "2475                                  0                          0   \n",
       "2476                                  0                          0   \n",
       "\n",
       "      CREDIT_HISTORY_nan EXISTING_SAVINGS  EXISTING_CREDITS_COUNT  \n",
       "0                      0            36.42                     1.0  \n",
       "1                      0             22.9                     1.0  \n",
       "2                      0           450.35                     2.0  \n",
       "3                      0           805.71                     2.0  \n",
       "4                      0           295.03                     1.0  \n",
       "...                  ...              ...                     ...  \n",
       "2472                   0           472.11                     1.0  \n",
       "2473                   0         18652.44                     1.0  \n",
       "2474                   0           726.78                     2.0  \n",
       "2475                   0          UNKNOWN                     1.0  \n",
       "2476                   0          UNKNOWN                     2.0  \n",
       "\n",
       "[2477 rows x 10 columns]"
      ]
     },
     "execution_count": 27,
     "metadata": {},
     "output_type": "execute_result"
    }
   ],
   "source": [
    "new_df1 = enc.transform(df1)\n",
    "new_df1"
   ]
  },
  {
   "cell_type": "code",
   "execution_count": null,
   "metadata": {},
   "outputs": [],
   "source": []
  }
 ],
 "metadata": {
  "kernelspec": {
   "display_name": "Python 3",
   "language": "python",
   "name": "python3"
  },
  "language_info": {
   "codemirror_mode": {
    "name": "ipython",
    "version": 3
   },
   "file_extension": ".py",
   "mimetype": "text/x-python",
   "name": "python",
   "nbconvert_exporter": "python",
   "pygments_lexer": "ipython3",
   "version": "3.8.5"
  }
 },
 "nbformat": 4,
 "nbformat_minor": 4
}
