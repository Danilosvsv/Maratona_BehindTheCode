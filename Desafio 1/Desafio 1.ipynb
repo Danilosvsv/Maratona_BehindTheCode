{
 "cells": [
  {
   "cell_type": "code",
   "execution_count": 1,
   "metadata": {},
   "outputs": [],
   "source": [
    "# Caso seja necessário descomente e execute o comando abaixo. \n",
    "# Feito isso, será necessário reiniciar o notebook e executá-lo novamente\n",
    "#pip install --upgrade category_encoders"
   ]
  },
  {
   "cell_type": "code",
   "execution_count": 299,
   "metadata": {},
   "outputs": [],
   "source": [
    "import pandas as pd\n",
    "import matplotlib.pyplot as plt\n",
    "import seaborn as sns\n",
    "import sklearn\n",
    "import numpy as np\n",
    "%matplotlib inline\n",
    "from sklearn.ensemble import RandomForestRegressor\n",
    "from category_encoders.one_hot import OneHotEncoder\n",
    "import warnings\n",
    "warnings.filterwarnings('ignore')\n",
    "from sklearn.model_selection import train_test_split\n",
    "from sklearn.metrics import mean_absolute_error\n",
    "from category_encoders.ordinal import OrdinalEncoder"
   ]
  },
  {
   "cell_type": "markdown",
   "metadata": {},
   "source": [
    "## Carregando os datasets"
   ]
  },
  {
   "cell_type": "code",
   "execution_count": 3,
   "metadata": {},
   "outputs": [],
   "source": [
    "df1 = pd.read_csv('ACCOUNTS.csv')\n",
    "df2 = pd.read_csv('DEMOGRAPHICS.csv')\n",
    "df3 = pd.read_csv('LOANS.csv')"
   ]
  },
  {
   "cell_type": "markdown",
   "metadata": {},
   "source": [
    "## Visão Geral\n",
    "\n",
    "Compreender cada informação coletada é essencial para um possível modelo que será gerado. Nesse sentido, gera-se uma análise inicial de cada variável (ou coluna) foi coletada e justifica-se o porque dessa variável não será considerada no modelo ou até mesmo, qual tratamento de dados será utilizado nela."
   ]
  },
  {
   "cell_type": "code",
   "execution_count": 4,
   "metadata": {},
   "outputs": [
    {
     "name": "stdout",
     "output_type": "stream",
     "text": [
      "<class 'pandas.core.frame.DataFrame'>\n",
      "RangeIndex: 2477 entries, 0 to 2476\n",
      "Data columns (total 5 columns):\n",
      " #   Column                  Non-Null Count  Dtype  \n",
      "---  ------                  --------------  -----  \n",
      " 0   ID                      2477 non-null   int64  \n",
      " 1   CHECKING_BALANCE        2467 non-null   object \n",
      " 2   CREDIT_HISTORY          2462 non-null   object \n",
      " 3   EXISTING_SAVINGS        2467 non-null   object \n",
      " 4   EXISTING_CREDITS_COUNT  2463 non-null   float64\n",
      "dtypes: float64(1), int64(1), object(3)\n",
      "memory usage: 96.9+ KB\n"
     ]
    }
   ],
   "source": [
    "df1.info()"
   ]
  },
  {
   "cell_type": "markdown",
   "metadata": {},
   "source": [
    "A função <strong>info()</strong> já mostra um resumo geral do comportamento dos dados, apesar de superficial é possível observar que os dados estão desbalanceados, ou seja, será necessário realizar uma análise exploratória individual de cada variável e posteriormente realizar um tratamento e limpeza de informações que não terão impacto no modelo de classificação que se almeja construir."
   ]
  },
  {
   "cell_type": "markdown",
   "metadata": {},
   "source": [
    "# Fase 1: Análise individual de cada variável, tratamento de dados, junção das bases de dados, análise de outliers."
   ]
  },
  {
   "cell_type": "markdown",
   "metadata": {},
   "source": [
    "## - Análise Inicial de Dados 1 - 'accounts.csv'\n"
   ]
  },
  {
   "cell_type": "code",
   "execution_count": 5,
   "metadata": {},
   "outputs": [
    {
     "data": {
      "text/html": [
       "<div>\n",
       "<style scoped>\n",
       "    .dataframe tbody tr th:only-of-type {\n",
       "        vertical-align: middle;\n",
       "    }\n",
       "\n",
       "    .dataframe tbody tr th {\n",
       "        vertical-align: top;\n",
       "    }\n",
       "\n",
       "    .dataframe thead th {\n",
       "        text-align: right;\n",
       "    }\n",
       "</style>\n",
       "<table border=\"1\" class=\"dataframe\">\n",
       "  <thead>\n",
       "    <tr style=\"text-align: right;\">\n",
       "      <th></th>\n",
       "      <th>ID</th>\n",
       "      <th>CHECKING_BALANCE</th>\n",
       "      <th>CREDIT_HISTORY</th>\n",
       "      <th>EXISTING_SAVINGS</th>\n",
       "      <th>EXISTING_CREDITS_COUNT</th>\n",
       "    </tr>\n",
       "  </thead>\n",
       "  <tbody>\n",
       "    <tr>\n",
       "      <th>0</th>\n",
       "      <td>291655</td>\n",
       "      <td>-566.53</td>\n",
       "      <td>ALL_CREDITS_PAID_BACK</td>\n",
       "      <td>36.42</td>\n",
       "      <td>1.0</td>\n",
       "    </tr>\n",
       "    <tr>\n",
       "      <th>1</th>\n",
       "      <td>657079</td>\n",
       "      <td>-1673.16</td>\n",
       "      <td>CREDITS_PAID_TO_DATE</td>\n",
       "      <td>22.9</td>\n",
       "      <td>1.0</td>\n",
       "    </tr>\n",
       "    <tr>\n",
       "      <th>2</th>\n",
       "      <td>256050</td>\n",
       "      <td>NO_CHECKING</td>\n",
       "      <td>CREDITS_PAID_TO_DATE</td>\n",
       "      <td>450.35</td>\n",
       "      <td>2.0</td>\n",
       "    </tr>\n",
       "    <tr>\n",
       "      <th>3</th>\n",
       "      <td>1039151</td>\n",
       "      <td>-1471.03</td>\n",
       "      <td>PRIOR_PAYMENTS_DELAYED</td>\n",
       "      <td>805.71</td>\n",
       "      <td>2.0</td>\n",
       "    </tr>\n",
       "    <tr>\n",
       "      <th>4</th>\n",
       "      <td>1002660</td>\n",
       "      <td>NO_CHECKING</td>\n",
       "      <td>CREDITS_PAID_TO_DATE</td>\n",
       "      <td>295.03</td>\n",
       "      <td>1.0</td>\n",
       "    </tr>\n",
       "    <tr>\n",
       "      <th>...</th>\n",
       "      <td>...</td>\n",
       "      <td>...</td>\n",
       "      <td>...</td>\n",
       "      <td>...</td>\n",
       "      <td>...</td>\n",
       "    </tr>\n",
       "    <tr>\n",
       "      <th>2472</th>\n",
       "      <td>636739</td>\n",
       "      <td>163.82</td>\n",
       "      <td>CREDITS_PAID_TO_DATE</td>\n",
       "      <td>472.11</td>\n",
       "      <td>1.0</td>\n",
       "    </tr>\n",
       "    <tr>\n",
       "      <th>2473</th>\n",
       "      <td>919733</td>\n",
       "      <td>14324.23</td>\n",
       "      <td>PRIOR_PAYMENTS_DELAYED</td>\n",
       "      <td>18652.44</td>\n",
       "      <td>1.0</td>\n",
       "    </tr>\n",
       "    <tr>\n",
       "      <th>2474</th>\n",
       "      <td>115839</td>\n",
       "      <td>130.13</td>\n",
       "      <td>PRIOR_PAYMENTS_DELAYED</td>\n",
       "      <td>726.78</td>\n",
       "      <td>2.0</td>\n",
       "    </tr>\n",
       "    <tr>\n",
       "      <th>2475</th>\n",
       "      <td>1128684</td>\n",
       "      <td>NO_CHECKING</td>\n",
       "      <td>PRIOR_PAYMENTS_DELAYED</td>\n",
       "      <td>UNKNOWN</td>\n",
       "      <td>1.0</td>\n",
       "    </tr>\n",
       "    <tr>\n",
       "      <th>2476</th>\n",
       "      <td>5547</td>\n",
       "      <td>NO_CHECKING</td>\n",
       "      <td>PRIOR_PAYMENTS_DELAYED</td>\n",
       "      <td>UNKNOWN</td>\n",
       "      <td>2.0</td>\n",
       "    </tr>\n",
       "  </tbody>\n",
       "</table>\n",
       "<p>2477 rows × 5 columns</p>\n",
       "</div>"
      ],
      "text/plain": [
       "           ID CHECKING_BALANCE          CREDIT_HISTORY EXISTING_SAVINGS  \\\n",
       "0      291655          -566.53   ALL_CREDITS_PAID_BACK            36.42   \n",
       "1      657079         -1673.16    CREDITS_PAID_TO_DATE             22.9   \n",
       "2      256050      NO_CHECKING    CREDITS_PAID_TO_DATE           450.35   \n",
       "3     1039151         -1471.03  PRIOR_PAYMENTS_DELAYED           805.71   \n",
       "4     1002660      NO_CHECKING    CREDITS_PAID_TO_DATE           295.03   \n",
       "...       ...              ...                     ...              ...   \n",
       "2472   636739           163.82    CREDITS_PAID_TO_DATE           472.11   \n",
       "2473   919733         14324.23  PRIOR_PAYMENTS_DELAYED         18652.44   \n",
       "2474   115839           130.13  PRIOR_PAYMENTS_DELAYED           726.78   \n",
       "2475  1128684      NO_CHECKING  PRIOR_PAYMENTS_DELAYED          UNKNOWN   \n",
       "2476     5547      NO_CHECKING  PRIOR_PAYMENTS_DELAYED          UNKNOWN   \n",
       "\n",
       "      EXISTING_CREDITS_COUNT  \n",
       "0                        1.0  \n",
       "1                        1.0  \n",
       "2                        2.0  \n",
       "3                        2.0  \n",
       "4                        1.0  \n",
       "...                      ...  \n",
       "2472                     1.0  \n",
       "2473                     1.0  \n",
       "2474                     2.0  \n",
       "2475                     1.0  \n",
       "2476                     2.0  \n",
       "\n",
       "[2477 rows x 5 columns]"
      ]
     },
     "execution_count": 5,
     "metadata": {},
     "output_type": "execute_result"
    }
   ],
   "source": [
    "df1"
   ]
  },
  {
   "cell_type": "code",
   "execution_count": 6,
   "metadata": {},
   "outputs": [
    {
     "data": {
      "text/html": [
       "<div>\n",
       "<style scoped>\n",
       "    .dataframe tbody tr th:only-of-type {\n",
       "        vertical-align: middle;\n",
       "    }\n",
       "\n",
       "    .dataframe tbody tr th {\n",
       "        vertical-align: top;\n",
       "    }\n",
       "\n",
       "    .dataframe thead th {\n",
       "        text-align: right;\n",
       "    }\n",
       "</style>\n",
       "<table border=\"1\" class=\"dataframe\">\n",
       "  <thead>\n",
       "    <tr style=\"text-align: right;\">\n",
       "      <th></th>\n",
       "      <th>ID</th>\n",
       "      <th>EXISTING_CREDITS_COUNT</th>\n",
       "    </tr>\n",
       "  </thead>\n",
       "  <tbody>\n",
       "    <tr>\n",
       "      <th>ID</th>\n",
       "      <td>1.000000</td>\n",
       "      <td>-0.003681</td>\n",
       "    </tr>\n",
       "    <tr>\n",
       "      <th>EXISTING_CREDITS_COUNT</th>\n",
       "      <td>-0.003681</td>\n",
       "      <td>1.000000</td>\n",
       "    </tr>\n",
       "  </tbody>\n",
       "</table>\n",
       "</div>"
      ],
      "text/plain": [
       "                              ID  EXISTING_CREDITS_COUNT\n",
       "ID                      1.000000               -0.003681\n",
       "EXISTING_CREDITS_COUNT -0.003681                1.000000"
      ]
     },
     "execution_count": 6,
     "metadata": {},
     "output_type": "execute_result"
    }
   ],
   "source": [
    "df1.corr() "
   ]
  },
  {
   "cell_type": "code",
   "execution_count": 7,
   "metadata": {},
   "outputs": [
    {
     "data": {
      "text/html": [
       "<div>\n",
       "<style scoped>\n",
       "    .dataframe tbody tr th:only-of-type {\n",
       "        vertical-align: middle;\n",
       "    }\n",
       "\n",
       "    .dataframe tbody tr th {\n",
       "        vertical-align: top;\n",
       "    }\n",
       "\n",
       "    .dataframe thead th {\n",
       "        text-align: right;\n",
       "    }\n",
       "</style>\n",
       "<table border=\"1\" class=\"dataframe\">\n",
       "  <thead>\n",
       "    <tr style=\"text-align: right;\">\n",
       "      <th></th>\n",
       "      <th>ID</th>\n",
       "      <th>CHECKING_BALANCE</th>\n",
       "      <th>CREDIT_HISTORY</th>\n",
       "      <th>EXISTING_SAVINGS</th>\n",
       "      <th>EXISTING_CREDITS_COUNT</th>\n",
       "    </tr>\n",
       "  </thead>\n",
       "  <tbody>\n",
       "    <tr>\n",
       "      <th>2</th>\n",
       "      <td>256050</td>\n",
       "      <td>NO_CHECKING</td>\n",
       "      <td>CREDITS_PAID_TO_DATE</td>\n",
       "      <td>450.35</td>\n",
       "      <td>2.0</td>\n",
       "    </tr>\n",
       "    <tr>\n",
       "      <th>4</th>\n",
       "      <td>1002660</td>\n",
       "      <td>NO_CHECKING</td>\n",
       "      <td>CREDITS_PAID_TO_DATE</td>\n",
       "      <td>295.03</td>\n",
       "      <td>1.0</td>\n",
       "    </tr>\n",
       "    <tr>\n",
       "      <th>6</th>\n",
       "      <td>1096578</td>\n",
       "      <td>NO_CHECKING</td>\n",
       "      <td>PRIOR_PAYMENTS_DELAYED</td>\n",
       "      <td>421.96</td>\n",
       "      <td>1.0</td>\n",
       "    </tr>\n",
       "    <tr>\n",
       "      <th>10</th>\n",
       "      <td>1136574</td>\n",
       "      <td>NO_CHECKING</td>\n",
       "      <td>PRIOR_PAYMENTS_DELAYED</td>\n",
       "      <td>383.57</td>\n",
       "      <td>1.0</td>\n",
       "    </tr>\n",
       "    <tr>\n",
       "      <th>12</th>\n",
       "      <td>1268579</td>\n",
       "      <td>NO_CHECKING</td>\n",
       "      <td>OUTSTANDING_CREDIT</td>\n",
       "      <td>572.37</td>\n",
       "      <td>2.0</td>\n",
       "    </tr>\n",
       "    <tr>\n",
       "      <th>...</th>\n",
       "      <td>...</td>\n",
       "      <td>...</td>\n",
       "      <td>...</td>\n",
       "      <td>...</td>\n",
       "      <td>...</td>\n",
       "    </tr>\n",
       "    <tr>\n",
       "      <th>2468</th>\n",
       "      <td>827553</td>\n",
       "      <td>NO_CHECKING</td>\n",
       "      <td>PRIOR_PAYMENTS_DELAYED</td>\n",
       "      <td>615.54</td>\n",
       "      <td>2.0</td>\n",
       "    </tr>\n",
       "    <tr>\n",
       "      <th>2469</th>\n",
       "      <td>145488</td>\n",
       "      <td>NO_CHECKING</td>\n",
       "      <td>OUTSTANDING_CREDIT</td>\n",
       "      <td>33154.86</td>\n",
       "      <td>2.0</td>\n",
       "    </tr>\n",
       "    <tr>\n",
       "      <th>2470</th>\n",
       "      <td>178072</td>\n",
       "      <td>NO_CHECKING</td>\n",
       "      <td>PRIOR_PAYMENTS_DELAYED</td>\n",
       "      <td>726.26</td>\n",
       "      <td>2.0</td>\n",
       "    </tr>\n",
       "    <tr>\n",
       "      <th>2475</th>\n",
       "      <td>1128684</td>\n",
       "      <td>NO_CHECKING</td>\n",
       "      <td>PRIOR_PAYMENTS_DELAYED</td>\n",
       "      <td>UNKNOWN</td>\n",
       "      <td>1.0</td>\n",
       "    </tr>\n",
       "    <tr>\n",
       "      <th>2476</th>\n",
       "      <td>5547</td>\n",
       "      <td>NO_CHECKING</td>\n",
       "      <td>PRIOR_PAYMENTS_DELAYED</td>\n",
       "      <td>UNKNOWN</td>\n",
       "      <td>2.0</td>\n",
       "    </tr>\n",
       "  </tbody>\n",
       "</table>\n",
       "<p>988 rows × 5 columns</p>\n",
       "</div>"
      ],
      "text/plain": [
       "           ID CHECKING_BALANCE          CREDIT_HISTORY EXISTING_SAVINGS  \\\n",
       "2      256050      NO_CHECKING    CREDITS_PAID_TO_DATE           450.35   \n",
       "4     1002660      NO_CHECKING    CREDITS_PAID_TO_DATE           295.03   \n",
       "6     1096578      NO_CHECKING  PRIOR_PAYMENTS_DELAYED           421.96   \n",
       "10    1136574      NO_CHECKING  PRIOR_PAYMENTS_DELAYED           383.57   \n",
       "12    1268579      NO_CHECKING      OUTSTANDING_CREDIT           572.37   \n",
       "...       ...              ...                     ...              ...   \n",
       "2468   827553      NO_CHECKING  PRIOR_PAYMENTS_DELAYED           615.54   \n",
       "2469   145488      NO_CHECKING      OUTSTANDING_CREDIT         33154.86   \n",
       "2470   178072      NO_CHECKING  PRIOR_PAYMENTS_DELAYED           726.26   \n",
       "2475  1128684      NO_CHECKING  PRIOR_PAYMENTS_DELAYED          UNKNOWN   \n",
       "2476     5547      NO_CHECKING  PRIOR_PAYMENTS_DELAYED          UNKNOWN   \n",
       "\n",
       "      EXISTING_CREDITS_COUNT  \n",
       "2                        2.0  \n",
       "4                        1.0  \n",
       "6                        1.0  \n",
       "10                       1.0  \n",
       "12                       2.0  \n",
       "...                      ...  \n",
       "2468                     2.0  \n",
       "2469                     2.0  \n",
       "2470                     2.0  \n",
       "2475                     1.0  \n",
       "2476                     2.0  \n",
       "\n",
       "[988 rows x 5 columns]"
      ]
     },
     "execution_count": 7,
     "metadata": {},
     "output_type": "execute_result"
    }
   ],
   "source": [
    "df1[df1['CHECKING_BALANCE']=='NO_CHECKING']"
   ]
  },
  {
   "cell_type": "code",
   "execution_count": 8,
   "metadata": {},
   "outputs": [
    {
     "data": {
      "text/html": [
       "<div>\n",
       "<style scoped>\n",
       "    .dataframe tbody tr th:only-of-type {\n",
       "        vertical-align: middle;\n",
       "    }\n",
       "\n",
       "    .dataframe tbody tr th {\n",
       "        vertical-align: top;\n",
       "    }\n",
       "\n",
       "    .dataframe thead th {\n",
       "        text-align: right;\n",
       "    }\n",
       "</style>\n",
       "<table border=\"1\" class=\"dataframe\">\n",
       "  <thead>\n",
       "    <tr style=\"text-align: right;\">\n",
       "      <th></th>\n",
       "      <th>ID</th>\n",
       "      <th>CHECKING_BALANCE</th>\n",
       "      <th>CREDIT_HISTORY</th>\n",
       "      <th>EXISTING_SAVINGS</th>\n",
       "      <th>EXISTING_CREDITS_COUNT</th>\n",
       "    </tr>\n",
       "  </thead>\n",
       "  <tbody>\n",
       "    <tr>\n",
       "      <th>23</th>\n",
       "      <td>1049084</td>\n",
       "      <td>NO_CHECKING</td>\n",
       "      <td>OUTSTANDING_CREDIT</td>\n",
       "      <td>UNKNOWN</td>\n",
       "      <td>2.0</td>\n",
       "    </tr>\n",
       "    <tr>\n",
       "      <th>26</th>\n",
       "      <td>1177670</td>\n",
       "      <td>NO_CHECKING</td>\n",
       "      <td>OUTSTANDING_CREDIT</td>\n",
       "      <td>UNKNOWN</td>\n",
       "      <td>2.0</td>\n",
       "    </tr>\n",
       "    <tr>\n",
       "      <th>31</th>\n",
       "      <td>584707</td>\n",
       "      <td>NO_CHECKING</td>\n",
       "      <td>OUTSTANDING_CREDIT</td>\n",
       "      <td>UNKNOWN</td>\n",
       "      <td>2.0</td>\n",
       "    </tr>\n",
       "    <tr>\n",
       "      <th>32</th>\n",
       "      <td>100984</td>\n",
       "      <td>NO_CHECKING</td>\n",
       "      <td>PRIOR_PAYMENTS_DELAYED</td>\n",
       "      <td>UNKNOWN</td>\n",
       "      <td>3.0</td>\n",
       "    </tr>\n",
       "    <tr>\n",
       "      <th>36</th>\n",
       "      <td>29700</td>\n",
       "      <td>NO_CHECKING</td>\n",
       "      <td>OUTSTANDING_CREDIT</td>\n",
       "      <td>UNKNOWN</td>\n",
       "      <td>2.0</td>\n",
       "    </tr>\n",
       "    <tr>\n",
       "      <th>...</th>\n",
       "      <td>...</td>\n",
       "      <td>...</td>\n",
       "      <td>...</td>\n",
       "      <td>...</td>\n",
       "      <td>...</td>\n",
       "    </tr>\n",
       "    <tr>\n",
       "      <th>2380</th>\n",
       "      <td>514189</td>\n",
       "      <td>NO_CHECKING</td>\n",
       "      <td>PRIOR_PAYMENTS_DELAYED</td>\n",
       "      <td>UNKNOWN</td>\n",
       "      <td>2.0</td>\n",
       "    </tr>\n",
       "    <tr>\n",
       "      <th>2429</th>\n",
       "      <td>816269</td>\n",
       "      <td>NO_CHECKING</td>\n",
       "      <td>OUTSTANDING_CREDIT</td>\n",
       "      <td>UNKNOWN</td>\n",
       "      <td>2.0</td>\n",
       "    </tr>\n",
       "    <tr>\n",
       "      <th>2438</th>\n",
       "      <td>1152672</td>\n",
       "      <td>97.91</td>\n",
       "      <td>OUTSTANDING_CREDIT</td>\n",
       "      <td>UNKNOWN</td>\n",
       "      <td>2.0</td>\n",
       "    </tr>\n",
       "    <tr>\n",
       "      <th>2475</th>\n",
       "      <td>1128684</td>\n",
       "      <td>NO_CHECKING</td>\n",
       "      <td>PRIOR_PAYMENTS_DELAYED</td>\n",
       "      <td>UNKNOWN</td>\n",
       "      <td>1.0</td>\n",
       "    </tr>\n",
       "    <tr>\n",
       "      <th>2476</th>\n",
       "      <td>5547</td>\n",
       "      <td>NO_CHECKING</td>\n",
       "      <td>PRIOR_PAYMENTS_DELAYED</td>\n",
       "      <td>UNKNOWN</td>\n",
       "      <td>2.0</td>\n",
       "    </tr>\n",
       "  </tbody>\n",
       "</table>\n",
       "<p>176 rows × 5 columns</p>\n",
       "</div>"
      ],
      "text/plain": [
       "           ID CHECKING_BALANCE          CREDIT_HISTORY EXISTING_SAVINGS  \\\n",
       "23    1049084      NO_CHECKING      OUTSTANDING_CREDIT          UNKNOWN   \n",
       "26    1177670      NO_CHECKING      OUTSTANDING_CREDIT          UNKNOWN   \n",
       "31     584707      NO_CHECKING      OUTSTANDING_CREDIT          UNKNOWN   \n",
       "32     100984      NO_CHECKING  PRIOR_PAYMENTS_DELAYED          UNKNOWN   \n",
       "36      29700      NO_CHECKING      OUTSTANDING_CREDIT          UNKNOWN   \n",
       "...       ...              ...                     ...              ...   \n",
       "2380   514189      NO_CHECKING  PRIOR_PAYMENTS_DELAYED          UNKNOWN   \n",
       "2429   816269      NO_CHECKING      OUTSTANDING_CREDIT          UNKNOWN   \n",
       "2438  1152672            97.91      OUTSTANDING_CREDIT          UNKNOWN   \n",
       "2475  1128684      NO_CHECKING  PRIOR_PAYMENTS_DELAYED          UNKNOWN   \n",
       "2476     5547      NO_CHECKING  PRIOR_PAYMENTS_DELAYED          UNKNOWN   \n",
       "\n",
       "      EXISTING_CREDITS_COUNT  \n",
       "23                       2.0  \n",
       "26                       2.0  \n",
       "31                       2.0  \n",
       "32                       3.0  \n",
       "36                       2.0  \n",
       "...                      ...  \n",
       "2380                     2.0  \n",
       "2429                     2.0  \n",
       "2438                     2.0  \n",
       "2475                     1.0  \n",
       "2476                     2.0  \n",
       "\n",
       "[176 rows x 5 columns]"
      ]
     },
     "execution_count": 8,
     "metadata": {},
     "output_type": "execute_result"
    }
   ],
   "source": [
    "df1[df1['EXISTING_SAVINGS']=='UNKNOWN']"
   ]
  },
  {
   "cell_type": "markdown",
   "metadata": {},
   "source": [
    "### 1) Com relação aos saldo da conta de cada cliente, qual a relação entre verificados e não verificados? "
   ]
  },
  {
   "cell_type": "code",
   "execution_count": 9,
   "metadata": {},
   "outputs": [],
   "source": [
    "# Dividi-se o dataset em 2, onde a variável check é compreendida pelas informações numéricas.\n",
    "no_check = len(df1[df1[u'CHECKING_BALANCE'] == 'NO_CHECKING'])\n",
    "check = len(df1[df1[u'CHECKING_BALANCE'] != 'NO_CHECKING'])\n",
    "\n",
    "new_df = {'NO_CHECKING': [no_check], 'CHECKING': [check]}\n",
    "\n",
    "checking_balance = pd.DataFrame(data=new_df)"
   ]
  },
  {
   "cell_type": "code",
   "execution_count": 10,
   "metadata": {},
   "outputs": [
    {
     "data": {
      "image/png": "[encoded data removed]",
      "text/plain": [
       "<Figure size 432x288 with 1 Axes>"
      ]
     },
     "metadata": {},
     "output_type": "display_data"
    }
   ],
   "source": [
    "sns.set(style=\"darkgrid\")\n",
    "\n",
    "fig = sns.barplot(x=list(checking_balance) ,y=[checking_balance['CHECKING'].iloc[0],checking_balance['NO_CHECKING'].iloc[0]],hue=list(checking_balance))\n",
    "plt.title(\"Relação entre saldos verificados e não verificados\")\n",
    "plt.show(fig)"
   ]
  },
  {
   "cell_type": "markdown",
   "metadata": {},
   "source": [
    "### 2) Quais características estão presentes na coluna 'Histórico de Crédito'?"
   ]
  },
  {
   "cell_type": "code",
   "execution_count": 11,
   "metadata": {},
   "outputs": [
    {
     "data": {
      "text/plain": [
       "array(['ALL_CREDITS_PAID_BACK', 'CREDITS_PAID_TO_DATE',\n",
       "       'PRIOR_PAYMENTS_DELAYED', 'OUTSTANDING_CREDIT', 'NO_CREDITS', nan],\n",
       "      dtype=object)"
      ]
     },
     "execution_count": 11,
     "metadata": {},
     "output_type": "execute_result"
    }
   ],
   "source": [
    "df1['CREDIT_HISTORY'].unique()"
   ]
  },
  {
   "cell_type": "markdown",
   "metadata": {},
   "source": [
    "### 3) Qual a relação entre economias conhecidas e desconhecidas dos clientes com o banco?"
   ]
  },
  {
   "cell_type": "code",
   "execution_count": 12,
   "metadata": {},
   "outputs": [],
   "source": [
    "# Dividi-se o dataset em 2, onde a variável check é compreendida pelas informações numéricas.\n",
    "exis = len(df1[df1[u'EXISTING_SAVINGS'] != 'UNKNOWN'])\n",
    "no_exis = len(df1[df1[u'EXISTING_SAVINGS'] == 'UNKNOWN'])\n",
    "\n",
    "new_df2 = {'EXISTING_SAVINGS': [exis], 'NO_EXISTING_SAVINGS': [no_exis]}\n",
    "\n",
    "check_savings = pd.DataFrame(data=new_df2)"
   ]
  },
  {
   "cell_type": "code",
   "execution_count": 13,
   "metadata": {},
   "outputs": [
    {
     "data": {
      "text/html": [
       "<div>\n",
       "<style scoped>\n",
       "    .dataframe tbody tr th:only-of-type {\n",
       "        vertical-align: middle;\n",
       "    }\n",
       "\n",
       "    .dataframe tbody tr th {\n",
       "        vertical-align: top;\n",
       "    }\n",
       "\n",
       "    .dataframe thead th {\n",
       "        text-align: right;\n",
       "    }\n",
       "</style>\n",
       "<table border=\"1\" class=\"dataframe\">\n",
       "  <thead>\n",
       "    <tr style=\"text-align: right;\">\n",
       "      <th></th>\n",
       "      <th>EXISTING_SAVINGS</th>\n",
       "      <th>NO_EXISTING_SAVINGS</th>\n",
       "    </tr>\n",
       "  </thead>\n",
       "  <tbody>\n",
       "    <tr>\n",
       "      <th>0</th>\n",
       "      <td>2301</td>\n",
       "      <td>176</td>\n",
       "    </tr>\n",
       "  </tbody>\n",
       "</table>\n",
       "</div>"
      ],
      "text/plain": [
       "   EXISTING_SAVINGS  NO_EXISTING_SAVINGS\n",
       "0              2301                  176"
      ]
     },
     "execution_count": 13,
     "metadata": {},
     "output_type": "execute_result"
    }
   ],
   "source": [
    "check_savings"
   ]
  },
  {
   "cell_type": "code",
   "execution_count": 14,
   "metadata": {},
   "outputs": [
    {
     "data": {
      "image/png": "[encoded data removed]",
      "text/plain": [
       "<Figure size 432x288 with 1 Axes>"
      ]
     },
     "metadata": {},
     "output_type": "display_data"
    }
   ],
   "source": [
    "sns.set(style=\"darkgrid\")\n",
    "\n",
    "fig = sns.barplot(x=list(check_savings) ,y=[check_savings['EXISTING_SAVINGS'].iloc[0],\n",
    "                                            check_savings['NO_EXISTING_SAVINGS'].iloc[0]],\n",
    "                                            hue=list(check_savings))\n",
    "plt.title(\"Relação entre saldos verificados e não verificados\")\n",
    "plt.show(fig)"
   ]
  },
  {
   "cell_type": "code",
   "execution_count": 15,
   "metadata": {},
   "outputs": [
    {
     "data": {
      "text/html": [
       "<div>\n",
       "<style scoped>\n",
       "    .dataframe tbody tr th:only-of-type {\n",
       "        vertical-align: middle;\n",
       "    }\n",
       "\n",
       "    .dataframe tbody tr th {\n",
       "        vertical-align: top;\n",
       "    }\n",
       "\n",
       "    .dataframe thead th {\n",
       "        text-align: right;\n",
       "    }\n",
       "</style>\n",
       "<table border=\"1\" class=\"dataframe\">\n",
       "  <thead>\n",
       "    <tr style=\"text-align: right;\">\n",
       "      <th></th>\n",
       "      <th>ID</th>\n",
       "      <th>CHECKING_BALANCE</th>\n",
       "      <th>CREDIT_HISTORY</th>\n",
       "      <th>EXISTING_SAVINGS</th>\n",
       "      <th>EXISTING_CREDITS_COUNT</th>\n",
       "    </tr>\n",
       "  </thead>\n",
       "  <tbody>\n",
       "    <tr>\n",
       "      <th>34</th>\n",
       "      <td>1205053</td>\n",
       "      <td>NO_CHECKING</td>\n",
       "      <td>PRIOR_PAYMENTS_DELAYED</td>\n",
       "      <td>600.14</td>\n",
       "      <td>NaN</td>\n",
       "    </tr>\n",
       "    <tr>\n",
       "      <th>38</th>\n",
       "      <td>245917</td>\n",
       "      <td>NO_CHECKING</td>\n",
       "      <td>PRIOR_PAYMENTS_DELAYED</td>\n",
       "      <td>1788.77</td>\n",
       "      <td>NaN</td>\n",
       "    </tr>\n",
       "    <tr>\n",
       "      <th>193</th>\n",
       "      <td>205835</td>\n",
       "      <td>-665.67</td>\n",
       "      <td>ALL_CREDITS_PAID_BACK</td>\n",
       "      <td>441.07</td>\n",
       "      <td>NaN</td>\n",
       "    </tr>\n",
       "    <tr>\n",
       "      <th>295</th>\n",
       "      <td>501397</td>\n",
       "      <td>-99.73</td>\n",
       "      <td>ALL_CREDITS_PAID_BACK</td>\n",
       "      <td>24.02</td>\n",
       "      <td>NaN</td>\n",
       "    </tr>\n",
       "    <tr>\n",
       "      <th>461</th>\n",
       "      <td>676771</td>\n",
       "      <td>NO_CHECKING</td>\n",
       "      <td>PRIOR_PAYMENTS_DELAYED</td>\n",
       "      <td>UNKNOWN</td>\n",
       "      <td>NaN</td>\n",
       "    </tr>\n",
       "    <tr>\n",
       "      <th>770</th>\n",
       "      <td>463004</td>\n",
       "      <td>590.68</td>\n",
       "      <td>CREDITS_PAID_TO_DATE</td>\n",
       "      <td>15.83</td>\n",
       "      <td>NaN</td>\n",
       "    </tr>\n",
       "    <tr>\n",
       "      <th>1127</th>\n",
       "      <td>839628</td>\n",
       "      <td>NO_CHECKING</td>\n",
       "      <td>PRIOR_PAYMENTS_DELAYED</td>\n",
       "      <td>813.85</td>\n",
       "      <td>NaN</td>\n",
       "    </tr>\n",
       "    <tr>\n",
       "      <th>1232</th>\n",
       "      <td>1135727</td>\n",
       "      <td>0.5</td>\n",
       "      <td>ALL_CREDITS_PAID_BACK</td>\n",
       "      <td>78.54</td>\n",
       "      <td>NaN</td>\n",
       "    </tr>\n",
       "    <tr>\n",
       "      <th>1428</th>\n",
       "      <td>794570</td>\n",
       "      <td>NO_CHECKING</td>\n",
       "      <td>PRIOR_PAYMENTS_DELAYED</td>\n",
       "      <td>UNKNOWN</td>\n",
       "      <td>NaN</td>\n",
       "    </tr>\n",
       "    <tr>\n",
       "      <th>1498</th>\n",
       "      <td>773770</td>\n",
       "      <td>NO_CHECKING</td>\n",
       "      <td>PRIOR_PAYMENTS_DELAYED</td>\n",
       "      <td>151.43</td>\n",
       "      <td>NaN</td>\n",
       "    </tr>\n",
       "    <tr>\n",
       "      <th>1762</th>\n",
       "      <td>574588</td>\n",
       "      <td>-184.27</td>\n",
       "      <td>NO_CREDITS</td>\n",
       "      <td>2.53</td>\n",
       "      <td>NaN</td>\n",
       "    </tr>\n",
       "    <tr>\n",
       "      <th>1973</th>\n",
       "      <td>881519</td>\n",
       "      <td>6608.44</td>\n",
       "      <td>CREDITS_PAID_TO_DATE</td>\n",
       "      <td>96.98</td>\n",
       "      <td>NaN</td>\n",
       "    </tr>\n",
       "    <tr>\n",
       "      <th>1983</th>\n",
       "      <td>90485</td>\n",
       "      <td>98.32</td>\n",
       "      <td>OUTSTANDING_CREDIT</td>\n",
       "      <td>909.43</td>\n",
       "      <td>NaN</td>\n",
       "    </tr>\n",
       "    <tr>\n",
       "      <th>2047</th>\n",
       "      <td>1110119</td>\n",
       "      <td>NO_CHECKING</td>\n",
       "      <td>CREDITS_PAID_TO_DATE</td>\n",
       "      <td>466.06</td>\n",
       "      <td>NaN</td>\n",
       "    </tr>\n",
       "  </tbody>\n",
       "</table>\n",
       "</div>"
      ],
      "text/plain": [
       "           ID CHECKING_BALANCE          CREDIT_HISTORY EXISTING_SAVINGS  \\\n",
       "34    1205053      NO_CHECKING  PRIOR_PAYMENTS_DELAYED           600.14   \n",
       "38     245917      NO_CHECKING  PRIOR_PAYMENTS_DELAYED          1788.77   \n",
       "193    205835          -665.67   ALL_CREDITS_PAID_BACK           441.07   \n",
       "295    501397           -99.73   ALL_CREDITS_PAID_BACK            24.02   \n",
       "461    676771      NO_CHECKING  PRIOR_PAYMENTS_DELAYED          UNKNOWN   \n",
       "770    463004           590.68    CREDITS_PAID_TO_DATE            15.83   \n",
       "1127   839628      NO_CHECKING  PRIOR_PAYMENTS_DELAYED           813.85   \n",
       "1232  1135727              0.5   ALL_CREDITS_PAID_BACK            78.54   \n",
       "1428   794570      NO_CHECKING  PRIOR_PAYMENTS_DELAYED          UNKNOWN   \n",
       "1498   773770      NO_CHECKING  PRIOR_PAYMENTS_DELAYED           151.43   \n",
       "1762   574588          -184.27              NO_CREDITS             2.53   \n",
       "1973   881519          6608.44    CREDITS_PAID_TO_DATE            96.98   \n",
       "1983    90485            98.32      OUTSTANDING_CREDIT           909.43   \n",
       "2047  1110119      NO_CHECKING    CREDITS_PAID_TO_DATE           466.06   \n",
       "\n",
       "      EXISTING_CREDITS_COUNT  \n",
       "34                       NaN  \n",
       "38                       NaN  \n",
       "193                      NaN  \n",
       "295                      NaN  \n",
       "461                      NaN  \n",
       "770                      NaN  \n",
       "1127                     NaN  \n",
       "1232                     NaN  \n",
       "1428                     NaN  \n",
       "1498                     NaN  \n",
       "1762                     NaN  \n",
       "1973                     NaN  \n",
       "1983                     NaN  \n",
       "2047                     NaN  "
      ]
     },
     "execution_count": 15,
     "metadata": {},
     "output_type": "execute_result"
    }
   ],
   "source": [
    "df1[df1['EXISTING_CREDITS_COUNT'].isnull()]"
   ]
  },
  {
   "cell_type": "markdown",
   "metadata": {},
   "source": [
    "## -  Análise Inicial de Dados 2 - 'demographics.csv'"
   ]
  },
  {
   "cell_type": "code",
   "execution_count": 16,
   "metadata": {},
   "outputs": [
    {
     "data": {
      "text/html": [
       "<div>\n",
       "<style scoped>\n",
       "    .dataframe tbody tr th:only-of-type {\n",
       "        vertical-align: middle;\n",
       "    }\n",
       "\n",
       "    .dataframe tbody tr th {\n",
       "        vertical-align: top;\n",
       "    }\n",
       "\n",
       "    .dataframe thead th {\n",
       "        text-align: right;\n",
       "    }\n",
       "</style>\n",
       "<table border=\"1\" class=\"dataframe\">\n",
       "  <thead>\n",
       "    <tr style=\"text-align: right;\">\n",
       "      <th></th>\n",
       "      <th>ID</th>\n",
       "      <th>SEX</th>\n",
       "      <th>AGE</th>\n",
       "      <th>JOB_TYPE</th>\n",
       "      <th>DEPENDENTS</th>\n",
       "      <th>TELEPHONE</th>\n",
       "      <th>FOREIGN_WORKER</th>\n",
       "      <th>EMPLOYMENT_DURATION</th>\n",
       "      <th>PROPERTY</th>\n",
       "      <th>HOUSING</th>\n",
       "      <th>CURRENT_RESIDENCE_DURATION</th>\n",
       "    </tr>\n",
       "  </thead>\n",
       "  <tbody>\n",
       "    <tr>\n",
       "      <th>0</th>\n",
       "      <td>24252</td>\n",
       "      <td>M</td>\n",
       "      <td>47.0</td>\n",
       "      <td>3.0</td>\n",
       "      <td>1.0</td>\n",
       "      <td>0.0</td>\n",
       "      <td>1.0</td>\n",
       "      <td>14.0</td>\n",
       "      <td>SAVINGS_INSURANCE</td>\n",
       "      <td>OWN</td>\n",
       "      <td>3.0</td>\n",
       "    </tr>\n",
       "    <tr>\n",
       "      <th>1</th>\n",
       "      <td>1002018</td>\n",
       "      <td>M</td>\n",
       "      <td>19.0</td>\n",
       "      <td>3.0</td>\n",
       "      <td>1.0</td>\n",
       "      <td>0.0</td>\n",
       "      <td>1.0</td>\n",
       "      <td>0.0</td>\n",
       "      <td>SAVINGS_INSURANCE</td>\n",
       "      <td>RENT</td>\n",
       "      <td>2.0</td>\n",
       "    </tr>\n",
       "    <tr>\n",
       "      <th>2</th>\n",
       "      <td>1240455</td>\n",
       "      <td>F</td>\n",
       "      <td>50.0</td>\n",
       "      <td>2.0</td>\n",
       "      <td>1.0</td>\n",
       "      <td>1.0</td>\n",
       "      <td>1.0</td>\n",
       "      <td>7.0</td>\n",
       "      <td>UNKNOWN</td>\n",
       "      <td>OWN</td>\n",
       "      <td>3.0</td>\n",
       "    </tr>\n",
       "    <tr>\n",
       "      <th>3</th>\n",
       "      <td>107799</td>\n",
       "      <td>M</td>\n",
       "      <td>35.0</td>\n",
       "      <td>3.0</td>\n",
       "      <td>1.0</td>\n",
       "      <td>0.0</td>\n",
       "      <td>1.0</td>\n",
       "      <td>0.0</td>\n",
       "      <td>REAL_ESTATE</td>\n",
       "      <td>OWN</td>\n",
       "      <td>2.0</td>\n",
       "    </tr>\n",
       "    <tr>\n",
       "      <th>4</th>\n",
       "      <td>184883</td>\n",
       "      <td>M</td>\n",
       "      <td>40.0</td>\n",
       "      <td>1.0</td>\n",
       "      <td>1.0</td>\n",
       "      <td>0.0</td>\n",
       "      <td>1.0</td>\n",
       "      <td>9.0</td>\n",
       "      <td>CAR_OTHER</td>\n",
       "      <td>OWN</td>\n",
       "      <td>4.0</td>\n",
       "    </tr>\n",
       "    <tr>\n",
       "      <th>...</th>\n",
       "      <td>...</td>\n",
       "      <td>...</td>\n",
       "      <td>...</td>\n",
       "      <td>...</td>\n",
       "      <td>...</td>\n",
       "      <td>...</td>\n",
       "      <td>...</td>\n",
       "      <td>...</td>\n",
       "      <td>...</td>\n",
       "      <td>...</td>\n",
       "      <td>...</td>\n",
       "    </tr>\n",
       "    <tr>\n",
       "      <th>3931</th>\n",
       "      <td>636739</td>\n",
       "      <td>F</td>\n",
       "      <td>41.0</td>\n",
       "      <td>0.0</td>\n",
       "      <td>1.0</td>\n",
       "      <td>0.0</td>\n",
       "      <td>1.0</td>\n",
       "      <td>7.0</td>\n",
       "      <td>CAR_OTHER</td>\n",
       "      <td>OWN</td>\n",
       "      <td>3.0</td>\n",
       "    </tr>\n",
       "    <tr>\n",
       "      <th>3932</th>\n",
       "      <td>919733</td>\n",
       "      <td>M</td>\n",
       "      <td>46.0</td>\n",
       "      <td>3.0</td>\n",
       "      <td>1.0</td>\n",
       "      <td>1.0</td>\n",
       "      <td>1.0</td>\n",
       "      <td>11.0</td>\n",
       "      <td>SAVINGS_INSURANCE</td>\n",
       "      <td>OWN</td>\n",
       "      <td>3.0</td>\n",
       "    </tr>\n",
       "    <tr>\n",
       "      <th>3933</th>\n",
       "      <td>115839</td>\n",
       "      <td>M</td>\n",
       "      <td>28.0</td>\n",
       "      <td>3.0</td>\n",
       "      <td>1.0</td>\n",
       "      <td>1.0</td>\n",
       "      <td>1.0</td>\n",
       "      <td>7.0</td>\n",
       "      <td>CAR_OTHER</td>\n",
       "      <td>RENT</td>\n",
       "      <td>1.0</td>\n",
       "    </tr>\n",
       "    <tr>\n",
       "      <th>3934</th>\n",
       "      <td>1128684</td>\n",
       "      <td>M</td>\n",
       "      <td>46.0</td>\n",
       "      <td>0.0</td>\n",
       "      <td>1.0</td>\n",
       "      <td>0.0</td>\n",
       "      <td>1.0</td>\n",
       "      <td>7.0</td>\n",
       "      <td>CAR_OTHER</td>\n",
       "      <td>RENT</td>\n",
       "      <td>3.0</td>\n",
       "    </tr>\n",
       "    <tr>\n",
       "      <th>3935</th>\n",
       "      <td>5547</td>\n",
       "      <td>M</td>\n",
       "      <td>40.0</td>\n",
       "      <td>3.0</td>\n",
       "      <td>1.0</td>\n",
       "      <td>0.0</td>\n",
       "      <td>1.0</td>\n",
       "      <td>3.0</td>\n",
       "      <td>CAR_OTHER</td>\n",
       "      <td>OWN</td>\n",
       "      <td>5.0</td>\n",
       "    </tr>\n",
       "  </tbody>\n",
       "</table>\n",
       "<p>3936 rows × 11 columns</p>\n",
       "</div>"
      ],
      "text/plain": [
       "           ID SEX   AGE  JOB_TYPE  DEPENDENTS  TELEPHONE  FOREIGN_WORKER  \\\n",
       "0       24252   M  47.0       3.0         1.0        0.0             1.0   \n",
       "1     1002018   M  19.0       3.0         1.0        0.0             1.0   \n",
       "2     1240455   F  50.0       2.0         1.0        1.0             1.0   \n",
       "3      107799   M  35.0       3.0         1.0        0.0             1.0   \n",
       "4      184883   M  40.0       1.0         1.0        0.0             1.0   \n",
       "...       ...  ..   ...       ...         ...        ...             ...   \n",
       "3931   636739   F  41.0       0.0         1.0        0.0             1.0   \n",
       "3932   919733   M  46.0       3.0         1.0        1.0             1.0   \n",
       "3933   115839   M  28.0       3.0         1.0        1.0             1.0   \n",
       "3934  1128684   M  46.0       0.0         1.0        0.0             1.0   \n",
       "3935     5547   M  40.0       3.0         1.0        0.0             1.0   \n",
       "\n",
       "      EMPLOYMENT_DURATION           PROPERTY HOUSING  \\\n",
       "0                    14.0  SAVINGS_INSURANCE     OWN   \n",
       "1                     0.0  SAVINGS_INSURANCE    RENT   \n",
       "2                     7.0            UNKNOWN     OWN   \n",
       "3                     0.0        REAL_ESTATE     OWN   \n",
       "4                     9.0          CAR_OTHER     OWN   \n",
       "...                   ...                ...     ...   \n",
       "3931                  7.0          CAR_OTHER     OWN   \n",
       "3932                 11.0  SAVINGS_INSURANCE     OWN   \n",
       "3933                  7.0          CAR_OTHER    RENT   \n",
       "3934                  7.0          CAR_OTHER    RENT   \n",
       "3935                  3.0          CAR_OTHER     OWN   \n",
       "\n",
       "      CURRENT_RESIDENCE_DURATION  \n",
       "0                            3.0  \n",
       "1                            2.0  \n",
       "2                            3.0  \n",
       "3                            2.0  \n",
       "4                            4.0  \n",
       "...                          ...  \n",
       "3931                         3.0  \n",
       "3932                         3.0  \n",
       "3933                         1.0  \n",
       "3934                         3.0  \n",
       "3935                         5.0  \n",
       "\n",
       "[3936 rows x 11 columns]"
      ]
     },
     "execution_count": 16,
     "metadata": {},
     "output_type": "execute_result"
    }
   ],
   "source": [
    "df2"
   ]
  },
  {
   "cell_type": "code",
   "execution_count": 17,
   "metadata": {},
   "outputs": [
    {
     "name": "stdout",
     "output_type": "stream",
     "text": [
      "<class 'pandas.core.frame.DataFrame'>\n",
      "RangeIndex: 3936 entries, 0 to 3935\n",
      "Data columns (total 11 columns):\n",
      " #   Column                      Non-Null Count  Dtype  \n",
      "---  ------                      --------------  -----  \n",
      " 0   ID                          3936 non-null   int64  \n",
      " 1   SEX                         3920 non-null   object \n",
      " 2   AGE                         3918 non-null   float64\n",
      " 3   JOB_TYPE                    3910 non-null   float64\n",
      " 4   DEPENDENTS                  3915 non-null   float64\n",
      " 5   TELEPHONE                   3915 non-null   float64\n",
      " 6   FOREIGN_WORKER              3909 non-null   float64\n",
      " 7   EMPLOYMENT_DURATION         3923 non-null   float64\n",
      " 8   PROPERTY                    3918 non-null   object \n",
      " 9   HOUSING                     3912 non-null   object \n",
      " 10  CURRENT_RESIDENCE_DURATION  3917 non-null   float64\n",
      "dtypes: float64(7), int64(1), object(3)\n",
      "memory usage: 338.4+ KB\n"
     ]
    }
   ],
   "source": [
    "df2.info()"
   ]
  },
  {
   "cell_type": "markdown",
   "metadata": {},
   "source": [
    "### Qual o sexo dos clientes?"
   ]
  },
  {
   "cell_type": "code",
   "execution_count": 18,
   "metadata": {},
   "outputs": [
    {
     "data": {
      "text/plain": [
       "M    2419\n",
       "F    1501\n",
       "Name: SEX, dtype: int64"
      ]
     },
     "execution_count": 18,
     "metadata": {},
     "output_type": "execute_result"
    }
   ],
   "source": [
    "df2['SEX'].value_counts()"
   ]
  },
  {
   "cell_type": "code",
   "execution_count": 19,
   "metadata": {},
   "outputs": [],
   "source": [
    "df2['SEX'].fillna(\"NR\", inplace = True)"
   ]
  },
  {
   "cell_type": "code",
   "execution_count": 20,
   "metadata": {},
   "outputs": [],
   "source": [
    "# Dividi-se o dataset em 2, onde a variável check é compreendida pelas informações numéricas.\n",
    "sex_M = len(df2[df2[u'SEX'] == 'M'])\n",
    "sex_F = len(df2[df2[u'SEX'] == 'F'])\n",
    "sex_NR = len(df2[df2[u'SEX'] == 'NR']) # não respondido (NaN)\n",
    "\n",
    "new_df2 = {'M': [sex_M], 'F': [sex_F]}\n",
    "\n",
    "check_sex = pd.DataFrame(data=new_df2)"
   ]
  },
  {
   "cell_type": "code",
   "execution_count": 21,
   "metadata": {},
   "outputs": [
    {
     "data": {
      "image/png": "[encoded data removed]",
      "text/plain": [
       "<Figure size 432x288 with 1 Axes>"
      ]
     },
     "metadata": {},
     "output_type": "display_data"
    }
   ],
   "source": [
    "sns.set(style=\"darkgrid\")\n",
    "\n",
    "fig = sns.barplot(x=list(check_sex),\n",
    "                  y=[check_sex['M'].iloc[0],\n",
    "                     check_sex['F'].iloc[0]],\n",
    "                     hue=list(check_sex))\n",
    "plt.grid(None)\n",
    "plt.title(\"Relação entre gênero\")\n",
    "plt.rcParams[\"figure.figsize\"] = (4,6)\n",
    "plt.show(fig)"
   ]
  },
  {
   "cell_type": "markdown",
   "metadata": {},
   "source": [
    "Nesse caso, baseado nos dados optamos por apenas apresentar a relação entre o sexo Masculino e Feminino para dados bancários. Vale ressaltar que o índice percentual de pessoas que ou não responderam, ou que por alguma instabilidade do sistema não foi salva é de 0.4% no total (16 registros sem resposta). Mas isso não é tudo, é importante entender também qual amostra está a nossa disposição, no caso, essa amostra tem exatos 3936 dados."
   ]
  },
  {
   "cell_type": "markdown",
   "metadata": {},
   "source": [
    "### Qual a distribuição a cerca da idade dos nossos clientes?\n",
    "\n",
    "Para auxiliar nessa tarefa, criamos alguns filtros para compreender melhor a qual faixa etária os clientes da BanTotal pertencem. "
   ]
  },
  {
   "cell_type": "code",
   "execution_count": 22,
   "metadata": {},
   "outputs": [],
   "source": [
    "#df2['AGE'].value_counts()"
   ]
  },
  {
   "cell_type": "code",
   "execution_count": 23,
   "metadata": {},
   "outputs": [
    {
     "data": {
      "image/png": "[encoded data removed]",
      "text/plain": [
       "<Figure size 864x576 with 1 Axes>"
      ]
     },
     "metadata": {},
     "output_type": "display_data"
    }
   ],
   "source": [
    "ax = sns.distplot(df2.AGE, kde = False, \n",
    "                  bins = [i*5 for(i) in range (15)])\n",
    "ax.set_xlabel(\"Idade das pessoas\", \n",
    "              fontsize = 20, \n",
    "              position=(0.5,0))\n",
    "\n",
    "ax.set_ylabel(\"Quantidade de pessoas\", \n",
    "              fontsize = 20, \n",
    "              position=(0.5,0.5))\n",
    "\n",
    "ax.grid(None)\n",
    "\n",
    "ax.set_title('Distribuição do número de pessoas', \n",
    "             fontsize = 20)\n",
    "\n",
    "ax.figure.set_size_inches(12,8)"
   ]
  },
  {
   "cell_type": "markdown",
   "metadata": {},
   "source": [
    "### Qual a distribuição que indica quantos dependentes nossos clientes têm?\n",
    "\n"
   ]
  },
  {
   "cell_type": "code",
   "execution_count": 24,
   "metadata": {},
   "outputs": [
    {
     "data": {
      "text/plain": [
       "1.0    3284\n",
       "2.0     631\n",
       "Name: DEPENDENTS, dtype: int64"
      ]
     },
     "execution_count": 24,
     "metadata": {},
     "output_type": "execute_result"
    }
   ],
   "source": [
    "df2['DEPENDENTS'].value_counts()"
   ]
  },
  {
   "cell_type": "code",
   "execution_count": 25,
   "metadata": {},
   "outputs": [
    {
     "data": {
      "text/html": [
       "<div>\n",
       "<style scoped>\n",
       "    .dataframe tbody tr th:only-of-type {\n",
       "        vertical-align: middle;\n",
       "    }\n",
       "\n",
       "    .dataframe tbody tr th {\n",
       "        vertical-align: top;\n",
       "    }\n",
       "\n",
       "    .dataframe thead th {\n",
       "        text-align: right;\n",
       "    }\n",
       "</style>\n",
       "<table border=\"1\" class=\"dataframe\">\n",
       "  <thead>\n",
       "    <tr style=\"text-align: right;\">\n",
       "      <th></th>\n",
       "      <th>1.0</th>\n",
       "      <th>2.0</th>\n",
       "    </tr>\n",
       "  </thead>\n",
       "  <tbody>\n",
       "    <tr>\n",
       "      <th>0</th>\n",
       "      <td>3284</td>\n",
       "      <td>631</td>\n",
       "    </tr>\n",
       "  </tbody>\n",
       "</table>\n",
       "</div>"
      ],
      "text/plain": [
       "    1.0  2.0\n",
       "0  3284  631"
      ]
     },
     "execution_count": 25,
     "metadata": {},
     "output_type": "execute_result"
    }
   ],
   "source": [
    "dep1 = len(df2[df2[u'DEPENDENTS'] == 1.0])\n",
    "dep2 = len(df2[df2[u'DEPENDENTS'] == 2.0])\n",
    "\n",
    "new_df3 = {'1.0': [dep1], '2.0': [dep2]}\n",
    "\n",
    "check_dependence = pd.DataFrame(data=new_df3)\n",
    "check_dependence"
   ]
  },
  {
   "cell_type": "code",
   "execution_count": 26,
   "metadata": {},
   "outputs": [
    {
     "data": {
      "image/png": "[encoded data removed]",
      "text/plain": [
       "<Figure size 288x432 with 1 Axes>"
      ]
     },
     "metadata": {},
     "output_type": "display_data"
    }
   ],
   "source": [
    "sns.set(style=\"darkgrid\")\n",
    "\n",
    "fig = sns.barplot(x=list(check_dependence),\n",
    "                  y=[check_dependence['1.0'].iloc[0],\n",
    "                     check_dependence['2.0'].iloc[0]],\n",
    "                     hue=list(check_dependence))\n",
    "plt.grid(None)\n",
    "plt.title(\"Relação entre dependentes\")\n",
    "plt.rcParams[\"figure.figsize\"] = (4,6)\n",
    "plt.show(fig)"
   ]
  },
  {
   "cell_type": "markdown",
   "metadata": {},
   "source": [
    "### O cliente tem telefone registrado no sistema?\n",
    "\n",
    "0 - não\n",
    "\n",
    "1 - sim\n"
   ]
  },
  {
   "cell_type": "code",
   "execution_count": 27,
   "metadata": {},
   "outputs": [
    {
     "data": {
      "text/plain": [
       "0.0    2302\n",
       "1.0    1613\n",
       "Name: TELEPHONE, dtype: int64"
      ]
     },
     "execution_count": 27,
     "metadata": {},
     "output_type": "execute_result"
    }
   ],
   "source": [
    "df2['TELEPHONE'].value_counts()"
   ]
  },
  {
   "cell_type": "code",
   "execution_count": 28,
   "metadata": {},
   "outputs": [],
   "source": [
    "phone1 = len(df2[df2[u'TELEPHONE'] == 0.0])\n",
    "phone2 = len(df2[df2[u'TELEPHONE'] == 1.0])\n",
    "\n",
    "new_df4 = {'Sim': [phone1], 'Não': [phone2]}\n",
    "\n",
    "check_phone = pd.DataFrame(data=new_df4)"
   ]
  },
  {
   "cell_type": "code",
   "execution_count": 29,
   "metadata": {},
   "outputs": [
    {
     "data": {
      "image/png": "[encoded data removed]",
      "text/plain": [
       "<Figure size 288x432 with 1 Axes>"
      ]
     },
     "metadata": {},
     "output_type": "display_data"
    }
   ],
   "source": [
    "sns.set(style=\"darkgrid\")\n",
    "\n",
    "fig = sns.barplot(x=list(check_phone),\n",
    "                  y=[check_phone['Sim'].iloc[0],\n",
    "                     check_phone['Não'].iloc[0]],\n",
    "                     hue=list(check_phone))\n",
    "plt.grid(None)\n",
    "plt.title(\"O cliente tem telefone registrado no sistema?\")\n",
    "plt.rcParams[\"figure.figsize\"] = (6,8)\n",
    "plt.show(fig)"
   ]
  },
  {
   "cell_type": "markdown",
   "metadata": {},
   "source": [
    "### O cliente é um trabalhador estrangeiro?\n",
    "\n"
   ]
  },
  {
   "cell_type": "code",
   "execution_count": 30,
   "metadata": {},
   "outputs": [
    {
     "data": {
      "text/plain": [
       "1.0    3814\n",
       "0.0      95\n",
       "Name: FOREIGN_WORKER, dtype: int64"
      ]
     },
     "execution_count": 30,
     "metadata": {},
     "output_type": "execute_result"
    }
   ],
   "source": [
    "df2['FOREIGN_WORKER'].value_counts()"
   ]
  },
  {
   "cell_type": "code",
   "execution_count": 31,
   "metadata": {},
   "outputs": [],
   "source": [
    "w1 = len(df2[df2[u'FOREIGN_WORKER'] == 0.0])\n",
    "w2 = len(df2[df2[u'FOREIGN_WORKER'] == 1.0])\n",
    "\n",
    "new_df4 = {'Sim': [w2], 'Não': [w1]}\n",
    "\n",
    "check_worker = pd.DataFrame(data=new_df4)"
   ]
  },
  {
   "cell_type": "code",
   "execution_count": 32,
   "metadata": {},
   "outputs": [
    {
     "data": {
      "image/png": "[encoded data removed]",
      "text/plain": [
       "<Figure size 432x576 with 1 Axes>"
      ]
     },
     "metadata": {},
     "output_type": "display_data"
    }
   ],
   "source": [
    "sns.set(style=\"darkgrid\")\n",
    "\n",
    "fig = sns.barplot(x=list(check_worker),\n",
    "                  y=[check_worker['Sim'].iloc[0],\n",
    "                     check_worker['Não'].iloc[0]],\n",
    "                     hue=list(check_worker))\n",
    "plt.grid(None)\n",
    "plt.title(\"O cliente tem telefone registrado no sistema?\")\n",
    "plt.rcParams[\"figure.figsize\"] = (6,8)\n",
    "plt.show(fig)"
   ]
  },
  {
   "cell_type": "markdown",
   "metadata": {},
   "source": [
    "### Duração do Trabalho"
   ]
  },
  {
   "cell_type": "code",
   "execution_count": 33,
   "metadata": {},
   "outputs": [
    {
     "data": {
      "text/plain": [
       "0.0     929\n",
       "5.0     390\n",
       "7.0     372\n",
       "6.0     351\n",
       "1.0     314\n",
       "3.0     290\n",
       "2.0     275\n",
       "4.0     275\n",
       "8.0     192\n",
       "9.0     180\n",
       "10.0    143\n",
       "11.0     90\n",
       "12.0     73\n",
       "13.0     24\n",
       "14.0     11\n",
       "15.0     10\n",
       "16.0      2\n",
       "18.0      1\n",
       "17.0      1\n",
       "Name: EMPLOYMENT_DURATION, dtype: int64"
      ]
     },
     "execution_count": 33,
     "metadata": {},
     "output_type": "execute_result"
    }
   ],
   "source": [
    "df2['EMPLOYMENT_DURATION'].value_counts()"
   ]
  },
  {
   "cell_type": "code",
   "execution_count": 34,
   "metadata": {},
   "outputs": [
    {
     "data": {
      "image/png": "[encoded data removed]",
      "text/plain": [
       "<Figure size 864x576 with 1 Axes>"
      ]
     },
     "metadata": {},
     "output_type": "display_data"
    }
   ],
   "source": [
    "ax = sns.distplot(df2.EMPLOYMENT_DURATION, kde = False, \n",
    "                  bins = [i for(i) in range (17)])\n",
    "\n",
    "ax.set_xlabel(\"Duração de Trabalho\", \n",
    "              fontsize = 20, \n",
    "              position=(0.5,0))\n",
    "\n",
    "ax.set_ylabel(\"Quantidade de pessoas\", \n",
    "              fontsize = 20, \n",
    "              position=(0.5,0.5))\n",
    "\n",
    "ax.grid(None)\n",
    "\n",
    "ax.set_title('Distribuição da duração de trabalho', \n",
    "             fontsize = 20)\n",
    "\n",
    "ax.figure.set_size_inches(12,8)"
   ]
  },
  {
   "cell_type": "markdown",
   "metadata": {},
   "source": [
    "### Propriedade"
   ]
  },
  {
   "cell_type": "code",
   "execution_count": 35,
   "metadata": {},
   "outputs": [
    {
     "data": {
      "text/plain": [
       "array(['SAVINGS_INSURANCE', 'UNKNOWN', 'REAL_ESTATE', 'CAR_OTHER', nan],\n",
       "      dtype=object)"
      ]
     },
     "execution_count": 35,
     "metadata": {},
     "output_type": "execute_result"
    }
   ],
   "source": [
    "df2['PROPERTY'].unique()"
   ]
  },
  {
   "cell_type": "markdown",
   "metadata": {},
   "source": [
    "### Habitação"
   ]
  },
  {
   "cell_type": "code",
   "execution_count": 36,
   "metadata": {},
   "outputs": [
    {
     "data": {
      "text/plain": [
       "array(['OWN', 'RENT', 'FREE', nan], dtype=object)"
      ]
     },
     "execution_count": 36,
     "metadata": {},
     "output_type": "execute_result"
    }
   ],
   "source": [
    "df2['HOUSING'].unique()"
   ]
  },
  {
   "cell_type": "markdown",
   "metadata": {},
   "source": [
    "### Duração de Residência Atual"
   ]
  },
  {
   "cell_type": "code",
   "execution_count": 37,
   "metadata": {},
   "outputs": [
    {
     "data": {
      "text/plain": [
       "3.0    1304\n",
       "2.0     986\n",
       "4.0     854\n",
       "1.0     486\n",
       "5.0     284\n",
       "6.0       3\n",
       "Name: CURRENT_RESIDENCE_DURATION, dtype: int64"
      ]
     },
     "execution_count": 37,
     "metadata": {},
     "output_type": "execute_result"
    }
   ],
   "source": [
    "df2['CURRENT_RESIDENCE_DURATION'].value_counts()"
   ]
  },
  {
   "cell_type": "code",
   "execution_count": 38,
   "metadata": {},
   "outputs": [],
   "source": [
    "crd1 = len(df2[df2[u'FOREIGN_WORKER'] == 1.0])\n",
    "crd2 = len(df2[df2[u'CURRENT_RESIDENCE_DURATION'] == 2.0])\n",
    "crd3 = len(df2[df2[u'CURRENT_RESIDENCE_DURATION'] == 3.0])\n",
    "crd4 = len(df2[df2[u'CURRENT_RESIDENCE_DURATION'] == 4.0])\n",
    "crd5 = len(df2[df2[u'CURRENT_RESIDENCE_DURATION'] == 5.0])\n",
    "crd6 = len(df2[df2[u'CURRENT_RESIDENCE_DURATION'] == 6.0])\n",
    "\n",
    "new_df5 = {'1': [crd1], '2': [crd2], '3': [crd3], '4': [crd4], '5': [crd5], '6': [crd6]}\n",
    "\n",
    "check_crd = pd.DataFrame(data=new_df5)"
   ]
  },
  {
   "cell_type": "code",
   "execution_count": 39,
   "metadata": {},
   "outputs": [
    {
     "data": {
      "image/png": "[encoded data removed]",
      "text/plain": [
       "<Figure size 432x576 with 1 Axes>"
      ]
     },
     "metadata": {},
     "output_type": "display_data"
    }
   ],
   "source": [
    "sns.set(style=\"darkgrid\")\n",
    "\n",
    "fig = sns.barplot(x=list(check_crd),\n",
    "                  y=[check_crd['1'].iloc[0],\n",
    "                     check_crd['2'].iloc[0],\n",
    "                     check_crd['3'].iloc[0],\n",
    "                     check_crd['4'].iloc[0],\n",
    "                     check_crd['5'].iloc[0],\n",
    "                     check_crd['6'].iloc[0]],\n",
    "                     hue=list(check_crd))\n",
    "plt.grid(None)\n",
    "plt.title(\"O cliente tem telefone registrado no sistema?\")\n",
    "plt.rcParams[\"figure.figsize\"] = (12,12)\n",
    "plt.show(fig)"
   ]
  },
  {
   "cell_type": "markdown",
   "metadata": {},
   "source": [
    "#### Questão x: De acordo com os insights obtidos nas questões anteriores, quais serão as decisões de tratamento a serem adotadas nos dados?\n",
    "\n"
   ]
  },
  {
   "cell_type": "markdown",
   "metadata": {},
   "source": [
    "## - Análise Inicial de Dados 3 - 'LOANS.csv'"
   ]
  },
  {
   "cell_type": "code",
   "execution_count": 40,
   "metadata": {},
   "outputs": [
    {
     "data": {
      "text/html": [
       "<div>\n",
       "<style scoped>\n",
       "    .dataframe tbody tr th:only-of-type {\n",
       "        vertical-align: middle;\n",
       "    }\n",
       "\n",
       "    .dataframe tbody tr th {\n",
       "        vertical-align: top;\n",
       "    }\n",
       "\n",
       "    .dataframe thead th {\n",
       "        text-align: right;\n",
       "    }\n",
       "</style>\n",
       "<table border=\"1\" class=\"dataframe\">\n",
       "  <thead>\n",
       "    <tr style=\"text-align: right;\">\n",
       "      <th></th>\n",
       "      <th>ID</th>\n",
       "      <th>PAYMENT_TERM</th>\n",
       "      <th>INSTALLMENT_PLANS</th>\n",
       "      <th>INSTALLMENT_PERCENT</th>\n",
       "      <th>LOAN_PURPOSE</th>\n",
       "      <th>LOAN_AMOUNT</th>\n",
       "      <th>OTHERS_ON_LOAN</th>\n",
       "      <th>ALLOW</th>\n",
       "    </tr>\n",
       "  </thead>\n",
       "  <tbody>\n",
       "    <tr>\n",
       "      <th>0</th>\n",
       "      <td>610339</td>\n",
       "      <td>713.0</td>\n",
       "      <td>STORES</td>\n",
       "      <td>3.0</td>\n",
       "      <td>CAR_USED</td>\n",
       "      <td>3103.0</td>\n",
       "      <td>NONE</td>\n",
       "      <td>1</td>\n",
       "    </tr>\n",
       "    <tr>\n",
       "      <th>1</th>\n",
       "      <td>109167</td>\n",
       "      <td>341.0</td>\n",
       "      <td>STORES</td>\n",
       "      <td>1.0</td>\n",
       "      <td>CAR_NEW</td>\n",
       "      <td>716.0</td>\n",
       "      <td>NONE</td>\n",
       "      <td>1</td>\n",
       "    </tr>\n",
       "    <tr>\n",
       "      <th>2</th>\n",
       "      <td>823322</td>\n",
       "      <td>868.0</td>\n",
       "      <td>NONE</td>\n",
       "      <td>4.0</td>\n",
       "      <td>APPLIANCES</td>\n",
       "      <td>4333.0</td>\n",
       "      <td>NONE</td>\n",
       "      <td>1</td>\n",
       "    </tr>\n",
       "    <tr>\n",
       "      <th>3</th>\n",
       "      <td>322224</td>\n",
       "      <td>310.0</td>\n",
       "      <td>STORES</td>\n",
       "      <td>2.0</td>\n",
       "      <td>FURNITURE</td>\n",
       "      <td>250.0</td>\n",
       "      <td>NONE</td>\n",
       "      <td>1</td>\n",
       "    </tr>\n",
       "    <tr>\n",
       "      <th>4</th>\n",
       "      <td>912693</td>\n",
       "      <td>620.0</td>\n",
       "      <td>NONE</td>\n",
       "      <td>2.0</td>\n",
       "      <td>CAR_USED</td>\n",
       "      <td>2454.0</td>\n",
       "      <td>NONE</td>\n",
       "      <td>0</td>\n",
       "    </tr>\n",
       "    <tr>\n",
       "      <th>...</th>\n",
       "      <td>...</td>\n",
       "      <td>...</td>\n",
       "      <td>...</td>\n",
       "      <td>...</td>\n",
       "      <td>...</td>\n",
       "      <td>...</td>\n",
       "      <td>...</td>\n",
       "      <td>...</td>\n",
       "    </tr>\n",
       "    <tr>\n",
       "      <th>3994</th>\n",
       "      <td>636739</td>\n",
       "      <td>450.0</td>\n",
       "      <td>BANK</td>\n",
       "      <td>3.0</td>\n",
       "      <td>CAR_NEW</td>\n",
       "      <td>3007.0</td>\n",
       "      <td>CO-APPLICANT</td>\n",
       "      <td>0</td>\n",
       "    </tr>\n",
       "    <tr>\n",
       "      <th>3995</th>\n",
       "      <td>919733</td>\n",
       "      <td>510.0</td>\n",
       "      <td>NONE</td>\n",
       "      <td>4.0</td>\n",
       "      <td>VACATION</td>\n",
       "      <td>4191.0</td>\n",
       "      <td>GUARANTOR</td>\n",
       "      <td>1</td>\n",
       "    </tr>\n",
       "    <tr>\n",
       "      <th>3996</th>\n",
       "      <td>115839</td>\n",
       "      <td>124.0</td>\n",
       "      <td>STORES</td>\n",
       "      <td>1.0</td>\n",
       "      <td>FURNITURE</td>\n",
       "      <td>250.0</td>\n",
       "      <td>NONE</td>\n",
       "      <td>1</td>\n",
       "    </tr>\n",
       "    <tr>\n",
       "      <th>3997</th>\n",
       "      <td>1128684</td>\n",
       "      <td>961.0</td>\n",
       "      <td>BANK</td>\n",
       "      <td>3.0</td>\n",
       "      <td>BUSINESS</td>\n",
       "      <td>5172.0</td>\n",
       "      <td>NONE</td>\n",
       "      <td>1</td>\n",
       "    </tr>\n",
       "    <tr>\n",
       "      <th>3998</th>\n",
       "      <td>5547</td>\n",
       "      <td>1020.0</td>\n",
       "      <td>NONE</td>\n",
       "      <td>4.0</td>\n",
       "      <td>FURNITURE</td>\n",
       "      <td>6063.0</td>\n",
       "      <td>NONE</td>\n",
       "      <td>1</td>\n",
       "    </tr>\n",
       "  </tbody>\n",
       "</table>\n",
       "<p>3999 rows × 8 columns</p>\n",
       "</div>"
      ],
      "text/plain": [
       "           ID  PAYMENT_TERM INSTALLMENT_PLANS  INSTALLMENT_PERCENT  \\\n",
       "0      610339         713.0            STORES                  3.0   \n",
       "1      109167         341.0            STORES                  1.0   \n",
       "2      823322         868.0              NONE                  4.0   \n",
       "3      322224         310.0            STORES                  2.0   \n",
       "4      912693         620.0              NONE                  2.0   \n",
       "...       ...           ...               ...                  ...   \n",
       "3994   636739         450.0              BANK                  3.0   \n",
       "3995   919733         510.0              NONE                  4.0   \n",
       "3996   115839         124.0            STORES                  1.0   \n",
       "3997  1128684         961.0              BANK                  3.0   \n",
       "3998     5547        1020.0              NONE                  4.0   \n",
       "\n",
       "     LOAN_PURPOSE  LOAN_AMOUNT OTHERS_ON_LOAN  ALLOW  \n",
       "0        CAR_USED       3103.0           NONE      1  \n",
       "1         CAR_NEW        716.0           NONE      1  \n",
       "2      APPLIANCES       4333.0           NONE      1  \n",
       "3       FURNITURE        250.0           NONE      1  \n",
       "4        CAR_USED       2454.0           NONE      0  \n",
       "...           ...          ...            ...    ...  \n",
       "3994      CAR_NEW       3007.0   CO-APPLICANT      0  \n",
       "3995     VACATION       4191.0      GUARANTOR      1  \n",
       "3996    FURNITURE        250.0           NONE      1  \n",
       "3997     BUSINESS       5172.0           NONE      1  \n",
       "3998    FURNITURE       6063.0           NONE      1  \n",
       "\n",
       "[3999 rows x 8 columns]"
      ]
     },
     "execution_count": 40,
     "metadata": {},
     "output_type": "execute_result"
    }
   ],
   "source": [
    "df3"
   ]
  },
  {
   "cell_type": "markdown",
   "metadata": {},
   "source": [
    "Esse dataset é composto por informações amplamento correlacionadas a uma possível concessão de crédito para os clientes da BanTotal. Cada cliente é identificado por uma chave ID e também há outras variávéis como: Termo de Pagamento, Percentual de Parcelamento, Objetivo do Empréstimo, Montante do Empréstimo, Outros Empréstimos, Permitir. Mas fique atento, apenas a leitura superficial das colunas do conjunto de dados não é suficiente para tirar conclusões ou sair aplicando funções de limpeza de dados, é importante estudar individualmente cada variável e formular hipóteses de como remodelar essa variável para constribuir para o modelo que será construído. Um exemplo disso são as variáveis categóricas (não numéricas) contidas no conjunto de dados acima."
   ]
  },
  {
   "cell_type": "markdown",
   "metadata": {},
   "source": [
    "### Termo de Pagamento"
   ]
  },
  {
   "cell_type": "code",
   "execution_count": 41,
   "metadata": {},
   "outputs": [
    {
     "data": {
      "text/plain": [
       "0        713.0\n",
       "1        341.0\n",
       "2        868.0\n",
       "3        310.0\n",
       "4        620.0\n",
       "         ...  \n",
       "3994     450.0\n",
       "3995     510.0\n",
       "3996     124.0\n",
       "3997     961.0\n",
       "3998    1020.0\n",
       "Name: PAYMENT_TERM, Length: 3999, dtype: float64"
      ]
     },
     "execution_count": 41,
     "metadata": {},
     "output_type": "execute_result"
    }
   ],
   "source": [
    "df3.PAYMENT_TERM"
   ]
  },
  {
   "cell_type": "code",
   "execution_count": 42,
   "metadata": {},
   "outputs": [
    {
     "data": {
      "image/png": "[encoded data removed]",
      "text/plain": [
       "<Figure size 1440x1296 with 1 Axes>"
      ]
     },
     "metadata": {},
     "output_type": "display_data"
    }
   ],
   "source": [
    "ax = sns.distplot(df3.PAYMENT_TERM, kde = False)\n",
    "\n",
    "ax.set_xlabel(\"Termo de Pagamento\", \n",
    "              fontsize = 20, \n",
    "              position=(0.5,0))\n",
    "\n",
    "ax.set_ylabel(\"Clientes\", \n",
    "              fontsize = 20, \n",
    "              position=(0.5,0.5))\n",
    "\n",
    "ax.grid(None)\n",
    "\n",
    "ax.set_title('Distribuição da duração de trabalho', \n",
    "             fontsize = 20)\n",
    "\n",
    "ax.figure.set_size_inches(20,18)"
   ]
  },
  {
   "cell_type": "markdown",
   "metadata": {},
   "source": [
    "### Planos de Parcelamento"
   ]
  },
  {
   "cell_type": "code",
   "execution_count": 43,
   "metadata": {},
   "outputs": [
    {
     "data": {
      "text/plain": [
       "array(['STORES', 'NONE', 'BANK', nan], dtype=object)"
      ]
     },
     "execution_count": 43,
     "metadata": {},
     "output_type": "execute_result"
    }
   ],
   "source": [
    "df3['INSTALLMENT_PLANS'].unique()"
   ]
  },
  {
   "cell_type": "markdown",
   "metadata": {},
   "source": [
    "### Percentual de Parcelamento"
   ]
  },
  {
   "cell_type": "code",
   "execution_count": 44,
   "metadata": {},
   "outputs": [
    {
     "data": {
      "image/png": "[encoded data removed]",
      "text/plain": [
       "<Figure size 360x360 with 1 Axes>"
      ]
     },
     "metadata": {},
     "output_type": "display_data"
    }
   ],
   "source": [
    "ax = sns.distplot(df3.INSTALLMENT_PERCENT, kde = False)\n",
    "\n",
    "ax.set_xlabel(\"Percentual de Parcelamento\", \n",
    "              fontsize = 20, \n",
    "              position=(0.5,0))\n",
    "\n",
    "ax.set_ylabel(\"Clientes\", \n",
    "              fontsize = 20, \n",
    "              position=(0.5,0.5))\n",
    "\n",
    "ax.grid(None)\n",
    "\n",
    "ax.set_title('Distribuição de Percentual de Parcelamento', \n",
    "             fontsize = 20)\n",
    "\n",
    "ax.figure.set_size_inches(5,5)"
   ]
  },
  {
   "cell_type": "markdown",
   "metadata": {},
   "source": [
    "### Objetivo do Empréstimo"
   ]
  },
  {
   "cell_type": "code",
   "execution_count": 45,
   "metadata": {},
   "outputs": [
    {
     "data": {
      "text/plain": [
       "CAR_NEW       748\n",
       "FURNITURE     690\n",
       "CAR_USED      652\n",
       "RADIO_TV      604\n",
       "APPLIANCES    436\n",
       "REPAIRS       229\n",
       "VACATION      163\n",
       "RETRAINING    130\n",
       "EDUCATION     126\n",
       "BUSINESS      114\n",
       "OTHER          87\n",
       "Name: LOAN_PURPOSE, dtype: int64"
      ]
     },
     "execution_count": 45,
     "metadata": {},
     "output_type": "execute_result"
    }
   ],
   "source": [
    "aux = df3['LOAN_PURPOSE'].value_counts()\n",
    "aux"
   ]
  },
  {
   "cell_type": "code",
   "execution_count": 46,
   "metadata": {},
   "outputs": [
    {
     "data": {
      "text/plain": [
       "[748, 690, 652, 604, 436, 229, 163, 130, 126, 114, 87]"
      ]
     },
     "execution_count": 46,
     "metadata": {},
     "output_type": "execute_result"
    }
   ],
   "source": [
    "result = []\n",
    "for i in range(len(df3['LOAN_PURPOSE'].value_counts())):\n",
    "    result.append(aux[i])\n",
    "result"
   ]
  },
  {
   "cell_type": "code",
   "execution_count": 47,
   "metadata": {},
   "outputs": [
    {
     "data": {
      "text/plain": [
       "['CAR_NEW',\n",
       " 'FURNITURE',\n",
       " 'CAR_USED',\n",
       " 'RADIO_TV',\n",
       " 'APPLIANCES',\n",
       " 'REPAIRS',\n",
       " 'VACATION',\n",
       " 'RETRAINING',\n",
       " 'EDUCATION',\n",
       " 'BUSINESS',\n",
       " 'OTHER']"
      ]
     },
     "execution_count": 47,
     "metadata": {},
     "output_type": "execute_result"
    }
   ],
   "source": [
    "# Note que não conseguimos manipular as linhas apresentadas no objeto series gerado pela função .value_counts()\n",
    "# Para solucionar, transformamos esse objeto series em um dataframe e listamos os seus índices\n",
    "aux2 = pd.DataFrame(aux)\n",
    "montantes = list(aux2.index)\n",
    "montantes"
   ]
  },
  {
   "cell_type": "code",
   "execution_count": 48,
   "metadata": {},
   "outputs": [
    {
     "data": {
      "text/plain": [
       "<BarContainer object of 11 artists>"
      ]
     },
     "execution_count": 48,
     "metadata": {},
     "output_type": "execute_result"
    },
    {
     "data": {
      "image/png": "[encoded data removed]",
      "text/plain": [
       "<Figure size 576x504 with 1 Axes>"
      ]
     },
     "metadata": {},
     "output_type": "display_data"
    }
   ],
   "source": [
    "# Plota-se o gráfico entre os tipos de objetivo de empréstimo e quantidade de clientes\n",
    "plt.rcParams[\"figure.figsize\"] = (8,7)\n",
    "plt.barh(montantes, result, color='blue')"
   ]
  },
  {
   "cell_type": "markdown",
   "metadata": {},
   "source": [
    "### Montante do Empréstimo"
   ]
  },
  {
   "cell_type": "code",
   "execution_count": 49,
   "metadata": {},
   "outputs": [
    {
     "data": {
      "image/png": "[encoded data removed]",
      "text/plain": [
       "<Figure size 864x720 with 1 Axes>"
      ]
     },
     "metadata": {},
     "output_type": "display_data"
    }
   ],
   "source": [
    "ax = sns.distplot(df3.LOAN_AMOUNT, kde = False)\n",
    "\n",
    "ax.set_xlabel(\"Percentual de Parcelamento\", \n",
    "              fontsize = 20, \n",
    "              position=(0.5,0))\n",
    "\n",
    "ax.set_ylabel(\"Clientes\", \n",
    "              fontsize = 20, \n",
    "              position=(0.5,0.5))\n",
    "\n",
    "ax.grid(None)\n",
    "\n",
    "ax.set_title('Distribuição do Montante do Empréstimo', \n",
    "             fontsize = 20)\n",
    "\n",
    "ax.figure.set_size_inches(12,10)"
   ]
  },
  {
   "cell_type": "markdown",
   "metadata": {},
   "source": [
    "### Outros Empréstimos Ativos"
   ]
  },
  {
   "cell_type": "code",
   "execution_count": 50,
   "metadata": {},
   "outputs": [
    {
     "data": {
      "text/plain": [
       "<BarContainer object of 3 artists>"
      ]
     },
     "execution_count": 50,
     "metadata": {},
     "output_type": "execute_result"
    },
    {
     "data": {
      "image/png": "[encoded data removed]",
      "text/plain": [
       "<Figure size 288x216 with 1 Axes>"
      ]
     },
     "metadata": {},
     "output_type": "display_data"
    }
   ],
   "source": [
    "aux = df3['OTHERS_ON_LOAN'].value_counts()\n",
    "result = []\n",
    "for i in range(len(df3['OTHERS_ON_LOAN'].value_counts())):\n",
    "    result.append(aux[i])\n",
    "\n",
    "aux2 = pd.DataFrame(aux)\n",
    "others = list(aux2.index)\n",
    "\n",
    "plt.rcParams[\"figure.figsize\"] = (4,3)\n",
    "plt.barh(others, result, color='blue')"
   ]
  },
  {
   "cell_type": "markdown",
   "metadata": {},
   "source": [
    "# Permitir Empréstimo?\n",
    "\n",
    "Essa é variável no qual pretende-se classificar com a entrada de novos clientes. De forma objetiva, ela só pode retornar dois possíveis valores: 0 caso o modelo indique que o empréstimo não será concedido, e 1 caso o empréstimo será concedido."
   ]
  },
  {
   "cell_type": "code",
   "execution_count": 51,
   "metadata": {},
   "outputs": [
    {
     "data": {
      "image/png": "[encoded data removed]",
      "text/plain": [
       "<Figure size 288x216 with 1 Axes>"
      ]
     },
     "metadata": {},
     "output_type": "display_data"
    }
   ],
   "source": [
    "yes = len(df3[df3[u'ALLOW'] == 1])\n",
    "no = len(df3[df3[u'ALLOW'] == 0])\n",
    "\n",
    "new_df = {'Permitir': [yes], 'Não Permitir': [no]}\n",
    "\n",
    "check_allow = pd.DataFrame(data=new_df)\n",
    "\n",
    "sns.set(style=\"darkgrid\")\n",
    "\n",
    "fig = sns.barplot(x=list(check_allow),\n",
    "                  y=[check_allow['Permitir'].iloc[0],\n",
    "                     check_allow['Não Permitir'].iloc[0]],\n",
    "                     hue=list(check_allow))\n",
    "plt.grid(None)\n",
    "plt.title(\"Qual decisão empréstimo foi aprovado?\")\n",
    "plt.rcParams[\"figure.figsize\"] = (6,8)\n",
    "plt.show(fig)"
   ]
  },
  {
   "cell_type": "markdown",
   "metadata": {},
   "source": [
    "# Visão Geral\n",
    "\n",
    "Compreender cada variável é uma etapa importante no processo da resolução do problema, pois caso optemos por adicionar, tratar ou remover uma variável do modelo que será treinado e testado, é de suma importância entender o que essa variável representa e por qual razão foi tomada uma determinada decisão em relação a ela. Dessa maneira você receberá insights valiosos para a criação da sua narrativa para storytelling de dados.\n",
    "\n",
    "Mas isso não é tudo, na próxima seção será construído o tratamento de dados ausentes, variáveis categóricas e uma análise exploratória juntando as bases de dados através do Pandas."
   ]
  },
  {
   "cell_type": "markdown",
   "metadata": {},
   "source": [
    "# Tratamento de Dados\n",
    "\n",
    "O tratamento de dados pode ser construídos de 2 formas, a primeira trataria variáveis categóricas associadas a um id como 0 ou 1, seguindo a lógica de um \"One Hot Encoder\". Outra maneira, seria determinar índices associados a uma determinada variável categórica como, por exemplo: 0 - não informado, 1 - ruim, 2 - médio, 3 - bom."
   ]
  },
  {
   "cell_type": "markdown",
   "metadata": {},
   "source": [
    "## Tratamento de Dados 1 - Preparando a variável categórica 'histórico de crédito' para o modelo de classificação"
   ]
  },
  {
   "cell_type": "markdown",
   "metadata": {},
   "source": [
    "## Juntando dataframes a partir do ID"
   ]
  },
  {
   "cell_type": "code",
   "execution_count": 93,
   "metadata": {},
   "outputs": [
    {
     "data": {
      "text/html": [
       "<div>\n",
       "<style scoped>\n",
       "    .dataframe tbody tr th:only-of-type {\n",
       "        vertical-align: middle;\n",
       "    }\n",
       "\n",
       "    .dataframe tbody tr th {\n",
       "        vertical-align: top;\n",
       "    }\n",
       "\n",
       "    .dataframe thead th {\n",
       "        text-align: right;\n",
       "    }\n",
       "</style>\n",
       "<table border=\"1\" class=\"dataframe\">\n",
       "  <thead>\n",
       "    <tr style=\"text-align: right;\">\n",
       "      <th></th>\n",
       "      <th>ID</th>\n",
       "      <th>CHECKING_BALANCE</th>\n",
       "      <th>CREDIT_HISTORY</th>\n",
       "      <th>EXISTING_SAVINGS</th>\n",
       "      <th>EXISTING_CREDITS_COUNT</th>\n",
       "      <th>SEX</th>\n",
       "      <th>AGE</th>\n",
       "      <th>JOB_TYPE</th>\n",
       "      <th>DEPENDENTS</th>\n",
       "      <th>TELEPHONE</th>\n",
       "      <th>...</th>\n",
       "      <th>PROPERTY</th>\n",
       "      <th>HOUSING</th>\n",
       "      <th>CURRENT_RESIDENCE_DURATION</th>\n",
       "      <th>PAYMENT_TERM</th>\n",
       "      <th>INSTALLMENT_PLANS</th>\n",
       "      <th>INSTALLMENT_PERCENT</th>\n",
       "      <th>LOAN_PURPOSE</th>\n",
       "      <th>LOAN_AMOUNT</th>\n",
       "      <th>OTHERS_ON_LOAN</th>\n",
       "      <th>ALLOW</th>\n",
       "    </tr>\n",
       "  </thead>\n",
       "  <tbody>\n",
       "    <tr>\n",
       "      <th>0</th>\n",
       "      <td>291655</td>\n",
       "      <td>-566.53</td>\n",
       "      <td>ALL_CREDITS_PAID_BACK</td>\n",
       "      <td>36.42</td>\n",
       "      <td>1.0</td>\n",
       "      <td>F</td>\n",
       "      <td>24.0</td>\n",
       "      <td>3.0</td>\n",
       "      <td>1.0</td>\n",
       "      <td>1.0</td>\n",
       "      <td>...</td>\n",
       "      <td>SAVINGS_INSURANCE</td>\n",
       "      <td>OWN</td>\n",
       "      <td>2.0</td>\n",
       "      <td>310.0</td>\n",
       "      <td>NONE</td>\n",
       "      <td>2.0</td>\n",
       "      <td>CAR_NEW</td>\n",
       "      <td>3503.0</td>\n",
       "      <td>NONE</td>\n",
       "      <td>1</td>\n",
       "    </tr>\n",
       "    <tr>\n",
       "      <th>1</th>\n",
       "      <td>657079</td>\n",
       "      <td>-1673.16</td>\n",
       "      <td>CREDITS_PAID_TO_DATE</td>\n",
       "      <td>22.9</td>\n",
       "      <td>1.0</td>\n",
       "      <td>F</td>\n",
       "      <td>30.0</td>\n",
       "      <td>3.0</td>\n",
       "      <td>1.0</td>\n",
       "      <td>0.0</td>\n",
       "      <td>...</td>\n",
       "      <td>CAR_OTHER</td>\n",
       "      <td>RENT</td>\n",
       "      <td>1.0</td>\n",
       "      <td>630.0</td>\n",
       "      <td>STORES</td>\n",
       "      <td>3.0</td>\n",
       "      <td>CAR_NEW</td>\n",
       "      <td>3729.0</td>\n",
       "      <td>NONE</td>\n",
       "      <td>1</td>\n",
       "    </tr>\n",
       "    <tr>\n",
       "      <th>2</th>\n",
       "      <td>256050</td>\n",
       "      <td>NO_CHECKING</td>\n",
       "      <td>CREDITS_PAID_TO_DATE</td>\n",
       "      <td>450.35</td>\n",
       "      <td>2.0</td>\n",
       "      <td>M</td>\n",
       "      <td>40.0</td>\n",
       "      <td>3.0</td>\n",
       "      <td>1.0</td>\n",
       "      <td>0.0</td>\n",
       "      <td>...</td>\n",
       "      <td>UNKNOWN</td>\n",
       "      <td>OWN</td>\n",
       "      <td>4.0</td>\n",
       "      <td>868.0</td>\n",
       "      <td>NONE</td>\n",
       "      <td>3.0</td>\n",
       "      <td>CAR_USED</td>\n",
       "      <td>8516.0</td>\n",
       "      <td>NONE</td>\n",
       "      <td>0</td>\n",
       "    </tr>\n",
       "    <tr>\n",
       "      <th>3</th>\n",
       "      <td>1039151</td>\n",
       "      <td>-1471.03</td>\n",
       "      <td>PRIOR_PAYMENTS_DELAYED</td>\n",
       "      <td>805.71</td>\n",
       "      <td>2.0</td>\n",
       "      <td>M</td>\n",
       "      <td>28.0</td>\n",
       "      <td>1.0</td>\n",
       "      <td>1.0</td>\n",
       "      <td>0.0</td>\n",
       "      <td>...</td>\n",
       "      <td>CAR_OTHER</td>\n",
       "      <td>OWN</td>\n",
       "      <td>3.0</td>\n",
       "      <td>403.0</td>\n",
       "      <td>BANK</td>\n",
       "      <td>3.0</td>\n",
       "      <td>FURNITURE</td>\n",
       "      <td>2577.0</td>\n",
       "      <td>NONE</td>\n",
       "      <td>1</td>\n",
       "    </tr>\n",
       "    <tr>\n",
       "      <th>4</th>\n",
       "      <td>1002660</td>\n",
       "      <td>NO_CHECKING</td>\n",
       "      <td>CREDITS_PAID_TO_DATE</td>\n",
       "      <td>295.03</td>\n",
       "      <td>1.0</td>\n",
       "      <td>M</td>\n",
       "      <td>19.0</td>\n",
       "      <td>2.0</td>\n",
       "      <td>1.0</td>\n",
       "      <td>0.0</td>\n",
       "      <td>...</td>\n",
       "      <td>REAL_ESTATE</td>\n",
       "      <td>OWN</td>\n",
       "      <td>3.0</td>\n",
       "      <td>810.0</td>\n",
       "      <td>NONE</td>\n",
       "      <td>4.0</td>\n",
       "      <td>BUSINESS</td>\n",
       "      <td>3750.0</td>\n",
       "      <td>NONE</td>\n",
       "      <td>1</td>\n",
       "    </tr>\n",
       "    <tr>\n",
       "      <th>...</th>\n",
       "      <td>...</td>\n",
       "      <td>...</td>\n",
       "      <td>...</td>\n",
       "      <td>...</td>\n",
       "      <td>...</td>\n",
       "      <td>...</td>\n",
       "      <td>...</td>\n",
       "      <td>...</td>\n",
       "      <td>...</td>\n",
       "      <td>...</td>\n",
       "      <td>...</td>\n",
       "      <td>...</td>\n",
       "      <td>...</td>\n",
       "      <td>...</td>\n",
       "      <td>...</td>\n",
       "      <td>...</td>\n",
       "      <td>...</td>\n",
       "      <td>...</td>\n",
       "      <td>...</td>\n",
       "      <td>...</td>\n",
       "      <td>...</td>\n",
       "    </tr>\n",
       "    <tr>\n",
       "      <th>2472</th>\n",
       "      <td>636739</td>\n",
       "      <td>163.82</td>\n",
       "      <td>CREDITS_PAID_TO_DATE</td>\n",
       "      <td>472.11</td>\n",
       "      <td>1.0</td>\n",
       "      <td>F</td>\n",
       "      <td>41.0</td>\n",
       "      <td>0.0</td>\n",
       "      <td>1.0</td>\n",
       "      <td>0.0</td>\n",
       "      <td>...</td>\n",
       "      <td>CAR_OTHER</td>\n",
       "      <td>OWN</td>\n",
       "      <td>3.0</td>\n",
       "      <td>450.0</td>\n",
       "      <td>BANK</td>\n",
       "      <td>3.0</td>\n",
       "      <td>CAR_NEW</td>\n",
       "      <td>3007.0</td>\n",
       "      <td>CO-APPLICANT</td>\n",
       "      <td>0</td>\n",
       "    </tr>\n",
       "    <tr>\n",
       "      <th>2473</th>\n",
       "      <td>919733</td>\n",
       "      <td>14324.23</td>\n",
       "      <td>PRIOR_PAYMENTS_DELAYED</td>\n",
       "      <td>18652.44</td>\n",
       "      <td>1.0</td>\n",
       "      <td>M</td>\n",
       "      <td>46.0</td>\n",
       "      <td>3.0</td>\n",
       "      <td>1.0</td>\n",
       "      <td>1.0</td>\n",
       "      <td>...</td>\n",
       "      <td>SAVINGS_INSURANCE</td>\n",
       "      <td>OWN</td>\n",
       "      <td>3.0</td>\n",
       "      <td>510.0</td>\n",
       "      <td>NONE</td>\n",
       "      <td>4.0</td>\n",
       "      <td>VACATION</td>\n",
       "      <td>4191.0</td>\n",
       "      <td>GUARANTOR</td>\n",
       "      <td>1</td>\n",
       "    </tr>\n",
       "    <tr>\n",
       "      <th>2474</th>\n",
       "      <td>115839</td>\n",
       "      <td>130.13</td>\n",
       "      <td>PRIOR_PAYMENTS_DELAYED</td>\n",
       "      <td>726.78</td>\n",
       "      <td>2.0</td>\n",
       "      <td>M</td>\n",
       "      <td>28.0</td>\n",
       "      <td>3.0</td>\n",
       "      <td>1.0</td>\n",
       "      <td>1.0</td>\n",
       "      <td>...</td>\n",
       "      <td>CAR_OTHER</td>\n",
       "      <td>RENT</td>\n",
       "      <td>1.0</td>\n",
       "      <td>124.0</td>\n",
       "      <td>STORES</td>\n",
       "      <td>1.0</td>\n",
       "      <td>FURNITURE</td>\n",
       "      <td>250.0</td>\n",
       "      <td>NONE</td>\n",
       "      <td>1</td>\n",
       "    </tr>\n",
       "    <tr>\n",
       "      <th>2475</th>\n",
       "      <td>1128684</td>\n",
       "      <td>NO_CHECKING</td>\n",
       "      <td>PRIOR_PAYMENTS_DELAYED</td>\n",
       "      <td>UNKNOWN</td>\n",
       "      <td>1.0</td>\n",
       "      <td>M</td>\n",
       "      <td>46.0</td>\n",
       "      <td>0.0</td>\n",
       "      <td>1.0</td>\n",
       "      <td>0.0</td>\n",
       "      <td>...</td>\n",
       "      <td>CAR_OTHER</td>\n",
       "      <td>RENT</td>\n",
       "      <td>3.0</td>\n",
       "      <td>961.0</td>\n",
       "      <td>BANK</td>\n",
       "      <td>3.0</td>\n",
       "      <td>BUSINESS</td>\n",
       "      <td>5172.0</td>\n",
       "      <td>NONE</td>\n",
       "      <td>1</td>\n",
       "    </tr>\n",
       "    <tr>\n",
       "      <th>2476</th>\n",
       "      <td>5547</td>\n",
       "      <td>NO_CHECKING</td>\n",
       "      <td>PRIOR_PAYMENTS_DELAYED</td>\n",
       "      <td>UNKNOWN</td>\n",
       "      <td>2.0</td>\n",
       "      <td>M</td>\n",
       "      <td>40.0</td>\n",
       "      <td>3.0</td>\n",
       "      <td>1.0</td>\n",
       "      <td>0.0</td>\n",
       "      <td>...</td>\n",
       "      <td>CAR_OTHER</td>\n",
       "      <td>OWN</td>\n",
       "      <td>5.0</td>\n",
       "      <td>1020.0</td>\n",
       "      <td>NONE</td>\n",
       "      <td>4.0</td>\n",
       "      <td>FURNITURE</td>\n",
       "      <td>6063.0</td>\n",
       "      <td>NONE</td>\n",
       "      <td>1</td>\n",
       "    </tr>\n",
       "  </tbody>\n",
       "</table>\n",
       "<p>2477 rows × 22 columns</p>\n",
       "</div>"
      ],
      "text/plain": [
       "           ID CHECKING_BALANCE          CREDIT_HISTORY EXISTING_SAVINGS  \\\n",
       "0      291655          -566.53   ALL_CREDITS_PAID_BACK            36.42   \n",
       "1      657079         -1673.16    CREDITS_PAID_TO_DATE             22.9   \n",
       "2      256050      NO_CHECKING    CREDITS_PAID_TO_DATE           450.35   \n",
       "3     1039151         -1471.03  PRIOR_PAYMENTS_DELAYED           805.71   \n",
       "4     1002660      NO_CHECKING    CREDITS_PAID_TO_DATE           295.03   \n",
       "...       ...              ...                     ...              ...   \n",
       "2472   636739           163.82    CREDITS_PAID_TO_DATE           472.11   \n",
       "2473   919733         14324.23  PRIOR_PAYMENTS_DELAYED         18652.44   \n",
       "2474   115839           130.13  PRIOR_PAYMENTS_DELAYED           726.78   \n",
       "2475  1128684      NO_CHECKING  PRIOR_PAYMENTS_DELAYED          UNKNOWN   \n",
       "2476     5547      NO_CHECKING  PRIOR_PAYMENTS_DELAYED          UNKNOWN   \n",
       "\n",
       "      EXISTING_CREDITS_COUNT SEX   AGE  JOB_TYPE  DEPENDENTS  TELEPHONE  ...  \\\n",
       "0                        1.0   F  24.0       3.0         1.0        1.0  ...   \n",
       "1                        1.0   F  30.0       3.0         1.0        0.0  ...   \n",
       "2                        2.0   M  40.0       3.0         1.0        0.0  ...   \n",
       "3                        2.0   M  28.0       1.0         1.0        0.0  ...   \n",
       "4                        1.0   M  19.0       2.0         1.0        0.0  ...   \n",
       "...                      ...  ..   ...       ...         ...        ...  ...   \n",
       "2472                     1.0   F  41.0       0.0         1.0        0.0  ...   \n",
       "2473                     1.0   M  46.0       3.0         1.0        1.0  ...   \n",
       "2474                     2.0   M  28.0       3.0         1.0        1.0  ...   \n",
       "2475                     1.0   M  46.0       0.0         1.0        0.0  ...   \n",
       "2476                     2.0   M  40.0       3.0         1.0        0.0  ...   \n",
       "\n",
       "               PROPERTY  HOUSING CURRENT_RESIDENCE_DURATION PAYMENT_TERM  \\\n",
       "0     SAVINGS_INSURANCE      OWN                        2.0        310.0   \n",
       "1             CAR_OTHER     RENT                        1.0        630.0   \n",
       "2               UNKNOWN      OWN                        4.0        868.0   \n",
       "3             CAR_OTHER      OWN                        3.0        403.0   \n",
       "4           REAL_ESTATE      OWN                        3.0        810.0   \n",
       "...                 ...      ...                        ...          ...   \n",
       "2472          CAR_OTHER      OWN                        3.0        450.0   \n",
       "2473  SAVINGS_INSURANCE      OWN                        3.0        510.0   \n",
       "2474          CAR_OTHER     RENT                        1.0        124.0   \n",
       "2475          CAR_OTHER     RENT                        3.0        961.0   \n",
       "2476          CAR_OTHER      OWN                        5.0       1020.0   \n",
       "\n",
       "      INSTALLMENT_PLANS  INSTALLMENT_PERCENT LOAN_PURPOSE  LOAN_AMOUNT  \\\n",
       "0                  NONE                  2.0      CAR_NEW       3503.0   \n",
       "1                STORES                  3.0      CAR_NEW       3729.0   \n",
       "2                  NONE                  3.0     CAR_USED       8516.0   \n",
       "3                  BANK                  3.0    FURNITURE       2577.0   \n",
       "4                  NONE                  4.0     BUSINESS       3750.0   \n",
       "...                 ...                  ...          ...          ...   \n",
       "2472               BANK                  3.0      CAR_NEW       3007.0   \n",
       "2473               NONE                  4.0     VACATION       4191.0   \n",
       "2474             STORES                  1.0    FURNITURE        250.0   \n",
       "2475               BANK                  3.0     BUSINESS       5172.0   \n",
       "2476               NONE                  4.0    FURNITURE       6063.0   \n",
       "\n",
       "     OTHERS_ON_LOAN  ALLOW  \n",
       "0              NONE      1  \n",
       "1              NONE      1  \n",
       "2              NONE      0  \n",
       "3              NONE      1  \n",
       "4              NONE      1  \n",
       "...             ...    ...  \n",
       "2472   CO-APPLICANT      0  \n",
       "2473      GUARANTOR      1  \n",
       "2474           NONE      1  \n",
       "2475           NONE      1  \n",
       "2476           NONE      1  \n",
       "\n",
       "[2477 rows x 22 columns]"
      ]
     },
     "execution_count": 93,
     "metadata": {},
     "output_type": "execute_result"
    }
   ],
   "source": [
    "df = pd.merge(pd.merge(df1,df2,on='ID'),df3,on='ID')\n",
    "df"
   ]
  },
  {
   "cell_type": "markdown",
   "metadata": {},
   "source": [
    "Observe que ao unir as bases de dados de clientes, uma nova análise pode ser construída, pois nessa nova etapa buscaremos compreender quais as correlações entre variáveis de diferentes bases se relacionam e claro, como essas variáveis influenciam a concessão de empréstimo a clientes ou não."
   ]
  },
  {
   "cell_type": "code",
   "execution_count": 94,
   "metadata": {},
   "outputs": [
    {
     "name": "stdout",
     "output_type": "stream",
     "text": [
      "<class 'pandas.core.frame.DataFrame'>\n",
      "Int64Index: 2477 entries, 0 to 2476\n",
      "Data columns (total 22 columns):\n",
      " #   Column                      Non-Null Count  Dtype  \n",
      "---  ------                      --------------  -----  \n",
      " 0   ID                          2477 non-null   int64  \n",
      " 1   CHECKING_BALANCE            2467 non-null   object \n",
      " 2   CREDIT_HISTORY              2462 non-null   object \n",
      " 3   EXISTING_SAVINGS            2467 non-null   object \n",
      " 4   EXISTING_CREDITS_COUNT      2463 non-null   float64\n",
      " 5   SEX                         2477 non-null   object \n",
      " 6   AGE                         2465 non-null   float64\n",
      " 7   JOB_TYPE                    2464 non-null   float64\n",
      " 8   DEPENDENTS                  2461 non-null   float64\n",
      " 9   TELEPHONE                   2464 non-null   float64\n",
      " 10  FOREIGN_WORKER              2463 non-null   float64\n",
      " 11  EMPLOYMENT_DURATION         2472 non-null   float64\n",
      " 12  PROPERTY                    2465 non-null   object \n",
      " 13  HOUSING                     2465 non-null   object \n",
      " 14  CURRENT_RESIDENCE_DURATION  2469 non-null   float64\n",
      " 15  PAYMENT_TERM                2460 non-null   float64\n",
      " 16  INSTALLMENT_PLANS           2462 non-null   object \n",
      " 17  INSTALLMENT_PERCENT         2459 non-null   float64\n",
      " 18  LOAN_PURPOSE                2467 non-null   object \n",
      " 19  LOAN_AMOUNT                 2466 non-null   float64\n",
      " 20  OTHERS_ON_LOAN              2464 non-null   object \n",
      " 21  ALLOW                       2477 non-null   int64  \n",
      "dtypes: float64(11), int64(2), object(9)\n",
      "memory usage: 445.1+ KB\n"
     ]
    }
   ],
   "source": [
    "df.info()"
   ]
  },
  {
   "cell_type": "code",
   "execution_count": 95,
   "metadata": {},
   "outputs": [
    {
     "name": "stdout",
     "output_type": "stream",
     "text": [
      "<class 'pandas.core.frame.DataFrame'>\n",
      "Int64Index: 2477 entries, 0 to 2476\n",
      "Data columns (total 22 columns):\n",
      " #   Column                      Non-Null Count  Dtype  \n",
      "---  ------                      --------------  -----  \n",
      " 0   ID                          2477 non-null   int64  \n",
      " 1   CHECKING_BALANCE            2477 non-null   object \n",
      " 2   CREDIT_HISTORY              2477 non-null   object \n",
      " 3   EXISTING_SAVINGS            2477 non-null   object \n",
      " 4   EXISTING_CREDITS_COUNT      2477 non-null   float64\n",
      " 5   SEX                         2477 non-null   object \n",
      " 6   AGE                         2477 non-null   float64\n",
      " 7   JOB_TYPE                    2477 non-null   float64\n",
      " 8   DEPENDENTS                  2477 non-null   float64\n",
      " 9   TELEPHONE                   2477 non-null   float64\n",
      " 10  FOREIGN_WORKER              2477 non-null   float64\n",
      " 11  EMPLOYMENT_DURATION         2477 non-null   float64\n",
      " 12  PROPERTY                    2477 non-null   object \n",
      " 13  HOUSING                     2477 non-null   object \n",
      " 14  CURRENT_RESIDENCE_DURATION  2477 non-null   float64\n",
      " 15  PAYMENT_TERM                2477 non-null   float64\n",
      " 16  INSTALLMENT_PLANS           2477 non-null   object \n",
      " 17  INSTALLMENT_PERCENT         2477 non-null   float64\n",
      " 18  LOAN_PURPOSE                2477 non-null   object \n",
      " 19  LOAN_AMOUNT                 2477 non-null   float64\n",
      " 20  OTHERS_ON_LOAN              2477 non-null   object \n",
      " 21  ALLOW                       2477 non-null   int64  \n",
      "dtypes: float64(11), int64(2), object(9)\n",
      "memory usage: 445.1+ KB\n"
     ]
    }
   ],
   "source": [
    "df = df.fillna(method=\"ffill\") # tratamento dos dados\n",
    "df.info()"
   ]
  },
  {
   "cell_type": "markdown",
   "metadata": {},
   "source": [
    "### Criamos uma função simples para retornar um dataframe com as correlações das variáveis de estudo"
   ]
  },
  {
   "cell_type": "code",
   "execution_count": 96,
   "metadata": {},
   "outputs": [],
   "source": [
    "def update_corr(df):\n",
    "    result_corr = df.corr().sort_values(by='ALLOW')\n",
    "    result_corr = result_corr['ALLOW']\n",
    "\n",
    "    return result_corr"
   ]
  },
  {
   "cell_type": "code",
   "execution_count": 97,
   "metadata": {},
   "outputs": [
    {
     "data": {
      "text/plain": [
       "AGE                          -0.452722\n",
       "LOAN_AMOUNT                  -0.448757\n",
       "PAYMENT_TERM                 -0.441380\n",
       "EMPLOYMENT_DURATION          -0.436079\n",
       "CURRENT_RESIDENCE_DURATION   -0.421804\n",
       "INSTALLMENT_PERCENT          -0.405456\n",
       "EXISTING_CREDITS_COUNT       -0.375336\n",
       "TELEPHONE                    -0.333622\n",
       "DEPENDENTS                   -0.216038\n",
       "JOB_TYPE                     -0.092256\n",
       "ID                           -0.027275\n",
       "FOREIGN_WORKER                0.061020\n",
       "ALLOW                         1.000000\n",
       "Name: ALLOW, dtype: float64"
      ]
     },
     "execution_count": 97,
     "metadata": {},
     "output_type": "execute_result"
    }
   ],
   "source": [
    "update_corr(df) # testando função"
   ]
  },
  {
   "cell_type": "markdown",
   "metadata": {},
   "source": [
    "### Observe que nove variáveis não apareceram na tabela de correlação mostrada anteriormente devido a necessidade de um tratamento de dados específico como, por exemplo, as variáveis categóricas."
   ]
  },
  {
   "cell_type": "code",
   "execution_count": 98,
   "metadata": {},
   "outputs": [
    {
     "data": {
      "text/plain": [
       "OneHotEncoder(cols=['CREDIT_HISTORY', 'SEX', 'PROPERTY', 'HOUSING',\n",
       "                    'LOAN_PURPOSE', 'OTHERS_ON_LOAN', 'INSTALLMENT_PLANS'],\n",
       "              use_cat_names=True)"
      ]
     },
     "execution_count": 98,
     "metadata": {},
     "output_type": "execute_result"
    }
   ],
   "source": [
    "enc = OneHotEncoder(cols=['CREDIT_HISTORY', 'SEX', 'PROPERTY','HOUSING','LOAN_PURPOSE','OTHERS_ON_LOAN','INSTALLMENT_PLANS'], use_cat_names=True)\n",
    "enc.fit(df)"
   ]
  },
  {
   "cell_type": "code",
   "execution_count": 99,
   "metadata": {},
   "outputs": [
    {
     "data": {
      "text/html": [
       "<div>\n",
       "<style scoped>\n",
       "    .dataframe tbody tr th:only-of-type {\n",
       "        vertical-align: middle;\n",
       "    }\n",
       "\n",
       "    .dataframe tbody tr th {\n",
       "        vertical-align: top;\n",
       "    }\n",
       "\n",
       "    .dataframe thead th {\n",
       "        text-align: right;\n",
       "    }\n",
       "</style>\n",
       "<table border=\"1\" class=\"dataframe\">\n",
       "  <thead>\n",
       "    <tr style=\"text-align: right;\">\n",
       "      <th></th>\n",
       "      <th>ID</th>\n",
       "      <th>CHECKING_BALANCE</th>\n",
       "      <th>CREDIT_HISTORY_ALL_CREDITS_PAID_BACK</th>\n",
       "      <th>CREDIT_HISTORY_CREDITS_PAID_TO_DATE</th>\n",
       "      <th>CREDIT_HISTORY_PRIOR_PAYMENTS_DELAYED</th>\n",
       "      <th>CREDIT_HISTORY_OUTSTANDING_CREDIT</th>\n",
       "      <th>CREDIT_HISTORY_NO_CREDITS</th>\n",
       "      <th>EXISTING_SAVINGS</th>\n",
       "      <th>EXISTING_CREDITS_COUNT</th>\n",
       "      <th>SEX_F</th>\n",
       "      <th>...</th>\n",
       "      <th>LOAN_PURPOSE_EDUCATION</th>\n",
       "      <th>LOAN_PURPOSE_VACATION</th>\n",
       "      <th>LOAN_PURPOSE_REPAIRS</th>\n",
       "      <th>LOAN_PURPOSE_RETRAINING</th>\n",
       "      <th>LOAN_PURPOSE_OTHER</th>\n",
       "      <th>LOAN_AMOUNT</th>\n",
       "      <th>OTHERS_ON_LOAN_NONE</th>\n",
       "      <th>OTHERS_ON_LOAN_CO-APPLICANT</th>\n",
       "      <th>OTHERS_ON_LOAN_GUARANTOR</th>\n",
       "      <th>ALLOW</th>\n",
       "    </tr>\n",
       "  </thead>\n",
       "  <tbody>\n",
       "    <tr>\n",
       "      <th>0</th>\n",
       "      <td>291655</td>\n",
       "      <td>-566.53</td>\n",
       "      <td>1</td>\n",
       "      <td>0</td>\n",
       "      <td>0</td>\n",
       "      <td>0</td>\n",
       "      <td>0</td>\n",
       "      <td>36.42</td>\n",
       "      <td>1.0</td>\n",
       "      <td>1</td>\n",
       "      <td>...</td>\n",
       "      <td>0</td>\n",
       "      <td>0</td>\n",
       "      <td>0</td>\n",
       "      <td>0</td>\n",
       "      <td>0</td>\n",
       "      <td>3503.0</td>\n",
       "      <td>1</td>\n",
       "      <td>0</td>\n",
       "      <td>0</td>\n",
       "      <td>1</td>\n",
       "    </tr>\n",
       "    <tr>\n",
       "      <th>1</th>\n",
       "      <td>657079</td>\n",
       "      <td>-1673.16</td>\n",
       "      <td>0</td>\n",
       "      <td>1</td>\n",
       "      <td>0</td>\n",
       "      <td>0</td>\n",
       "      <td>0</td>\n",
       "      <td>22.9</td>\n",
       "      <td>1.0</td>\n",
       "      <td>1</td>\n",
       "      <td>...</td>\n",
       "      <td>0</td>\n",
       "      <td>0</td>\n",
       "      <td>0</td>\n",
       "      <td>0</td>\n",
       "      <td>0</td>\n",
       "      <td>3729.0</td>\n",
       "      <td>1</td>\n",
       "      <td>0</td>\n",
       "      <td>0</td>\n",
       "      <td>1</td>\n",
       "    </tr>\n",
       "    <tr>\n",
       "      <th>2</th>\n",
       "      <td>256050</td>\n",
       "      <td>NO_CHECKING</td>\n",
       "      <td>0</td>\n",
       "      <td>1</td>\n",
       "      <td>0</td>\n",
       "      <td>0</td>\n",
       "      <td>0</td>\n",
       "      <td>450.35</td>\n",
       "      <td>2.0</td>\n",
       "      <td>0</td>\n",
       "      <td>...</td>\n",
       "      <td>0</td>\n",
       "      <td>0</td>\n",
       "      <td>0</td>\n",
       "      <td>0</td>\n",
       "      <td>0</td>\n",
       "      <td>8516.0</td>\n",
       "      <td>1</td>\n",
       "      <td>0</td>\n",
       "      <td>0</td>\n",
       "      <td>0</td>\n",
       "    </tr>\n",
       "    <tr>\n",
       "      <th>3</th>\n",
       "      <td>1039151</td>\n",
       "      <td>-1471.03</td>\n",
       "      <td>0</td>\n",
       "      <td>0</td>\n",
       "      <td>1</td>\n",
       "      <td>0</td>\n",
       "      <td>0</td>\n",
       "      <td>805.71</td>\n",
       "      <td>2.0</td>\n",
       "      <td>0</td>\n",
       "      <td>...</td>\n",
       "      <td>0</td>\n",
       "      <td>0</td>\n",
       "      <td>0</td>\n",
       "      <td>0</td>\n",
       "      <td>0</td>\n",
       "      <td>2577.0</td>\n",
       "      <td>1</td>\n",
       "      <td>0</td>\n",
       "      <td>0</td>\n",
       "      <td>1</td>\n",
       "    </tr>\n",
       "    <tr>\n",
       "      <th>4</th>\n",
       "      <td>1002660</td>\n",
       "      <td>NO_CHECKING</td>\n",
       "      <td>0</td>\n",
       "      <td>1</td>\n",
       "      <td>0</td>\n",
       "      <td>0</td>\n",
       "      <td>0</td>\n",
       "      <td>295.03</td>\n",
       "      <td>1.0</td>\n",
       "      <td>0</td>\n",
       "      <td>...</td>\n",
       "      <td>0</td>\n",
       "      <td>0</td>\n",
       "      <td>0</td>\n",
       "      <td>0</td>\n",
       "      <td>0</td>\n",
       "      <td>3750.0</td>\n",
       "      <td>1</td>\n",
       "      <td>0</td>\n",
       "      <td>0</td>\n",
       "      <td>1</td>\n",
       "    </tr>\n",
       "    <tr>\n",
       "      <th>...</th>\n",
       "      <td>...</td>\n",
       "      <td>...</td>\n",
       "      <td>...</td>\n",
       "      <td>...</td>\n",
       "      <td>...</td>\n",
       "      <td>...</td>\n",
       "      <td>...</td>\n",
       "      <td>...</td>\n",
       "      <td>...</td>\n",
       "      <td>...</td>\n",
       "      <td>...</td>\n",
       "      <td>...</td>\n",
       "      <td>...</td>\n",
       "      <td>...</td>\n",
       "      <td>...</td>\n",
       "      <td>...</td>\n",
       "      <td>...</td>\n",
       "      <td>...</td>\n",
       "      <td>...</td>\n",
       "      <td>...</td>\n",
       "      <td>...</td>\n",
       "    </tr>\n",
       "    <tr>\n",
       "      <th>2472</th>\n",
       "      <td>636739</td>\n",
       "      <td>163.82</td>\n",
       "      <td>0</td>\n",
       "      <td>1</td>\n",
       "      <td>0</td>\n",
       "      <td>0</td>\n",
       "      <td>0</td>\n",
       "      <td>472.11</td>\n",
       "      <td>1.0</td>\n",
       "      <td>1</td>\n",
       "      <td>...</td>\n",
       "      <td>0</td>\n",
       "      <td>0</td>\n",
       "      <td>0</td>\n",
       "      <td>0</td>\n",
       "      <td>0</td>\n",
       "      <td>3007.0</td>\n",
       "      <td>0</td>\n",
       "      <td>1</td>\n",
       "      <td>0</td>\n",
       "      <td>0</td>\n",
       "    </tr>\n",
       "    <tr>\n",
       "      <th>2473</th>\n",
       "      <td>919733</td>\n",
       "      <td>14324.23</td>\n",
       "      <td>0</td>\n",
       "      <td>0</td>\n",
       "      <td>1</td>\n",
       "      <td>0</td>\n",
       "      <td>0</td>\n",
       "      <td>18652.44</td>\n",
       "      <td>1.0</td>\n",
       "      <td>0</td>\n",
       "      <td>...</td>\n",
       "      <td>0</td>\n",
       "      <td>1</td>\n",
       "      <td>0</td>\n",
       "      <td>0</td>\n",
       "      <td>0</td>\n",
       "      <td>4191.0</td>\n",
       "      <td>0</td>\n",
       "      <td>0</td>\n",
       "      <td>1</td>\n",
       "      <td>1</td>\n",
       "    </tr>\n",
       "    <tr>\n",
       "      <th>2474</th>\n",
       "      <td>115839</td>\n",
       "      <td>130.13</td>\n",
       "      <td>0</td>\n",
       "      <td>0</td>\n",
       "      <td>1</td>\n",
       "      <td>0</td>\n",
       "      <td>0</td>\n",
       "      <td>726.78</td>\n",
       "      <td>2.0</td>\n",
       "      <td>0</td>\n",
       "      <td>...</td>\n",
       "      <td>0</td>\n",
       "      <td>0</td>\n",
       "      <td>0</td>\n",
       "      <td>0</td>\n",
       "      <td>0</td>\n",
       "      <td>250.0</td>\n",
       "      <td>1</td>\n",
       "      <td>0</td>\n",
       "      <td>0</td>\n",
       "      <td>1</td>\n",
       "    </tr>\n",
       "    <tr>\n",
       "      <th>2475</th>\n",
       "      <td>1128684</td>\n",
       "      <td>NO_CHECKING</td>\n",
       "      <td>0</td>\n",
       "      <td>0</td>\n",
       "      <td>1</td>\n",
       "      <td>0</td>\n",
       "      <td>0</td>\n",
       "      <td>UNKNOWN</td>\n",
       "      <td>1.0</td>\n",
       "      <td>0</td>\n",
       "      <td>...</td>\n",
       "      <td>0</td>\n",
       "      <td>0</td>\n",
       "      <td>0</td>\n",
       "      <td>0</td>\n",
       "      <td>0</td>\n",
       "      <td>5172.0</td>\n",
       "      <td>1</td>\n",
       "      <td>0</td>\n",
       "      <td>0</td>\n",
       "      <td>1</td>\n",
       "    </tr>\n",
       "    <tr>\n",
       "      <th>2476</th>\n",
       "      <td>5547</td>\n",
       "      <td>NO_CHECKING</td>\n",
       "      <td>0</td>\n",
       "      <td>0</td>\n",
       "      <td>1</td>\n",
       "      <td>0</td>\n",
       "      <td>0</td>\n",
       "      <td>UNKNOWN</td>\n",
       "      <td>2.0</td>\n",
       "      <td>0</td>\n",
       "      <td>...</td>\n",
       "      <td>0</td>\n",
       "      <td>0</td>\n",
       "      <td>0</td>\n",
       "      <td>0</td>\n",
       "      <td>0</td>\n",
       "      <td>6063.0</td>\n",
       "      <td>1</td>\n",
       "      <td>0</td>\n",
       "      <td>0</td>\n",
       "      <td>1</td>\n",
       "    </tr>\n",
       "  </tbody>\n",
       "</table>\n",
       "<p>2477 rows × 47 columns</p>\n",
       "</div>"
      ],
      "text/plain": [
       "           ID CHECKING_BALANCE  CREDIT_HISTORY_ALL_CREDITS_PAID_BACK  \\\n",
       "0      291655          -566.53                                     1   \n",
       "1      657079         -1673.16                                     0   \n",
       "2      256050      NO_CHECKING                                     0   \n",
       "3     1039151         -1471.03                                     0   \n",
       "4     1002660      NO_CHECKING                                     0   \n",
       "...       ...              ...                                   ...   \n",
       "2472   636739           163.82                                     0   \n",
       "2473   919733         14324.23                                     0   \n",
       "2474   115839           130.13                                     0   \n",
       "2475  1128684      NO_CHECKING                                     0   \n",
       "2476     5547      NO_CHECKING                                     0   \n",
       "\n",
       "      CREDIT_HISTORY_CREDITS_PAID_TO_DATE  \\\n",
       "0                                       0   \n",
       "1                                       1   \n",
       "2                                       1   \n",
       "3                                       0   \n",
       "4                                       1   \n",
       "...                                   ...   \n",
       "2472                                    1   \n",
       "2473                                    0   \n",
       "2474                                    0   \n",
       "2475                                    0   \n",
       "2476                                    0   \n",
       "\n",
       "      CREDIT_HISTORY_PRIOR_PAYMENTS_DELAYED  \\\n",
       "0                                         0   \n",
       "1                                         0   \n",
       "2                                         0   \n",
       "3                                         1   \n",
       "4                                         0   \n",
       "...                                     ...   \n",
       "2472                                      0   \n",
       "2473                                      1   \n",
       "2474                                      1   \n",
       "2475                                      1   \n",
       "2476                                      1   \n",
       "\n",
       "      CREDIT_HISTORY_OUTSTANDING_CREDIT  CREDIT_HISTORY_NO_CREDITS  \\\n",
       "0                                     0                          0   \n",
       "1                                     0                          0   \n",
       "2                                     0                          0   \n",
       "3                                     0                          0   \n",
       "4                                     0                          0   \n",
       "...                                 ...                        ...   \n",
       "2472                                  0                          0   \n",
       "2473                                  0                          0   \n",
       "2474                                  0                          0   \n",
       "2475                                  0                          0   \n",
       "2476                                  0                          0   \n",
       "\n",
       "     EXISTING_SAVINGS  EXISTING_CREDITS_COUNT  SEX_F  ...  \\\n",
       "0               36.42                     1.0      1  ...   \n",
       "1                22.9                     1.0      1  ...   \n",
       "2              450.35                     2.0      0  ...   \n",
       "3              805.71                     2.0      0  ...   \n",
       "4              295.03                     1.0      0  ...   \n",
       "...               ...                     ...    ...  ...   \n",
       "2472           472.11                     1.0      1  ...   \n",
       "2473         18652.44                     1.0      0  ...   \n",
       "2474           726.78                     2.0      0  ...   \n",
       "2475          UNKNOWN                     1.0      0  ...   \n",
       "2476          UNKNOWN                     2.0      0  ...   \n",
       "\n",
       "      LOAN_PURPOSE_EDUCATION  LOAN_PURPOSE_VACATION  LOAN_PURPOSE_REPAIRS  \\\n",
       "0                          0                      0                     0   \n",
       "1                          0                      0                     0   \n",
       "2                          0                      0                     0   \n",
       "3                          0                      0                     0   \n",
       "4                          0                      0                     0   \n",
       "...                      ...                    ...                   ...   \n",
       "2472                       0                      0                     0   \n",
       "2473                       0                      1                     0   \n",
       "2474                       0                      0                     0   \n",
       "2475                       0                      0                     0   \n",
       "2476                       0                      0                     0   \n",
       "\n",
       "      LOAN_PURPOSE_RETRAINING  LOAN_PURPOSE_OTHER  LOAN_AMOUNT  \\\n",
       "0                           0                   0       3503.0   \n",
       "1                           0                   0       3729.0   \n",
       "2                           0                   0       8516.0   \n",
       "3                           0                   0       2577.0   \n",
       "4                           0                   0       3750.0   \n",
       "...                       ...                 ...          ...   \n",
       "2472                        0                   0       3007.0   \n",
       "2473                        0                   0       4191.0   \n",
       "2474                        0                   0        250.0   \n",
       "2475                        0                   0       5172.0   \n",
       "2476                        0                   0       6063.0   \n",
       "\n",
       "      OTHERS_ON_LOAN_NONE  OTHERS_ON_LOAN_CO-APPLICANT  \\\n",
       "0                       1                            0   \n",
       "1                       1                            0   \n",
       "2                       1                            0   \n",
       "3                       1                            0   \n",
       "4                       1                            0   \n",
       "...                   ...                          ...   \n",
       "2472                    0                            1   \n",
       "2473                    0                            0   \n",
       "2474                    1                            0   \n",
       "2475                    1                            0   \n",
       "2476                    1                            0   \n",
       "\n",
       "      OTHERS_ON_LOAN_GUARANTOR  ALLOW  \n",
       "0                            0      1  \n",
       "1                            0      1  \n",
       "2                            0      0  \n",
       "3                            0      1  \n",
       "4                            0      1  \n",
       "...                        ...    ...  \n",
       "2472                         0      0  \n",
       "2473                         1      1  \n",
       "2474                         0      1  \n",
       "2475                         0      1  \n",
       "2476                         0      1  \n",
       "\n",
       "[2477 rows x 47 columns]"
      ]
     },
     "execution_count": 99,
     "metadata": {},
     "output_type": "execute_result"
    }
   ],
   "source": [
    "df = enc.transform(df)\n",
    "df"
   ]
  },
  {
   "cell_type": "markdown",
   "metadata": {},
   "source": [
    "### Observe que as variáveis 'CHECKING_BALANCE ' e 'EXISTING_SAVINGS' ainda não foram tratadas, qual procedimento será realizado?\n",
    "\n",
    "Com relação a variável 'CHECKING_BALANCE' uma das alternativas seria excluir todos os dados de contas que não tiveram seus balanços verificados, entretanto o conjunto de dados seria reduzido em aproximadamente 40% (de 2477 para 1485 dados), o que é um valor considerável tendo em vista que eliminar tantos dados reduziria a futura precisão do nosso modelo. "
   ]
  },
  {
   "cell_type": "code",
   "execution_count": 100,
   "metadata": {},
   "outputs": [
    {
     "data": {
      "text/plain": [
       "1485"
      ]
     },
     "execution_count": 100,
     "metadata": {},
     "output_type": "execute_result"
    }
   ],
   "source": [
    "af = df[~df['CHECKING_BALANCE'].isin(['NO_CHECKING'])] # excluindo todos os registros de contas com balanço não verificado\n",
    "len(af) # tamanho do novo dataset, caso seja aprovado"
   ]
  },
  {
   "cell_type": "markdown",
   "metadata": {},
   "source": [
    "Uma alternativa seria transformar os dados numéricos em 4 tipos de informação:\n",
    "\n",
    "- NEGATIVE: Compreende todas as contas com saldo negativo;\n",
    "- ZERO: Compreende todas as contas zeradas;\n",
    "- POSITIVE: Compreende todas as contas com saldo positivo;\n",
    "- NO_CHECKING: Compreende todas as contas não verificadas (já existente).\n",
    "\n",
    "Porém no momento, para fim de simplificação, opta-se por não utilizar a variável no modelo."
   ]
  },
  {
   "cell_type": "code",
   "execution_count": 101,
   "metadata": {
    "scrolled": false
   },
   "outputs": [],
   "source": [
    "aux = df[~df['EXISTING_SAVINGS'].isin(['UNKNOWN'])]"
   ]
  },
  {
   "cell_type": "code",
   "execution_count": 102,
   "metadata": {},
   "outputs": [],
   "source": [
    "aux = aux.drop(columns=['CHECKING_BALANCE'])"
   ]
  },
  {
   "cell_type": "code",
   "execution_count": 103,
   "metadata": {},
   "outputs": [],
   "source": [
    "aux = aux.apply(pd.to_numeric)"
   ]
  },
  {
   "cell_type": "code",
   "execution_count": 104,
   "metadata": {
    "scrolled": false
   },
   "outputs": [
    {
     "data": {
      "text/plain": [
       "AGE                                     -0.443165\n",
       "LOAN_AMOUNT                             -0.439912\n",
       "PAYMENT_TERM                            -0.429587\n",
       "EMPLOYMENT_DURATION                     -0.428706\n",
       "CURRENT_RESIDENCE_DURATION              -0.417432\n",
       "INSTALLMENT_PERCENT                     -0.398360\n",
       "EXISTING_CREDITS_COUNT                  -0.355308\n",
       "PROPERTY_UNKNOWN                        -0.347280\n",
       "HOUSING_FREE                            -0.323946\n",
       "TELEPHONE                               -0.319578\n",
       "CREDIT_HISTORY_OUTSTANDING_CREDIT       -0.315826\n",
       "OTHERS_ON_LOAN_CO-APPLICANT             -0.261064\n",
       "DEPENDENTS                              -0.179579\n",
       "INSTALLMENT_PLANS_NONE                  -0.176512\n",
       "LOAN_PURPOSE_APPLIANCES                 -0.155806\n",
       "EXISTING_SAVINGS                        -0.136933\n",
       "OTHERS_ON_LOAN_GUARANTOR                -0.130609\n",
       "CREDIT_HISTORY_PRIOR_PAYMENTS_DELAYED   -0.125372\n",
       "LOAN_PURPOSE_REPAIRS                    -0.114325\n",
       "PROPERTY_CAR_OTHER                      -0.113554\n",
       "LOAN_PURPOSE_OTHER                      -0.100760\n",
       "LOAN_PURPOSE_RADIO_TV                   -0.093087\n",
       "JOB_TYPE                                -0.081530\n",
       "SEX_M                                   -0.078730\n",
       "ID                                      -0.031311\n",
       "LOAN_PURPOSE_BUSINESS                   -0.008153\n",
       "SEX_NR                                   0.003015\n",
       "LOAN_PURPOSE_VACATION                    0.006099\n",
       "LOAN_PURPOSE_EDUCATION                   0.022760\n",
       "LOAN_PURPOSE_FURNITURE                   0.024197\n",
       "HOUSING_OWN                              0.028151\n",
       "LOAN_PURPOSE_RETRAINING                  0.029712\n",
       "FOREIGN_WORKER                           0.042840\n",
       "LOAN_PURPOSE_CAR_USED                    0.058922\n",
       "SEX_F                                    0.078465\n",
       "PROPERTY_SAVINGS_INSURANCE               0.082936\n",
       "INSTALLMENT_PLANS_STORES                 0.103954\n",
       "CREDIT_HISTORY_NO_CREDITS                0.111720\n",
       "INSTALLMENT_PLANS_BANK                   0.129825\n",
       "CREDIT_HISTORY_CREDITS_PAID_TO_DATE      0.148186\n",
       "LOAN_PURPOSE_CAR_NEW                     0.198022\n",
       "HOUSING_RENT                             0.232232\n",
       "CREDIT_HISTORY_ALL_CREDITS_PAID_BACK     0.233671\n",
       "OTHERS_ON_LOAN_NONE                      0.297644\n",
       "PROPERTY_REAL_ESTATE                     0.308265\n",
       "ALLOW                                    1.000000\n",
       "Name: ALLOW, dtype: float64"
      ]
     },
     "execution_count": 104,
     "metadata": {},
     "output_type": "execute_result"
    }
   ],
   "source": [
    "update_corr(aux) # imprime a nova tabela de correlação com a inclusão da variável 'EXISTING_SAVINGS'"
   ]
  },
  {
   "cell_type": "markdown",
   "metadata": {},
   "source": [
    "### Observação: Como a variável 'EXISTING_SAVINGS' possui uma correlação baixa com a nossa variável objetivo, então desfazemos o último tratamento que reduziu os dados em 7% (2400 para 2300 dados). Entretanto, mantém-se a decisão de excluir a variável 'CHECKING_BALANCE'."
   ]
  },
  {
   "cell_type": "code",
   "execution_count": 105,
   "metadata": {},
   "outputs": [],
   "source": [
    "df = df.drop(columns=['CHECKING_BALANCE'])"
   ]
  },
  {
   "cell_type": "markdown",
   "metadata": {},
   "source": [
    "### Removendo todas colunas desnecessárias"
   ]
  },
  {
   "cell_type": "code",
   "execution_count": 106,
   "metadata": {},
   "outputs": [
    {
     "data": {
      "text/html": [
       "<div>\n",
       "<style scoped>\n",
       "    .dataframe tbody tr th:only-of-type {\n",
       "        vertical-align: middle;\n",
       "    }\n",
       "\n",
       "    .dataframe tbody tr th {\n",
       "        vertical-align: top;\n",
       "    }\n",
       "\n",
       "    .dataframe thead th {\n",
       "        text-align: right;\n",
       "    }\n",
       "</style>\n",
       "<table border=\"1\" class=\"dataframe\">\n",
       "  <thead>\n",
       "    <tr style=\"text-align: right;\">\n",
       "      <th></th>\n",
       "      <th>AGE</th>\n",
       "      <th>LOAN_AMOUNT</th>\n",
       "      <th>PAYMENT_TERM</th>\n",
       "      <th>EMPLOYMENT_DURATION</th>\n",
       "      <th>CURRENT_RESIDENCE_DURATION</th>\n",
       "      <th>INSTALLMENT_PERCENT</th>\n",
       "      <th>ALLOW</th>\n",
       "    </tr>\n",
       "  </thead>\n",
       "  <tbody>\n",
       "    <tr>\n",
       "      <th>0</th>\n",
       "      <td>24.0</td>\n",
       "      <td>3503.0</td>\n",
       "      <td>310.0</td>\n",
       "      <td>0.0</td>\n",
       "      <td>2.0</td>\n",
       "      <td>2.0</td>\n",
       "      <td>1</td>\n",
       "    </tr>\n",
       "    <tr>\n",
       "      <th>1</th>\n",
       "      <td>30.0</td>\n",
       "      <td>3729.0</td>\n",
       "      <td>630.0</td>\n",
       "      <td>5.0</td>\n",
       "      <td>1.0</td>\n",
       "      <td>3.0</td>\n",
       "      <td>1</td>\n",
       "    </tr>\n",
       "    <tr>\n",
       "      <th>2</th>\n",
       "      <td>40.0</td>\n",
       "      <td>8516.0</td>\n",
       "      <td>868.0</td>\n",
       "      <td>4.0</td>\n",
       "      <td>4.0</td>\n",
       "      <td>3.0</td>\n",
       "      <td>0</td>\n",
       "    </tr>\n",
       "    <tr>\n",
       "      <th>3</th>\n",
       "      <td>28.0</td>\n",
       "      <td>2577.0</td>\n",
       "      <td>403.0</td>\n",
       "      <td>0.0</td>\n",
       "      <td>3.0</td>\n",
       "      <td>3.0</td>\n",
       "      <td>1</td>\n",
       "    </tr>\n",
       "    <tr>\n",
       "      <th>4</th>\n",
       "      <td>19.0</td>\n",
       "      <td>3750.0</td>\n",
       "      <td>810.0</td>\n",
       "      <td>3.0</td>\n",
       "      <td>3.0</td>\n",
       "      <td>4.0</td>\n",
       "      <td>1</td>\n",
       "    </tr>\n",
       "    <tr>\n",
       "      <th>...</th>\n",
       "      <td>...</td>\n",
       "      <td>...</td>\n",
       "      <td>...</td>\n",
       "      <td>...</td>\n",
       "      <td>...</td>\n",
       "      <td>...</td>\n",
       "      <td>...</td>\n",
       "    </tr>\n",
       "    <tr>\n",
       "      <th>2472</th>\n",
       "      <td>41.0</td>\n",
       "      <td>3007.0</td>\n",
       "      <td>450.0</td>\n",
       "      <td>7.0</td>\n",
       "      <td>3.0</td>\n",
       "      <td>3.0</td>\n",
       "      <td>0</td>\n",
       "    </tr>\n",
       "    <tr>\n",
       "      <th>2473</th>\n",
       "      <td>46.0</td>\n",
       "      <td>4191.0</td>\n",
       "      <td>510.0</td>\n",
       "      <td>11.0</td>\n",
       "      <td>3.0</td>\n",
       "      <td>4.0</td>\n",
       "      <td>1</td>\n",
       "    </tr>\n",
       "    <tr>\n",
       "      <th>2474</th>\n",
       "      <td>28.0</td>\n",
       "      <td>250.0</td>\n",
       "      <td>124.0</td>\n",
       "      <td>7.0</td>\n",
       "      <td>1.0</td>\n",
       "      <td>1.0</td>\n",
       "      <td>1</td>\n",
       "    </tr>\n",
       "    <tr>\n",
       "      <th>2475</th>\n",
       "      <td>46.0</td>\n",
       "      <td>5172.0</td>\n",
       "      <td>961.0</td>\n",
       "      <td>7.0</td>\n",
       "      <td>3.0</td>\n",
       "      <td>3.0</td>\n",
       "      <td>1</td>\n",
       "    </tr>\n",
       "    <tr>\n",
       "      <th>2476</th>\n",
       "      <td>40.0</td>\n",
       "      <td>6063.0</td>\n",
       "      <td>1020.0</td>\n",
       "      <td>3.0</td>\n",
       "      <td>5.0</td>\n",
       "      <td>4.0</td>\n",
       "      <td>1</td>\n",
       "    </tr>\n",
       "  </tbody>\n",
       "</table>\n",
       "<p>2477 rows × 7 columns</p>\n",
       "</div>"
      ],
      "text/plain": [
       "       AGE  LOAN_AMOUNT  PAYMENT_TERM  EMPLOYMENT_DURATION  \\\n",
       "0     24.0       3503.0         310.0                  0.0   \n",
       "1     30.0       3729.0         630.0                  5.0   \n",
       "2     40.0       8516.0         868.0                  4.0   \n",
       "3     28.0       2577.0         403.0                  0.0   \n",
       "4     19.0       3750.0         810.0                  3.0   \n",
       "...    ...          ...           ...                  ...   \n",
       "2472  41.0       3007.0         450.0                  7.0   \n",
       "2473  46.0       4191.0         510.0                 11.0   \n",
       "2474  28.0        250.0         124.0                  7.0   \n",
       "2475  46.0       5172.0         961.0                  7.0   \n",
       "2476  40.0       6063.0        1020.0                  3.0   \n",
       "\n",
       "      CURRENT_RESIDENCE_DURATION  INSTALLMENT_PERCENT  ALLOW  \n",
       "0                            2.0                  2.0      1  \n",
       "1                            1.0                  3.0      1  \n",
       "2                            4.0                  3.0      0  \n",
       "3                            3.0                  3.0      1  \n",
       "4                            3.0                  4.0      1  \n",
       "...                          ...                  ...    ...  \n",
       "2472                         3.0                  3.0      0  \n",
       "2473                         3.0                  4.0      1  \n",
       "2474                         1.0                  1.0      1  \n",
       "2475                         3.0                  3.0      1  \n",
       "2476                         5.0                  4.0      1  \n",
       "\n",
       "[2477 rows x 7 columns]"
      ]
     },
     "execution_count": 106,
     "metadata": {},
     "output_type": "execute_result"
    }
   ],
   "source": [
    "df = df[['AGE','LOAN_AMOUNT','PAYMENT_TERM','EMPLOYMENT_DURATION','CURRENT_RESIDENCE_DURATION','INSTALLMENT_PERCENT','ALLOW']]\n",
    "df"
   ]
  },
  {
   "cell_type": "markdown",
   "metadata": {},
   "source": [
    "### Análise de Outliers\n",
    "\n",
    "Outra etapa importante da análise de dados é a de identificar possível valores extremos ou anomalias na nossa base de dados, pois esses valores podem comprometer o nosso modelo. "
   ]
  },
  {
   "cell_type": "markdown",
   "metadata": {},
   "source": [
    "#### Verificando a distribuição das variáveis do conjunto de dados"
   ]
  },
  {
   "cell_type": "code",
   "execution_count": 107,
   "metadata": {},
   "outputs": [
    {
     "data": {
      "image/png": "[encoded data removed]",
      "text/plain": [
       "<Figure size 1152x360 with 3 Axes>"
      ]
     },
     "metadata": {},
     "output_type": "display_data"
    }
   ],
   "source": [
    "plt.figure(figsize=(16,5))\n",
    "plt.subplot(1,3,1)\n",
    "sns.distplot(df['AGE'])\n",
    "plt.subplot(1,3,2)\n",
    "sns.distplot(df['LOAN_AMOUNT'])\n",
    "plt.subplot(1,3,3)\n",
    "sns.distplot(df['PAYMENT_TERM'])\n",
    "plt.show()"
   ]
  },
  {
   "cell_type": "code",
   "execution_count": 108,
   "metadata": {},
   "outputs": [
    {
     "data": {
      "text/plain": [
       "<AxesSubplot:xlabel='INSTALLMENT_PERCENT', ylabel='Density'>"
      ]
     },
     "execution_count": 108,
     "metadata": {},
     "output_type": "execute_result"
    },
    {
     "data": {
      "image/png": "[encoded data removed]",
      "text/plain": [
       "<Figure size 1152x360 with 3 Axes>"
      ]
     },
     "metadata": {},
     "output_type": "display_data"
    }
   ],
   "source": [
    "plt.figure(figsize=(16,5))\n",
    "plt.subplot(1,3,1)\n",
    "sns.distplot(df['EMPLOYMENT_DURATION'])\n",
    "plt.subplot(1,3,2)\n",
    "sns.distplot(df['CURRENT_RESIDENCE_DURATION'])\n",
    "plt.subplot(1,3,3)\n",
    "sns.distplot(df['INSTALLMENT_PERCENT'])"
   ]
  },
  {
   "cell_type": "markdown",
   "metadata": {},
   "source": [
    "Observando os gráficos de distribuição por variável é possível notar que elas não seguem a distribuição normal. Dessa forma a técnica que será utilizada para detectar outliers não poderá ser baseada na Z-Score. Como alternativa utiliza-se uma técnica baseada no IQR ou, em outras palavras, a amplitude interquartil."
   ]
  },
  {
   "cell_type": "markdown",
   "metadata": {},
   "source": [
    "### Boxplot das variáveis"
   ]
  },
  {
   "cell_type": "code",
   "execution_count": 138,
   "metadata": {},
   "outputs": [
    {
     "data": {
      "text/plain": [
       "<AxesSubplot:xlabel='PAYMENT_TERM'>"
      ]
     },
     "execution_count": 138,
     "metadata": {},
     "output_type": "execute_result"
    },
    {
     "data": {
      "image/png": "[encoded data removed]",
      "text/plain": [
       "<Figure size 1152x360 with 3 Axes>"
      ]
     },
     "metadata": {},
     "output_type": "display_data"
    }
   ],
   "source": [
    "plt.figure(figsize=(16,5))\n",
    "plt.subplot(1,3,1)\n",
    "sns.boxplot(df['AGE'])\n",
    "plt.subplot(1,3,2)\n",
    "sns.boxplot(df['LOAN_AMOUNT'])\n",
    "plt.subplot(1,3,3)\n",
    "sns.boxplot(df['PAYMENT_TERM'])"
   ]
  },
  {
   "cell_type": "code",
   "execution_count": 141,
   "metadata": {},
   "outputs": [
    {
     "data": {
      "text/plain": [
       "<AxesSubplot:xlabel='INSTALLMENT_PERCENT'>"
      ]
     },
     "execution_count": 141,
     "metadata": {},
     "output_type": "execute_result"
    },
    {
     "data": {
      "image/png": "[encoded data removed]",
      "text/plain": [
       "<Figure size 1152x360 with 3 Axes>"
      ]
     },
     "metadata": {},
     "output_type": "display_data"
    }
   ],
   "source": [
    "plt.figure(figsize=(16,5))\n",
    "plt.subplot(1,3,1)\n",
    "sns.boxplot(df['EMPLOYMENT_DURATION'])\n",
    "plt.subplot(1,3,2)\n",
    "sns.boxplot(df['CURRENT_RESIDENCE_DURATION'])\n",
    "plt.subplot(1,3,3)\n",
    "sns.boxplot(df['INSTALLMENT_PERCENT'])"
   ]
  },
  {
   "cell_type": "markdown",
   "metadata": {},
   "source": [
    "Observe que nem todas as variáveis tem indícios de presença de outliers. Nesse caso, aplicaremos a técnica de remoção de outliers apenas nas variáveis 'AGE', 'LOAN_AMOUNT', 'PAYMENT_TERM' e 'EMPLOYMENT_DURATION'. \n",
    "\n",
    "Obs.: Para avaliar melhor o impacto que a remoção de outliers proporciona, será realizado análise individual por variável."
   ]
  },
  {
   "cell_type": "code",
   "execution_count": 144,
   "metadata": {},
   "outputs": [
    {
     "data": {
      "text/html": [
       "<div>\n",
       "<style scoped>\n",
       "    .dataframe tbody tr th:only-of-type {\n",
       "        vertical-align: middle;\n",
       "    }\n",
       "\n",
       "    .dataframe tbody tr th {\n",
       "        vertical-align: top;\n",
       "    }\n",
       "\n",
       "    .dataframe thead th {\n",
       "        text-align: right;\n",
       "    }\n",
       "</style>\n",
       "<table border=\"1\" class=\"dataframe\">\n",
       "  <thead>\n",
       "    <tr style=\"text-align: right;\">\n",
       "      <th></th>\n",
       "      <th>AGE</th>\n",
       "      <th>LOAN_AMOUNT</th>\n",
       "      <th>PAYMENT_TERM</th>\n",
       "      <th>EMPLOYMENT_DURATION</th>\n",
       "      <th>CURRENT_RESIDENCE_DURATION</th>\n",
       "      <th>INSTALLMENT_PERCENT</th>\n",
       "      <th>ALLOW</th>\n",
       "    </tr>\n",
       "  </thead>\n",
       "  <tbody>\n",
       "    <tr>\n",
       "      <th>0</th>\n",
       "      <td>24.0</td>\n",
       "      <td>3503.0</td>\n",
       "      <td>310.0</td>\n",
       "      <td>0.0</td>\n",
       "      <td>2.0</td>\n",
       "      <td>2.0</td>\n",
       "      <td>1</td>\n",
       "    </tr>\n",
       "    <tr>\n",
       "      <th>1</th>\n",
       "      <td>30.0</td>\n",
       "      <td>3729.0</td>\n",
       "      <td>630.0</td>\n",
       "      <td>5.0</td>\n",
       "      <td>1.0</td>\n",
       "      <td>3.0</td>\n",
       "      <td>1</td>\n",
       "    </tr>\n",
       "    <tr>\n",
       "      <th>2</th>\n",
       "      <td>40.0</td>\n",
       "      <td>8516.0</td>\n",
       "      <td>868.0</td>\n",
       "      <td>4.0</td>\n",
       "      <td>4.0</td>\n",
       "      <td>3.0</td>\n",
       "      <td>0</td>\n",
       "    </tr>\n",
       "    <tr>\n",
       "      <th>3</th>\n",
       "      <td>28.0</td>\n",
       "      <td>2577.0</td>\n",
       "      <td>403.0</td>\n",
       "      <td>0.0</td>\n",
       "      <td>3.0</td>\n",
       "      <td>3.0</td>\n",
       "      <td>1</td>\n",
       "    </tr>\n",
       "    <tr>\n",
       "      <th>4</th>\n",
       "      <td>19.0</td>\n",
       "      <td>3750.0</td>\n",
       "      <td>810.0</td>\n",
       "      <td>3.0</td>\n",
       "      <td>3.0</td>\n",
       "      <td>4.0</td>\n",
       "      <td>1</td>\n",
       "    </tr>\n",
       "    <tr>\n",
       "      <th>...</th>\n",
       "      <td>...</td>\n",
       "      <td>...</td>\n",
       "      <td>...</td>\n",
       "      <td>...</td>\n",
       "      <td>...</td>\n",
       "      <td>...</td>\n",
       "      <td>...</td>\n",
       "    </tr>\n",
       "    <tr>\n",
       "      <th>2472</th>\n",
       "      <td>41.0</td>\n",
       "      <td>3007.0</td>\n",
       "      <td>450.0</td>\n",
       "      <td>7.0</td>\n",
       "      <td>3.0</td>\n",
       "      <td>3.0</td>\n",
       "      <td>0</td>\n",
       "    </tr>\n",
       "    <tr>\n",
       "      <th>2473</th>\n",
       "      <td>46.0</td>\n",
       "      <td>4191.0</td>\n",
       "      <td>510.0</td>\n",
       "      <td>11.0</td>\n",
       "      <td>3.0</td>\n",
       "      <td>4.0</td>\n",
       "      <td>1</td>\n",
       "    </tr>\n",
       "    <tr>\n",
       "      <th>2474</th>\n",
       "      <td>28.0</td>\n",
       "      <td>250.0</td>\n",
       "      <td>124.0</td>\n",
       "      <td>7.0</td>\n",
       "      <td>1.0</td>\n",
       "      <td>1.0</td>\n",
       "      <td>1</td>\n",
       "    </tr>\n",
       "    <tr>\n",
       "      <th>2475</th>\n",
       "      <td>46.0</td>\n",
       "      <td>5172.0</td>\n",
       "      <td>961.0</td>\n",
       "      <td>7.0</td>\n",
       "      <td>3.0</td>\n",
       "      <td>3.0</td>\n",
       "      <td>1</td>\n",
       "    </tr>\n",
       "    <tr>\n",
       "      <th>2476</th>\n",
       "      <td>40.0</td>\n",
       "      <td>6063.0</td>\n",
       "      <td>1020.0</td>\n",
       "      <td>3.0</td>\n",
       "      <td>5.0</td>\n",
       "      <td>4.0</td>\n",
       "      <td>1</td>\n",
       "    </tr>\n",
       "  </tbody>\n",
       "</table>\n",
       "<p>2473 rows × 7 columns</p>\n",
       "</div>"
      ],
      "text/plain": [
       "       AGE  LOAN_AMOUNT  PAYMENT_TERM  EMPLOYMENT_DURATION  \\\n",
       "0     24.0       3503.0         310.0                  0.0   \n",
       "1     30.0       3729.0         630.0                  5.0   \n",
       "2     40.0       8516.0         868.0                  4.0   \n",
       "3     28.0       2577.0         403.0                  0.0   \n",
       "4     19.0       3750.0         810.0                  3.0   \n",
       "...    ...          ...           ...                  ...   \n",
       "2472  41.0       3007.0         450.0                  7.0   \n",
       "2473  46.0       4191.0         510.0                 11.0   \n",
       "2474  28.0        250.0         124.0                  7.0   \n",
       "2475  46.0       5172.0         961.0                  7.0   \n",
       "2476  40.0       6063.0        1020.0                  3.0   \n",
       "\n",
       "      CURRENT_RESIDENCE_DURATION  INSTALLMENT_PERCENT  ALLOW  \n",
       "0                            2.0                  2.0      1  \n",
       "1                            1.0                  3.0      1  \n",
       "2                            4.0                  3.0      0  \n",
       "3                            3.0                  3.0      1  \n",
       "4                            3.0                  4.0      1  \n",
       "...                          ...                  ...    ...  \n",
       "2472                         3.0                  3.0      0  \n",
       "2473                         3.0                  4.0      1  \n",
       "2474                         1.0                  1.0      1  \n",
       "2475                         3.0                  3.0      1  \n",
       "2476                         5.0                  4.0      1  \n",
       "\n",
       "[2473 rows x 7 columns]"
      ]
     },
     "execution_count": 144,
     "metadata": {},
     "output_type": "execute_result"
    }
   ],
   "source": [
    "# aplica IQR a variável 'AGE'\n",
    "percentil25 = df['AGE'].quantile(0.25)\n",
    "percentil75 = df['AGE'].quantile(0.75)\n",
    "        \n",
    "upper_limit = percentil75 + 1.5 * (percentil75-percentil25)\n",
    "lower_limit = percentil25 - 1.5 * (percentil75-percentil25)\n",
    "\n",
    "df[df['AGE'] > upper_limit]\n",
    "df[df['AGE'] < lower_limit]\n",
    "\n",
    "df = df[df['AGE'] < upper_limit]\n",
    "df"
   ]
  },
  {
   "cell_type": "code",
   "execution_count": 146,
   "metadata": {},
   "outputs": [
    {
     "data": {
      "text/html": [
       "<div>\n",
       "<style scoped>\n",
       "    .dataframe tbody tr th:only-of-type {\n",
       "        vertical-align: middle;\n",
       "    }\n",
       "\n",
       "    .dataframe tbody tr th {\n",
       "        vertical-align: top;\n",
       "    }\n",
       "\n",
       "    .dataframe thead th {\n",
       "        text-align: right;\n",
       "    }\n",
       "</style>\n",
       "<table border=\"1\" class=\"dataframe\">\n",
       "  <thead>\n",
       "    <tr style=\"text-align: right;\">\n",
       "      <th></th>\n",
       "      <th>AGE</th>\n",
       "      <th>LOAN_AMOUNT</th>\n",
       "      <th>PAYMENT_TERM</th>\n",
       "      <th>EMPLOYMENT_DURATION</th>\n",
       "      <th>CURRENT_RESIDENCE_DURATION</th>\n",
       "      <th>INSTALLMENT_PERCENT</th>\n",
       "      <th>ALLOW</th>\n",
       "    </tr>\n",
       "  </thead>\n",
       "  <tbody>\n",
       "    <tr>\n",
       "      <th>0</th>\n",
       "      <td>24.0</td>\n",
       "      <td>3503.0</td>\n",
       "      <td>310.0</td>\n",
       "      <td>0.0</td>\n",
       "      <td>2.0</td>\n",
       "      <td>2.0</td>\n",
       "      <td>1</td>\n",
       "    </tr>\n",
       "    <tr>\n",
       "      <th>1</th>\n",
       "      <td>30.0</td>\n",
       "      <td>3729.0</td>\n",
       "      <td>630.0</td>\n",
       "      <td>5.0</td>\n",
       "      <td>1.0</td>\n",
       "      <td>3.0</td>\n",
       "      <td>1</td>\n",
       "    </tr>\n",
       "    <tr>\n",
       "      <th>2</th>\n",
       "      <td>40.0</td>\n",
       "      <td>8516.0</td>\n",
       "      <td>868.0</td>\n",
       "      <td>4.0</td>\n",
       "      <td>4.0</td>\n",
       "      <td>3.0</td>\n",
       "      <td>0</td>\n",
       "    </tr>\n",
       "    <tr>\n",
       "      <th>3</th>\n",
       "      <td>28.0</td>\n",
       "      <td>2577.0</td>\n",
       "      <td>403.0</td>\n",
       "      <td>0.0</td>\n",
       "      <td>3.0</td>\n",
       "      <td>3.0</td>\n",
       "      <td>1</td>\n",
       "    </tr>\n",
       "    <tr>\n",
       "      <th>4</th>\n",
       "      <td>19.0</td>\n",
       "      <td>3750.0</td>\n",
       "      <td>810.0</td>\n",
       "      <td>3.0</td>\n",
       "      <td>3.0</td>\n",
       "      <td>4.0</td>\n",
       "      <td>1</td>\n",
       "    </tr>\n",
       "    <tr>\n",
       "      <th>...</th>\n",
       "      <td>...</td>\n",
       "      <td>...</td>\n",
       "      <td>...</td>\n",
       "      <td>...</td>\n",
       "      <td>...</td>\n",
       "      <td>...</td>\n",
       "      <td>...</td>\n",
       "    </tr>\n",
       "    <tr>\n",
       "      <th>2472</th>\n",
       "      <td>41.0</td>\n",
       "      <td>3007.0</td>\n",
       "      <td>450.0</td>\n",
       "      <td>7.0</td>\n",
       "      <td>3.0</td>\n",
       "      <td>3.0</td>\n",
       "      <td>0</td>\n",
       "    </tr>\n",
       "    <tr>\n",
       "      <th>2473</th>\n",
       "      <td>46.0</td>\n",
       "      <td>4191.0</td>\n",
       "      <td>510.0</td>\n",
       "      <td>11.0</td>\n",
       "      <td>3.0</td>\n",
       "      <td>4.0</td>\n",
       "      <td>1</td>\n",
       "    </tr>\n",
       "    <tr>\n",
       "      <th>2474</th>\n",
       "      <td>28.0</td>\n",
       "      <td>250.0</td>\n",
       "      <td>124.0</td>\n",
       "      <td>7.0</td>\n",
       "      <td>1.0</td>\n",
       "      <td>1.0</td>\n",
       "      <td>1</td>\n",
       "    </tr>\n",
       "    <tr>\n",
       "      <th>2475</th>\n",
       "      <td>46.0</td>\n",
       "      <td>5172.0</td>\n",
       "      <td>961.0</td>\n",
       "      <td>7.0</td>\n",
       "      <td>3.0</td>\n",
       "      <td>3.0</td>\n",
       "      <td>1</td>\n",
       "    </tr>\n",
       "    <tr>\n",
       "      <th>2476</th>\n",
       "      <td>40.0</td>\n",
       "      <td>6063.0</td>\n",
       "      <td>1020.0</td>\n",
       "      <td>3.0</td>\n",
       "      <td>5.0</td>\n",
       "      <td>4.0</td>\n",
       "      <td>1</td>\n",
       "    </tr>\n",
       "  </tbody>\n",
       "</table>\n",
       "<p>2470 rows × 7 columns</p>\n",
       "</div>"
      ],
      "text/plain": [
       "       AGE  LOAN_AMOUNT  PAYMENT_TERM  EMPLOYMENT_DURATION  \\\n",
       "0     24.0       3503.0         310.0                  0.0   \n",
       "1     30.0       3729.0         630.0                  5.0   \n",
       "2     40.0       8516.0         868.0                  4.0   \n",
       "3     28.0       2577.0         403.0                  0.0   \n",
       "4     19.0       3750.0         810.0                  3.0   \n",
       "...    ...          ...           ...                  ...   \n",
       "2472  41.0       3007.0         450.0                  7.0   \n",
       "2473  46.0       4191.0         510.0                 11.0   \n",
       "2474  28.0        250.0         124.0                  7.0   \n",
       "2475  46.0       5172.0         961.0                  7.0   \n",
       "2476  40.0       6063.0        1020.0                  3.0   \n",
       "\n",
       "      CURRENT_RESIDENCE_DURATION  INSTALLMENT_PERCENT  ALLOW  \n",
       "0                            2.0                  2.0      1  \n",
       "1                            1.0                  3.0      1  \n",
       "2                            4.0                  3.0      0  \n",
       "3                            3.0                  3.0      1  \n",
       "4                            3.0                  4.0      1  \n",
       "...                          ...                  ...    ...  \n",
       "2472                         3.0                  3.0      0  \n",
       "2473                         3.0                  4.0      1  \n",
       "2474                         1.0                  1.0      1  \n",
       "2475                         3.0                  3.0      1  \n",
       "2476                         5.0                  4.0      1  \n",
       "\n",
       "[2470 rows x 7 columns]"
      ]
     },
     "execution_count": 146,
     "metadata": {},
     "output_type": "execute_result"
    }
   ],
   "source": [
    "# aplica IQR a variável 'LOAN_AMOUNT'\n",
    "\n",
    "percentil25 = df['LOAN_AMOUNT'].quantile(0.25)\n",
    "percentil75 = df['LOAN_AMOUNT'].quantile(0.75)\n",
    "        \n",
    "upper_limit = percentil75 + 1.5 * (percentil75-percentil25)\n",
    "lower_limit = percentil25 - 1.5 * (percentil75-percentil25)\n",
    "\n",
    "df[df['LOAN_AMOUNT'] > upper_limit]\n",
    "df[df['LOAN_AMOUNT'] < lower_limit]\n",
    "\n",
    "df = df[df['LOAN_AMOUNT'] < upper_limit]\n",
    "df"
   ]
  },
  {
   "cell_type": "code",
   "execution_count": 147,
   "metadata": {},
   "outputs": [
    {
     "data": {
      "text/html": [
       "<div>\n",
       "<style scoped>\n",
       "    .dataframe tbody tr th:only-of-type {\n",
       "        vertical-align: middle;\n",
       "    }\n",
       "\n",
       "    .dataframe tbody tr th {\n",
       "        vertical-align: top;\n",
       "    }\n",
       "\n",
       "    .dataframe thead th {\n",
       "        text-align: right;\n",
       "    }\n",
       "</style>\n",
       "<table border=\"1\" class=\"dataframe\">\n",
       "  <thead>\n",
       "    <tr style=\"text-align: right;\">\n",
       "      <th></th>\n",
       "      <th>AGE</th>\n",
       "      <th>LOAN_AMOUNT</th>\n",
       "      <th>PAYMENT_TERM</th>\n",
       "      <th>EMPLOYMENT_DURATION</th>\n",
       "      <th>CURRENT_RESIDENCE_DURATION</th>\n",
       "      <th>INSTALLMENT_PERCENT</th>\n",
       "      <th>ALLOW</th>\n",
       "    </tr>\n",
       "  </thead>\n",
       "  <tbody>\n",
       "    <tr>\n",
       "      <th>0</th>\n",
       "      <td>24.0</td>\n",
       "      <td>3503.0</td>\n",
       "      <td>310.0</td>\n",
       "      <td>0.0</td>\n",
       "      <td>2.0</td>\n",
       "      <td>2.0</td>\n",
       "      <td>1</td>\n",
       "    </tr>\n",
       "    <tr>\n",
       "      <th>1</th>\n",
       "      <td>30.0</td>\n",
       "      <td>3729.0</td>\n",
       "      <td>630.0</td>\n",
       "      <td>5.0</td>\n",
       "      <td>1.0</td>\n",
       "      <td>3.0</td>\n",
       "      <td>1</td>\n",
       "    </tr>\n",
       "    <tr>\n",
       "      <th>2</th>\n",
       "      <td>40.0</td>\n",
       "      <td>8516.0</td>\n",
       "      <td>868.0</td>\n",
       "      <td>4.0</td>\n",
       "      <td>4.0</td>\n",
       "      <td>3.0</td>\n",
       "      <td>0</td>\n",
       "    </tr>\n",
       "    <tr>\n",
       "      <th>3</th>\n",
       "      <td>28.0</td>\n",
       "      <td>2577.0</td>\n",
       "      <td>403.0</td>\n",
       "      <td>0.0</td>\n",
       "      <td>3.0</td>\n",
       "      <td>3.0</td>\n",
       "      <td>1</td>\n",
       "    </tr>\n",
       "    <tr>\n",
       "      <th>4</th>\n",
       "      <td>19.0</td>\n",
       "      <td>3750.0</td>\n",
       "      <td>810.0</td>\n",
       "      <td>3.0</td>\n",
       "      <td>3.0</td>\n",
       "      <td>4.0</td>\n",
       "      <td>1</td>\n",
       "    </tr>\n",
       "    <tr>\n",
       "      <th>...</th>\n",
       "      <td>...</td>\n",
       "      <td>...</td>\n",
       "      <td>...</td>\n",
       "      <td>...</td>\n",
       "      <td>...</td>\n",
       "      <td>...</td>\n",
       "      <td>...</td>\n",
       "    </tr>\n",
       "    <tr>\n",
       "      <th>2472</th>\n",
       "      <td>41.0</td>\n",
       "      <td>3007.0</td>\n",
       "      <td>450.0</td>\n",
       "      <td>7.0</td>\n",
       "      <td>3.0</td>\n",
       "      <td>3.0</td>\n",
       "      <td>0</td>\n",
       "    </tr>\n",
       "    <tr>\n",
       "      <th>2473</th>\n",
       "      <td>46.0</td>\n",
       "      <td>4191.0</td>\n",
       "      <td>510.0</td>\n",
       "      <td>11.0</td>\n",
       "      <td>3.0</td>\n",
       "      <td>4.0</td>\n",
       "      <td>1</td>\n",
       "    </tr>\n",
       "    <tr>\n",
       "      <th>2474</th>\n",
       "      <td>28.0</td>\n",
       "      <td>250.0</td>\n",
       "      <td>124.0</td>\n",
       "      <td>7.0</td>\n",
       "      <td>1.0</td>\n",
       "      <td>1.0</td>\n",
       "      <td>1</td>\n",
       "    </tr>\n",
       "    <tr>\n",
       "      <th>2475</th>\n",
       "      <td>46.0</td>\n",
       "      <td>5172.0</td>\n",
       "      <td>961.0</td>\n",
       "      <td>7.0</td>\n",
       "      <td>3.0</td>\n",
       "      <td>3.0</td>\n",
       "      <td>1</td>\n",
       "    </tr>\n",
       "    <tr>\n",
       "      <th>2476</th>\n",
       "      <td>40.0</td>\n",
       "      <td>6063.0</td>\n",
       "      <td>1020.0</td>\n",
       "      <td>3.0</td>\n",
       "      <td>5.0</td>\n",
       "      <td>4.0</td>\n",
       "      <td>1</td>\n",
       "    </tr>\n",
       "  </tbody>\n",
       "</table>\n",
       "<p>2466 rows × 7 columns</p>\n",
       "</div>"
      ],
      "text/plain": [
       "       AGE  LOAN_AMOUNT  PAYMENT_TERM  EMPLOYMENT_DURATION  \\\n",
       "0     24.0       3503.0         310.0                  0.0   \n",
       "1     30.0       3729.0         630.0                  5.0   \n",
       "2     40.0       8516.0         868.0                  4.0   \n",
       "3     28.0       2577.0         403.0                  0.0   \n",
       "4     19.0       3750.0         810.0                  3.0   \n",
       "...    ...          ...           ...                  ...   \n",
       "2472  41.0       3007.0         450.0                  7.0   \n",
       "2473  46.0       4191.0         510.0                 11.0   \n",
       "2474  28.0        250.0         124.0                  7.0   \n",
       "2475  46.0       5172.0         961.0                  7.0   \n",
       "2476  40.0       6063.0        1020.0                  3.0   \n",
       "\n",
       "      CURRENT_RESIDENCE_DURATION  INSTALLMENT_PERCENT  ALLOW  \n",
       "0                            2.0                  2.0      1  \n",
       "1                            1.0                  3.0      1  \n",
       "2                            4.0                  3.0      0  \n",
       "3                            3.0                  3.0      1  \n",
       "4                            3.0                  4.0      1  \n",
       "...                          ...                  ...    ...  \n",
       "2472                         3.0                  3.0      0  \n",
       "2473                         3.0                  4.0      1  \n",
       "2474                         1.0                  1.0      1  \n",
       "2475                         3.0                  3.0      1  \n",
       "2476                         5.0                  4.0      1  \n",
       "\n",
       "[2466 rows x 7 columns]"
      ]
     },
     "execution_count": 147,
     "metadata": {},
     "output_type": "execute_result"
    }
   ],
   "source": [
    "# aplica IQR a variável 'PAYMENT_TERM'\n",
    "\n",
    "percentil25 = df['PAYMENT_TERM'].quantile(0.25)\n",
    "percentil75 = df['PAYMENT_TERM'].quantile(0.75)\n",
    "        \n",
    "upper_limit = percentil75 + 1.5 * (percentil75-percentil25)\n",
    "lower_limit = percentil25 - 1.5 * (percentil75-percentil25)\n",
    "\n",
    "df[df['PAYMENT_TERM'] > upper_limit]\n",
    "df[df['PAYMENT_TERM'] < lower_limit]\n",
    "\n",
    "df = df[df['PAYMENT_TERM'] < upper_limit]\n",
    "df"
   ]
  },
  {
   "cell_type": "code",
   "execution_count": 148,
   "metadata": {},
   "outputs": [
    {
     "data": {
      "text/html": [
       "<div>\n",
       "<style scoped>\n",
       "    .dataframe tbody tr th:only-of-type {\n",
       "        vertical-align: middle;\n",
       "    }\n",
       "\n",
       "    .dataframe tbody tr th {\n",
       "        vertical-align: top;\n",
       "    }\n",
       "\n",
       "    .dataframe thead th {\n",
       "        text-align: right;\n",
       "    }\n",
       "</style>\n",
       "<table border=\"1\" class=\"dataframe\">\n",
       "  <thead>\n",
       "    <tr style=\"text-align: right;\">\n",
       "      <th></th>\n",
       "      <th>AGE</th>\n",
       "      <th>LOAN_AMOUNT</th>\n",
       "      <th>PAYMENT_TERM</th>\n",
       "      <th>EMPLOYMENT_DURATION</th>\n",
       "      <th>CURRENT_RESIDENCE_DURATION</th>\n",
       "      <th>INSTALLMENT_PERCENT</th>\n",
       "      <th>ALLOW</th>\n",
       "    </tr>\n",
       "  </thead>\n",
       "  <tbody>\n",
       "    <tr>\n",
       "      <th>0</th>\n",
       "      <td>24.0</td>\n",
       "      <td>3503.0</td>\n",
       "      <td>310.0</td>\n",
       "      <td>0.0</td>\n",
       "      <td>2.0</td>\n",
       "      <td>2.0</td>\n",
       "      <td>1</td>\n",
       "    </tr>\n",
       "    <tr>\n",
       "      <th>1</th>\n",
       "      <td>30.0</td>\n",
       "      <td>3729.0</td>\n",
       "      <td>630.0</td>\n",
       "      <td>5.0</td>\n",
       "      <td>1.0</td>\n",
       "      <td>3.0</td>\n",
       "      <td>1</td>\n",
       "    </tr>\n",
       "    <tr>\n",
       "      <th>2</th>\n",
       "      <td>40.0</td>\n",
       "      <td>8516.0</td>\n",
       "      <td>868.0</td>\n",
       "      <td>4.0</td>\n",
       "      <td>4.0</td>\n",
       "      <td>3.0</td>\n",
       "      <td>0</td>\n",
       "    </tr>\n",
       "    <tr>\n",
       "      <th>3</th>\n",
       "      <td>28.0</td>\n",
       "      <td>2577.0</td>\n",
       "      <td>403.0</td>\n",
       "      <td>0.0</td>\n",
       "      <td>3.0</td>\n",
       "      <td>3.0</td>\n",
       "      <td>1</td>\n",
       "    </tr>\n",
       "    <tr>\n",
       "      <th>4</th>\n",
       "      <td>19.0</td>\n",
       "      <td>3750.0</td>\n",
       "      <td>810.0</td>\n",
       "      <td>3.0</td>\n",
       "      <td>3.0</td>\n",
       "      <td>4.0</td>\n",
       "      <td>1</td>\n",
       "    </tr>\n",
       "    <tr>\n",
       "      <th>...</th>\n",
       "      <td>...</td>\n",
       "      <td>...</td>\n",
       "      <td>...</td>\n",
       "      <td>...</td>\n",
       "      <td>...</td>\n",
       "      <td>...</td>\n",
       "      <td>...</td>\n",
       "    </tr>\n",
       "    <tr>\n",
       "      <th>2472</th>\n",
       "      <td>41.0</td>\n",
       "      <td>3007.0</td>\n",
       "      <td>450.0</td>\n",
       "      <td>7.0</td>\n",
       "      <td>3.0</td>\n",
       "      <td>3.0</td>\n",
       "      <td>0</td>\n",
       "    </tr>\n",
       "    <tr>\n",
       "      <th>2473</th>\n",
       "      <td>46.0</td>\n",
       "      <td>4191.0</td>\n",
       "      <td>510.0</td>\n",
       "      <td>11.0</td>\n",
       "      <td>3.0</td>\n",
       "      <td>4.0</td>\n",
       "      <td>1</td>\n",
       "    </tr>\n",
       "    <tr>\n",
       "      <th>2474</th>\n",
       "      <td>28.0</td>\n",
       "      <td>250.0</td>\n",
       "      <td>124.0</td>\n",
       "      <td>7.0</td>\n",
       "      <td>1.0</td>\n",
       "      <td>1.0</td>\n",
       "      <td>1</td>\n",
       "    </tr>\n",
       "    <tr>\n",
       "      <th>2475</th>\n",
       "      <td>46.0</td>\n",
       "      <td>5172.0</td>\n",
       "      <td>961.0</td>\n",
       "      <td>7.0</td>\n",
       "      <td>3.0</td>\n",
       "      <td>3.0</td>\n",
       "      <td>1</td>\n",
       "    </tr>\n",
       "    <tr>\n",
       "      <th>2476</th>\n",
       "      <td>40.0</td>\n",
       "      <td>6063.0</td>\n",
       "      <td>1020.0</td>\n",
       "      <td>3.0</td>\n",
       "      <td>5.0</td>\n",
       "      <td>4.0</td>\n",
       "      <td>1</td>\n",
       "    </tr>\n",
       "  </tbody>\n",
       "</table>\n",
       "<p>2466 rows × 7 columns</p>\n",
       "</div>"
      ],
      "text/plain": [
       "       AGE  LOAN_AMOUNT  PAYMENT_TERM  EMPLOYMENT_DURATION  \\\n",
       "0     24.0       3503.0         310.0                  0.0   \n",
       "1     30.0       3729.0         630.0                  5.0   \n",
       "2     40.0       8516.0         868.0                  4.0   \n",
       "3     28.0       2577.0         403.0                  0.0   \n",
       "4     19.0       3750.0         810.0                  3.0   \n",
       "...    ...          ...           ...                  ...   \n",
       "2472  41.0       3007.0         450.0                  7.0   \n",
       "2473  46.0       4191.0         510.0                 11.0   \n",
       "2474  28.0        250.0         124.0                  7.0   \n",
       "2475  46.0       5172.0         961.0                  7.0   \n",
       "2476  40.0       6063.0        1020.0                  3.0   \n",
       "\n",
       "      CURRENT_RESIDENCE_DURATION  INSTALLMENT_PERCENT  ALLOW  \n",
       "0                            2.0                  2.0      1  \n",
       "1                            1.0                  3.0      1  \n",
       "2                            4.0                  3.0      0  \n",
       "3                            3.0                  3.0      1  \n",
       "4                            3.0                  4.0      1  \n",
       "...                          ...                  ...    ...  \n",
       "2472                         3.0                  3.0      0  \n",
       "2473                         3.0                  4.0      1  \n",
       "2474                         1.0                  1.0      1  \n",
       "2475                         3.0                  3.0      1  \n",
       "2476                         5.0                  4.0      1  \n",
       "\n",
       "[2466 rows x 7 columns]"
      ]
     },
     "execution_count": 148,
     "metadata": {},
     "output_type": "execute_result"
    }
   ],
   "source": [
    "# aplica IQR a variável 'EMPLOYMENT_DURATION'\n",
    "\n",
    "percentil25 = df['PAYMENT_TERM'].quantile(0.25)\n",
    "percentil75 = df['PAYMENT_TERM'].quantile(0.75)\n",
    "        \n",
    "upper_limit = percentil75 + 1.5 * (percentil75-percentil25)\n",
    "lower_limit = percentil25 - 1.5 * (percentil75-percentil25)\n",
    "\n",
    "df[df['PAYMENT_TERM'] > upper_limit]\n",
    "df[df['PAYMENT_TERM'] < lower_limit]\n",
    "\n",
    "df = df[df['PAYMENT_TERM'] < upper_limit]\n",
    "df"
   ]
  },
  {
   "cell_type": "markdown",
   "metadata": {},
   "source": [
    "##### Removemos um total de 11 outliers, esse valor pode parecer baixo, entretanto, em casos de grandes volumes de dados não tratar esses dados pode dificultar o modo como os seus futuros modelos de aprendizado de máquina aprenderão."
   ]
  },
  {
   "cell_type": "markdown",
   "metadata": {},
   "source": [
    "# Fase 2: Treino, Teste e Aplicação do Algoritmo de Random Forest"
   ]
  },
  {
   "cell_type": "code",
   "execution_count": 290,
   "metadata": {},
   "outputs": [],
   "source": [
    "train, test = train_test_split(df, train_size=0.80) # dividimos o dataset em treino (70%) e teste (30%)"
   ]
  },
  {
   "cell_type": "code",
   "execution_count": 291,
   "metadata": {},
   "outputs": [],
   "source": [
    "X_train = train.drop('ALLOW', axis=1)\n",
    "X_val = test.drop('ALLOW', axis=1)\n",
    "\n",
    "y_train = train['ALLOW']\n",
    "y_val = test['ALLOW']"
   ]
  },
  {
   "cell_type": "code",
   "execution_count": 292,
   "metadata": {},
   "outputs": [
    {
     "data": {
      "text/plain": [
       "RandomForestRegressor(n_jobs=8, random_state=22)"
      ]
     },
     "execution_count": 292,
     "metadata": {},
     "output_type": "execute_result"
    }
   ],
   "source": [
    "mdl = RandomForestRegressor(n_jobs=8, n_estimators=100, random_state=22)\n",
    "mdl.fit(X_train, y_train)"
   ]
  },
  {
   "cell_type": "code",
   "execution_count": 293,
   "metadata": {},
   "outputs": [],
   "source": [
    "p_ohe = mdl.predict(X_val)"
   ]
  },
  {
   "cell_type": "code",
   "execution_count": 294,
   "metadata": {},
   "outputs": [
    {
     "data": {
      "text/plain": [
       "0.3111241565452092"
      ]
     },
     "execution_count": 294,
     "metadata": {},
     "output_type": "execute_result"
    }
   ],
   "source": [
    "mean_absolute_error(y_val, p_ohe)"
   ]
  },
  {
   "cell_type": "code",
   "execution_count": 295,
   "metadata": {},
   "outputs": [],
   "source": [
    "from sklearn.metrics import r2_score"
   ]
  },
  {
   "cell_type": "code",
   "execution_count": 296,
   "metadata": {},
   "outputs": [
    {
     "data": {
      "text/plain": [
       "0.26512435721748784"
      ]
     },
     "execution_count": 296,
     "metadata": {},
     "output_type": "execute_result"
    }
   ],
   "source": [
    "r2_score(y_val, p_ohe)"
   ]
  },
  {
   "cell_type": "markdown",
   "metadata": {},
   "source": [
    "# Fase 3: Criando função para deploy do modelo"
   ]
  },
  {
   "cell_type": "code",
   "execution_count": null,
   "metadata": {},
   "outputs": [],
   "source": [
    "def credito(dados):\n",
    "    pass"
   ]
  }
 ],
 "metadata": {
  "kernelspec": {
   "display_name": "Python 3",
   "language": "python",
   "name": "python3"
  },
  "language_info": {
   "codemirror_mode": {
    "name": "ipython",
    "version": 3
   },
   "file_extension": ".py",
   "mimetype": "text/x-python",
   "name": "python",
   "nbconvert_exporter": "python",
   "pygments_lexer": "ipython3",
   "version": "3.8.5"
  }
 },
 "nbformat": 4,
 "nbformat_minor": 4
}
