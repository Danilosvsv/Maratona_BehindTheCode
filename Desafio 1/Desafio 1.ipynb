{
 "cells": [
  {
   "cell_type": "code",
   "execution_count": 1,
   "metadata": {},
   "outputs": [],
   "source": [
    "# Caso seja necessário descomente e execute o comando abaixo. \n",
    "# Feito isso, será necessário reiniciar o notebook e executá-lo novamente\n",
    "#pip install --upgrade category_encoders"
   ]
  },
  {
   "cell_type": "code",
   "execution_count": null,
   "metadata": {},
   "outputs": [],
   "source": [
    "import pandas as pd\n",
    "import matplotlib.pyplot as plt\n",
    "import seaborn as sns\n",
    "import sklearn\n",
    "import numpy as np\n",
    "%matplotlib inline\n",
    "from sklearn.ensemble import RandomForestRegressor\n",
    "from category_encoders.one_hot import OneHotEncoder"
   ]
  },
  {
   "cell_type": "markdown",
   "metadata": {},
   "source": [
    "## Carregando os datasets"
   ]
  },
  {
   "cell_type": "code",
   "execution_count": null,
   "metadata": {},
   "outputs": [],
   "source": [
    "df1 = pd.read_csv('ACCOUNTS.csv')\n",
    "df2 = pd.read_csv('DEMOGRAPHICS.csv')\n",
    "df3 = pd.read_csv('LOANS.csv')"
   ]
  },
  {
   "cell_type": "markdown",
   "metadata": {},
   "source": [
    "## Visão Geral\n",
    "\n",
    "Compreender cada informação coletada é essencial para um possível modelo que será gerado. Nesse sentido, gera-se uma análise inicial de cada variável (ou coluna) foi coletada e justifica-se o porque dessa variável não será considerada no modelo ou até mesmo, qual tratamento de dados será utilizado nela."
   ]
  },
  {
   "cell_type": "code",
   "execution_count": null,
   "metadata": {},
   "outputs": [],
   "source": [
    "df1.info()"
   ]
  },
  {
   "cell_type": "markdown",
   "metadata": {},
   "source": [
    "A função <strong>info()</strong> já mostra um resumo geral do comportamento dos dados, apesar de superficial é possível observar que os dados estão desbalanceados, ou seja, será necessário realizar uma análise exploratória individual de cada variável e posteriormente realizar um tratamento e limpeza de informações que não terão impacto no modelo de classificação que se almeja construir."
   ]
  },
  {
   "cell_type": "markdown",
   "metadata": {},
   "source": [
    "## - Análise Inicial de Dados 1 - 'accounts.csv'\n"
   ]
  },
  {
   "cell_type": "code",
   "execution_count": null,
   "metadata": {},
   "outputs": [],
   "source": [
    "df1"
   ]
  },
  {
   "cell_type": "code",
   "execution_count": null,
   "metadata": {},
   "outputs": [],
   "source": [
    "df1.corr() "
   ]
  },
  {
   "cell_type": "code",
   "execution_count": null,
   "metadata": {},
   "outputs": [],
   "source": [
    "df1[df1['CHECKING_BALANCE']=='NO_CHECKING']"
   ]
  },
  {
   "cell_type": "code",
   "execution_count": null,
   "metadata": {},
   "outputs": [],
   "source": [
    "df1[df1['EXISTING_SAVINGS']=='UNKNOWN']"
   ]
  },
  {
   "cell_type": "markdown",
   "metadata": {},
   "source": [
    "### 1) Com relação aos saldo da conta de cada cliente, qual a relação entre verificados e não verificados? "
   ]
  },
  {
   "cell_type": "code",
   "execution_count": null,
   "metadata": {},
   "outputs": [],
   "source": [
    "# Dividi-se o dataset em 2, onde a variável check é compreendida pelas informações numéricas.\n",
    "no_check = len(df1[df1[u'CHECKING_BALANCE'] == 'NO_CHECKING'])\n",
    "check = len(df1[df1[u'CHECKING_BALANCE'] != 'NO_CHECKING'])\n",
    "\n",
    "new_df = {'NO_CHECKING': [no_check], 'CHECKING': [check]}\n",
    "\n",
    "checking_balance = pd.DataFrame(data=new_df)"
   ]
  },
  {
   "cell_type": "code",
   "execution_count": null,
   "metadata": {},
   "outputs": [],
   "source": [
    "sns.set(style=\"darkgrid\")\n",
    "\n",
    "fig = sns.barplot(x=list(checking_balance) ,y=[checking_balance['CHECKING'].iloc[0],checking_balance['NO_CHECKING'].iloc[0]],hue=list(checking_balance))\n",
    "plt.title(\"Relação entre saldos verificados e não verificados\")\n",
    "plt.show(fig)"
   ]
  },
  {
   "cell_type": "markdown",
   "metadata": {},
   "source": [
    "### 2) Quais características estão presentes na coluna 'Histórico de Crédito'?"
   ]
  },
  {
   "cell_type": "code",
   "execution_count": null,
   "metadata": {},
   "outputs": [],
   "source": [
    "df1['CREDIT_HISTORY'].unique()"
   ]
  },
  {
   "cell_type": "markdown",
   "metadata": {},
   "source": [
    "### 3) Qual a relação entre economias conhecidas e desconhecidas dos clientes com o banco?"
   ]
  },
  {
   "cell_type": "code",
   "execution_count": null,
   "metadata": {},
   "outputs": [],
   "source": [
    "# Dividi-se o dataset em 2, onde a variável check é compreendida pelas informações numéricas.\n",
    "exis = len(df1[df1[u'EXISTING_SAVINGS'] != 'UNKNOWN'])\n",
    "no_exis = len(df1[df1[u'EXISTING_SAVINGS'] == 'UNKNOWN'])\n",
    "\n",
    "new_df2 = {'EXISTING_SAVINGS': [exis], 'NO_EXISTING_SAVINGS': [no_exis]}\n",
    "\n",
    "check_savings = pd.DataFrame(data=new_df2)"
   ]
  },
  {
   "cell_type": "code",
   "execution_count": null,
   "metadata": {},
   "outputs": [],
   "source": [
    "check_savings"
   ]
  },
  {
   "cell_type": "code",
   "execution_count": null,
   "metadata": {},
   "outputs": [],
   "source": [
    "sns.set(style=\"darkgrid\")\n",
    "\n",
    "fig = sns.barplot(x=list(check_savings) ,y=[check_savings['EXISTING_SAVINGS'].iloc[0],\n",
    "                                            check_savings['NO_EXISTING_SAVINGS'].iloc[0]],\n",
    "                                            hue=list(check_savings))\n",
    "plt.title(\"Relação entre saldos verificados e não verificados\")\n",
    "plt.show(fig)"
   ]
  },
  {
   "cell_type": "code",
   "execution_count": null,
   "metadata": {},
   "outputs": [],
   "source": [
    "df1[df1['EXISTING_CREDITS_COUNT'].isnull()]"
   ]
  },
  {
   "cell_type": "markdown",
   "metadata": {},
   "source": [
    "## -  Análise Inicial de Dados 2 - 'demographics.csv'"
   ]
  },
  {
   "cell_type": "code",
   "execution_count": null,
   "metadata": {},
   "outputs": [],
   "source": [
    "df2"
   ]
  },
  {
   "cell_type": "code",
   "execution_count": null,
   "metadata": {},
   "outputs": [],
   "source": [
    "df2.info()"
   ]
  },
  {
   "cell_type": "markdown",
   "metadata": {},
   "source": [
    "### Qual o sexo dos clientes?"
   ]
  },
  {
   "cell_type": "code",
   "execution_count": null,
   "metadata": {},
   "outputs": [],
   "source": [
    "df2['SEX'].value_counts()"
   ]
  },
  {
   "cell_type": "code",
   "execution_count": null,
   "metadata": {},
   "outputs": [],
   "source": [
    "df2['SEX'].fillna(\"NR\", inplace = True)"
   ]
  },
  {
   "cell_type": "code",
   "execution_count": null,
   "metadata": {},
   "outputs": [],
   "source": [
    "# Dividi-se o dataset em 2, onde a variável check é compreendida pelas informações numéricas.\n",
    "sex_M = len(df2[df2[u'SEX'] == 'M'])\n",
    "sex_F = len(df2[df2[u'SEX'] == 'F'])\n",
    "sex_NR = len(df2[df2[u'SEX'] == 'NR']) # não respondido (NaN)\n",
    "\n",
    "new_df2 = {'M': [sex_M], 'F': [sex_F]}\n",
    "\n",
    "check_sex = pd.DataFrame(data=new_df2)"
   ]
  },
  {
   "cell_type": "code",
   "execution_count": null,
   "metadata": {},
   "outputs": [],
   "source": [
    "sns.set(style=\"darkgrid\")\n",
    "\n",
    "fig = sns.barplot(x=list(check_sex),\n",
    "                  y=[check_sex['M'].iloc[0],\n",
    "                     check_sex['F'].iloc[0]],\n",
    "                     hue=list(check_sex))\n",
    "plt.grid(None)\n",
    "plt.title(\"Relação entre gênero\")\n",
    "plt.rcParams[\"figure.figsize\"] = (4,6)\n",
    "plt.show(fig)"
   ]
  },
  {
   "cell_type": "markdown",
   "metadata": {},
   "source": [
    "Nesse caso, baseado nos dados optamos por apenas apresentar a relação entre o sexo Masculino e Feminino para dados bancários. Vale ressaltar que o índice percentual de pessoas que ou não responderam, ou que por alguma instabilidade do sistema não foi salva é de 0.4% no total (16 registros sem resposta). Mas isso não é tudo, é importante entender também qual amostra está a nossa disposição, no caso, essa amostra tem exatos 3936 dados."
   ]
  },
  {
   "cell_type": "markdown",
   "metadata": {},
   "source": [
    "### Qual a distribuição a cerca da idade dos nossos clientes?\n",
    "\n",
    "Para auxiliar nessa tarefa, criamos alguns filtros para compreender melhor a qual faixa etária os clientes da BanTotal pertencem. "
   ]
  },
  {
   "cell_type": "code",
   "execution_count": null,
   "metadata": {},
   "outputs": [],
   "source": [
    "#df2['AGE'].value_counts()"
   ]
  },
  {
   "cell_type": "code",
   "execution_count": null,
   "metadata": {},
   "outputs": [],
   "source": [
    "ax = sns.distplot(df2.AGE, kde = False, \n",
    "                  bins = [i*5 for(i) in range (15)])\n",
    "ax.set_xlabel(\"Idade das pessoas\", \n",
    "              fontsize = 20, \n",
    "              position=(0.5,0))\n",
    "\n",
    "ax.set_ylabel(\"Quantidade de pessoas\", \n",
    "              fontsize = 20, \n",
    "              position=(0.5,0.5))\n",
    "\n",
    "ax.grid(None)\n",
    "\n",
    "ax.set_title('Distribuição do número de pessoas', \n",
    "             fontsize = 20)\n",
    "\n",
    "ax.figure.set_size_inches(12,8)"
   ]
  },
  {
   "cell_type": "markdown",
   "metadata": {},
   "source": [
    "### Qual a distribuição que indica quantos dependentes nossos clientes têm?\n",
    "\n"
   ]
  },
  {
   "cell_type": "code",
   "execution_count": null,
   "metadata": {},
   "outputs": [],
   "source": [
    "df2['DEPENDENTS'].value_counts()"
   ]
  },
  {
   "cell_type": "code",
   "execution_count": null,
   "metadata": {},
   "outputs": [],
   "source": [
    "dep1 = len(df2[df2[u'DEPENDENTS'] == 1.0])\n",
    "dep2 = len(df2[df2[u'DEPENDENTS'] == 2.0])\n",
    "\n",
    "new_df3 = {'1.0': [dep1], '2.0': [dep2]}\n",
    "\n",
    "check_dependence = pd.DataFrame(data=new_df3)\n",
    "check_dependence"
   ]
  },
  {
   "cell_type": "code",
   "execution_count": null,
   "metadata": {},
   "outputs": [],
   "source": [
    "sns.set(style=\"darkgrid\")\n",
    "\n",
    "fig = sns.barplot(x=list(check_dependence),\n",
    "                  y=[check_dependence['1.0'].iloc[0],\n",
    "                     check_dependence['2.0'].iloc[0]],\n",
    "                     hue=list(check_dependence))\n",
    "plt.grid(None)\n",
    "plt.title(\"Relação entre dependentes\")\n",
    "plt.rcParams[\"figure.figsize\"] = (4,6)\n",
    "plt.show(fig)"
   ]
  },
  {
   "cell_type": "markdown",
   "metadata": {},
   "source": [
    "### O cliente tem telefone registrado no sistema?\n",
    "\n",
    "0 - não\n",
    "\n",
    "1 - sim\n"
   ]
  },
  {
   "cell_type": "code",
   "execution_count": null,
   "metadata": {},
   "outputs": [],
   "source": [
    "df2['TELEPHONE'].value_counts()"
   ]
  },
  {
   "cell_type": "code",
   "execution_count": null,
   "metadata": {},
   "outputs": [],
   "source": [
    "phone1 = len(df2[df2[u'TELEPHONE'] == 0.0])\n",
    "phone2 = len(df2[df2[u'TELEPHONE'] == 1.0])\n",
    "\n",
    "new_df4 = {'Sim': [phone1], 'Não': [phone2]}\n",
    "\n",
    "check_phone = pd.DataFrame(data=new_df4)"
   ]
  },
  {
   "cell_type": "code",
   "execution_count": null,
   "metadata": {},
   "outputs": [],
   "source": [
    "sns.set(style=\"darkgrid\")\n",
    "\n",
    "fig = sns.barplot(x=list(check_phone),\n",
    "                  y=[check_phone['Sim'].iloc[0],\n",
    "                     check_phone['Não'].iloc[0]],\n",
    "                     hue=list(check_phone))\n",
    "plt.grid(None)\n",
    "plt.title(\"O cliente tem telefone registrado no sistema?\")\n",
    "plt.rcParams[\"figure.figsize\"] = (6,8)\n",
    "plt.show(fig)"
   ]
  },
  {
   "cell_type": "markdown",
   "metadata": {},
   "source": [
    "### O cliente é um trabalhador estrangeiro?\n",
    "\n"
   ]
  },
  {
   "cell_type": "code",
   "execution_count": null,
   "metadata": {},
   "outputs": [],
   "source": [
    "df2['FOREIGN_WORKER'].value_counts()"
   ]
  },
  {
   "cell_type": "code",
   "execution_count": null,
   "metadata": {},
   "outputs": [],
   "source": [
    "w1 = len(df2[df2[u'FOREIGN_WORKER'] == 0.0])\n",
    "w2 = len(df2[df2[u'FOREIGN_WORKER'] == 1.0])\n",
    "\n",
    "new_df4 = {'Sim': [w2], 'Não': [w1]}\n",
    "\n",
    "check_worker = pd.DataFrame(data=new_df4)"
   ]
  },
  {
   "cell_type": "code",
   "execution_count": null,
   "metadata": {},
   "outputs": [],
   "source": [
    "sns.set(style=\"darkgrid\")\n",
    "\n",
    "fig = sns.barplot(x=list(check_worker),\n",
    "                  y=[check_worker['Sim'].iloc[0],\n",
    "                     check_worker['Não'].iloc[0]],\n",
    "                     hue=list(check_worker))\n",
    "plt.grid(None)\n",
    "plt.title(\"O cliente tem telefone registrado no sistema?\")\n",
    "plt.rcParams[\"figure.figsize\"] = (6,8)\n",
    "plt.show(fig)"
   ]
  },
  {
   "cell_type": "markdown",
   "metadata": {},
   "source": [
    "### Duração do Trabalho"
   ]
  },
  {
   "cell_type": "code",
   "execution_count": null,
   "metadata": {},
   "outputs": [],
   "source": [
    "df2['EMPLOYMENT_DURATION'].value_counts()"
   ]
  },
  {
   "cell_type": "code",
   "execution_count": null,
   "metadata": {},
   "outputs": [],
   "source": [
    "ax = sns.distplot(df2.EMPLOYMENT_DURATION, kde = False, \n",
    "                  bins = [i for(i) in range (17)])\n",
    "\n",
    "ax.set_xlabel(\"Duração de Trabalho\", \n",
    "              fontsize = 20, \n",
    "              position=(0.5,0))\n",
    "\n",
    "ax.set_ylabel(\"Quantidade de pessoas\", \n",
    "              fontsize = 20, \n",
    "              position=(0.5,0.5))\n",
    "\n",
    "ax.grid(None)\n",
    "\n",
    "ax.set_title('Distribuição da duração de trabalho', \n",
    "             fontsize = 20)\n",
    "\n",
    "ax.figure.set_size_inches(12,8)"
   ]
  },
  {
   "cell_type": "markdown",
   "metadata": {},
   "source": [
    "### Propriedade"
   ]
  },
  {
   "cell_type": "code",
   "execution_count": null,
   "metadata": {},
   "outputs": [],
   "source": [
    "df2['PROPERTY'].unique()"
   ]
  },
  {
   "cell_type": "markdown",
   "metadata": {},
   "source": [
    "### Habitação"
   ]
  },
  {
   "cell_type": "code",
   "execution_count": null,
   "metadata": {},
   "outputs": [],
   "source": [
    "df2['HOUSING'].unique()"
   ]
  },
  {
   "cell_type": "markdown",
   "metadata": {},
   "source": [
    "### Duração de Residência Atual"
   ]
  },
  {
   "cell_type": "code",
   "execution_count": null,
   "metadata": {},
   "outputs": [],
   "source": [
    "df2['CURRENT_RESIDENCE_DURATION'].value_counts()"
   ]
  },
  {
   "cell_type": "code",
   "execution_count": null,
   "metadata": {},
   "outputs": [],
   "source": [
    "crd1 = len(df2[df2[u'FOREIGN_WORKER'] == 1.0])\n",
    "crd2 = len(df2[df2[u'CURRENT_RESIDENCE_DURATION'] == 2.0])\n",
    "crd3 = len(df2[df2[u'CURRENT_RESIDENCE_DURATION'] == 3.0])\n",
    "crd4 = len(df2[df2[u'CURRENT_RESIDENCE_DURATION'] == 4.0])\n",
    "crd5 = len(df2[df2[u'CURRENT_RESIDENCE_DURATION'] == 5.0])\n",
    "crd6 = len(df2[df2[u'CURRENT_RESIDENCE_DURATION'] == 6.0])\n",
    "\n",
    "new_df5 = {'1': [crd1], '2': [crd2], '3': [crd3], '4': [crd4], '5': [crd5], '6': [crd6]}\n",
    "\n",
    "check_crd = pd.DataFrame(data=new_df5)"
   ]
  },
  {
   "cell_type": "code",
   "execution_count": null,
   "metadata": {},
   "outputs": [],
   "source": [
    "sns.set(style=\"darkgrid\")\n",
    "\n",
    "fig = sns.barplot(x=list(check_crd),\n",
    "                  y=[check_crd['1'].iloc[0],\n",
    "                     check_crd['2'].iloc[0],\n",
    "                     check_crd['3'].iloc[0],\n",
    "                     check_crd['4'].iloc[0],\n",
    "                     check_crd['5'].iloc[0],\n",
    "                     check_crd['6'].iloc[0]],\n",
    "                     hue=list(check_crd))\n",
    "plt.grid(None)\n",
    "plt.title(\"O cliente tem telefone registrado no sistema?\")\n",
    "plt.rcParams[\"figure.figsize\"] = (12,12)\n",
    "plt.show(fig)"
   ]
  },
  {
   "cell_type": "markdown",
   "metadata": {},
   "source": [
    "#### Questão x: De acordo com os insights obtidos nas questões anteriores, quais serão as decisões de tratamento a serem adotadas nos dados?\n",
    "\n"
   ]
  },
  {
   "cell_type": "markdown",
   "metadata": {},
   "source": [
    "## - Análise Inicial de Dados 3 - 'LOANS.csv'"
   ]
  },
  {
   "cell_type": "code",
   "execution_count": null,
   "metadata": {},
   "outputs": [],
   "source": [
    "df3"
   ]
  },
  {
   "cell_type": "markdown",
   "metadata": {},
   "source": [
    "Esse dataset é composto por informações amplamento correlacionadas a uma possível concessão de crédito para os clientes da BanTotal. Cada cliente é identificado por uma chave ID e também há outras variávéis como: Termo de Pagamento, Percentual de Parcelamento, Objetivo do Empréstimo, Montante do Empréstimo, Outros Empréstimos, Permitir. Mas fique atento, apenas a leitura superficial das colunas do conjunto de dados não é suficiente para tirar conclusões ou sair aplicando funções de limpeza de dados, é importante estudar individualmente cada variável e formular hipóteses de como remodelar essa variável para constribuir para o modelo que será construído. Um exemplo disso são as variáveis categóricas (não numéricas) contidas no conjunto de dados acima."
   ]
  },
  {
   "cell_type": "markdown",
   "metadata": {},
   "source": [
    "### Termo de Pagamento"
   ]
  },
  {
   "cell_type": "code",
   "execution_count": null,
   "metadata": {},
   "outputs": [],
   "source": [
    "df3.PAYMENT_TERM"
   ]
  },
  {
   "cell_type": "code",
   "execution_count": null,
   "metadata": {},
   "outputs": [],
   "source": [
    "ax = sns.distplot(df3.PAYMENT_TERM, kde = False)\n",
    "\n",
    "ax.set_xlabel(\"Termo de Pagamento\", \n",
    "              fontsize = 20, \n",
    "              position=(0.5,0))\n",
    "\n",
    "ax.set_ylabel(\"Clientes\", \n",
    "              fontsize = 20, \n",
    "              position=(0.5,0.5))\n",
    "\n",
    "ax.grid(None)\n",
    "\n",
    "ax.set_title('Distribuição da duração de trabalho', \n",
    "             fontsize = 20)\n",
    "\n",
    "ax.figure.set_size_inches(20,18)"
   ]
  },
  {
   "cell_type": "markdown",
   "metadata": {},
   "source": [
    "### Planos de Parcelamento"
   ]
  },
  {
   "cell_type": "code",
   "execution_count": null,
   "metadata": {},
   "outputs": [],
   "source": [
    "df3['INSTALLMENT_PLANS'].unique()"
   ]
  },
  {
   "cell_type": "markdown",
   "metadata": {},
   "source": [
    "### Percentual de Parcelamento"
   ]
  },
  {
   "cell_type": "code",
   "execution_count": null,
   "metadata": {},
   "outputs": [],
   "source": [
    "ax = sns.distplot(df3.INSTALLMENT_PERCENT, kde = False)\n",
    "\n",
    "ax.set_xlabel(\"Percentual de Parcelamento\", \n",
    "              fontsize = 20, \n",
    "              position=(0.5,0))\n",
    "\n",
    "ax.set_ylabel(\"Clientes\", \n",
    "              fontsize = 20, \n",
    "              position=(0.5,0.5))\n",
    "\n",
    "ax.grid(None)\n",
    "\n",
    "ax.set_title('Distribuição de Percentual de Parcelamento', \n",
    "             fontsize = 20)\n",
    "\n",
    "ax.figure.set_size_inches(5,5)"
   ]
  },
  {
   "cell_type": "markdown",
   "metadata": {},
   "source": [
    "### Objetivo do Empréstimo"
   ]
  },
  {
   "cell_type": "code",
   "execution_count": null,
   "metadata": {},
   "outputs": [],
   "source": [
    "aux = df3['LOAN_PURPOSE'].value_counts()\n",
    "aux"
   ]
  },
  {
   "cell_type": "code",
   "execution_count": null,
   "metadata": {},
   "outputs": [],
   "source": [
    "result = []\n",
    "for i in range(len(df3['LOAN_PURPOSE'].value_counts())):\n",
    "    result.append(aux[i])\n",
    "result"
   ]
  },
  {
   "cell_type": "code",
   "execution_count": null,
   "metadata": {},
   "outputs": [],
   "source": [
    "# Note que não conseguimos manipular as linhas apresentadas no objeto series gerado pela função .value_counts()\n",
    "# Para solucionar, transformamos esse objeto series em um dataframe e listamos os seus índices\n",
    "aux2 = pd.DataFrame(aux)\n",
    "montantes = list(aux2.index)\n",
    "montantes"
   ]
  },
  {
   "cell_type": "code",
   "execution_count": null,
   "metadata": {},
   "outputs": [],
   "source": [
    "# Plota-se o gráfico entre os tipos de objetivo de empréstimo e quantidade de clientes\n",
    "plt.rcParams[\"figure.figsize\"] = (8,7)\n",
    "plt.barh(montantes, result, color='blue')"
   ]
  },
  {
   "cell_type": "markdown",
   "metadata": {},
   "source": [
    "### Montante do Empréstimo"
   ]
  },
  {
   "cell_type": "code",
   "execution_count": null,
   "metadata": {},
   "outputs": [],
   "source": [
    "ax = sns.distplot(df3.LOAN_AMOUNT, kde = False)\n",
    "\n",
    "ax.set_xlabel(\"Percentual de Parcelamento\", \n",
    "              fontsize = 20, \n",
    "              position=(0.5,0))\n",
    "\n",
    "ax.set_ylabel(\"Clientes\", \n",
    "              fontsize = 20, \n",
    "              position=(0.5,0.5))\n",
    "\n",
    "ax.grid(None)\n",
    "\n",
    "ax.set_title('Distribuição do Montante do Empréstimo', \n",
    "             fontsize = 20)\n",
    "\n",
    "ax.figure.set_size_inches(12,10)"
   ]
  },
  {
   "cell_type": "markdown",
   "metadata": {},
   "source": [
    "### Outros Empréstimos Ativos"
   ]
  },
  {
   "cell_type": "code",
   "execution_count": null,
   "metadata": {},
   "outputs": [],
   "source": [
    "aux = df3['OTHERS_ON_LOAN'].value_counts()\n",
    "result = []\n",
    "for i in range(len(df3['OTHERS_ON_LOAN'].value_counts())):\n",
    "    result.append(aux[i])\n",
    "\n",
    "aux2 = pd.DataFrame(aux)\n",
    "others = list(aux2.index)\n",
    "\n",
    "plt.rcParams[\"figure.figsize\"] = (4,3)\n",
    "plt.barh(others, result, color='blue')"
   ]
  },
  {
   "cell_type": "markdown",
   "metadata": {},
   "source": [
    "# Permitir Empréstimo?\n",
    "\n",
    "Essa é variável no qual pretende-se classificar com a entrada de novos clientes. De forma objetiva, ela só pode retornar dois possíveis valores: 0 caso o modelo indique que o empréstimo não será concedido, e 1 caso o empréstimo será concedido."
   ]
  },
  {
   "cell_type": "code",
   "execution_count": null,
   "metadata": {},
   "outputs": [],
   "source": [
    "yes = len(df3[df3[u'ALLOW'] == 1])\n",
    "no = len(df3[df3[u'ALLOW'] == 0])\n",
    "\n",
    "new_df = {'Permitir': [yes], 'Não Permitir': [no]}\n",
    "\n",
    "check_allow = pd.DataFrame(data=new_df)\n",
    "\n",
    "sns.set(style=\"darkgrid\")\n",
    "\n",
    "fig = sns.barplot(x=list(check_allow),\n",
    "                  y=[check_allow['Permitir'].iloc[0],\n",
    "                     check_allow['Não Permitir'].iloc[0]],\n",
    "                     hue=list(check_allow))\n",
    "plt.grid(None)\n",
    "plt.title(\"Qual decisão empréstimo foi aprovado?\")\n",
    "plt.rcParams[\"figure.figsize\"] = (6,8)\n",
    "plt.show(fig)"
   ]
  },
  {
   "cell_type": "markdown",
   "metadata": {},
   "source": [
    "# Visão Geral\n",
    "\n",
    "Compreender cada variável é uma etapa importante no processo da resolução do problema, pois caso optemos por adicionar, tratar ou remover uma variável do modelo que será treinado e testado, é de suma importância entender o que essa variável representa e por qual razão foi tomada uma determinada decisão em relação a ela. Dessa maneira você receberá insights valiosos para a criação da sua narrativa para storytelling de dados.\n",
    "\n",
    "Mas isso não é tudo, na próxima seção será construído o tratamento de dados ausentes, variáveis categóricas e uma análise exploratória juntando as bases de dados através do Pandas."
   ]
  },
  {
   "cell_type": "markdown",
   "metadata": {},
   "source": [
    "# Tratamento de Dados\n",
    "\n",
    "O tratamento de dados pode ser construídos de 2 formas, a primeira trataria variáveis categóricas associadas a um id como 0 ou 1, seguindo a lógica de um \"One Hot Encoder\". Outra maneira, seria determinar índices associados a uma determinada variável categórica como, por exemplo: 0 - não informado, 1 - ruim, 2 - médio, 3 - bom."
   ]
  },
  {
   "cell_type": "markdown",
   "metadata": {},
   "source": [
    "## Tratamento de Dados 1 - Preparando a variável categórica 'histórico de crédito' para o modelo de classificação"
   ]
  },
  {
   "cell_type": "code",
   "execution_count": null,
   "metadata": {},
   "outputs": [],
   "source": [
    "enc = OneHotEncoder(cols=['CREDIT_HISTORY'], use_cat_names=True)\n",
    "enc.fit(df1)"
   ]
  },
  {
   "cell_type": "code",
   "execution_count": null,
   "metadata": {},
   "outputs": [],
   "source": [
    "df1['CREDIT_HISTORY'].nunique()"
   ]
  },
  {
   "cell_type": "code",
   "execution_count": null,
   "metadata": {
    "scrolled": true
   },
   "outputs": [],
   "source": [
    "new_df1 = enc.transform(df1)\n",
    "new_df1"
   ]
  },
  {
   "cell_type": "code",
   "execution_count": null,
   "metadata": {},
   "outputs": [],
   "source": []
  }
 ],
 "metadata": {
  "kernelspec": {
   "display_name": "Python 3",
   "language": "python",
   "name": "python3"
  },
  "language_info": {
   "codemirror_mode": {
    "name": "ipython",
    "version": 3
   },
   "file_extension": ".py",
   "mimetype": "text/x-python",
   "name": "python",
   "nbconvert_exporter": "python",
   "pygments_lexer": "ipython3",
   "version": "3.8.5"
  }
 },
 "nbformat": 4,
 "nbformat_minor": 4
}
